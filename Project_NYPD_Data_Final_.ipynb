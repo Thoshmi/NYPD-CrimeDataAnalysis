{
  "cells": [
    {
      "cell_type": "markdown",
      "metadata": {
        "id": "oSFS-DaK-usI"
      },
      "source": [
        "Dateutil.parser - A generic date/time string parser which is able to parse most known formats to represent a date and/or time"
      ]
    },
    {
      "cell_type": "code",
      "execution_count": 3,
      "metadata": {
        "id": "cWuc9ZizyefV"
      },
      "outputs": [],
      "source": [
        "import pandas as pd \n",
        "import numpy as np \n",
        "from pandas import read_csv\n",
        "import matplotlib.pyplot as plt\n",
        "import seaborn as sns\n",
        "from dateutil.parser import parse "
      ]
    },
    {
      "cell_type": "markdown",
      "metadata": {
        "id": "1DSOws3E_HWw"
      },
      "source": [
        "To read the csv file using parameters like header,squeeze. \n",
        "Squeeze function : If the parsed data only contains one column then return a Series."
      ]
    },
    {
      "cell_type": "code",
      "execution_count": 4,
      "metadata": {
        "id": "Q3kEg-sRymBe"
      },
      "outputs": [],
      "source": [
        "df = pd.read_csv('NYPD_Complaint_Data_Historic.csv',header=0, parse_dates=[0],index_col=0,squeeze=True)\n",
        "df.head()"
      ]
    },
    {
      "cell_type": "code",
      "execution_count": null,
      "metadata": {
        "id": "O3urgFkdp1tA"
      },
      "outputs": [],
      "source": [
        "##from google.colab import drive\n",
        "#@drive.mount('/content/drive')"
      ]
    },
    {
      "cell_type": "markdown",
      "metadata": {
        "id": "4vneIuyeBVwN"
      },
      "source": [
        "The size of the whole dataset in numerically listed below."
      ]
    },
    {
      "cell_type": "code",
      "execution_count": null,
      "metadata": {
        "colab": {
          "base_uri": "https://localhost:8080/"
        },
        "id": "M8pA0neVi0D2",
        "outputId": "2aebd959-5111-4e74-d759-27e02c5b4873"
      },
      "outputs": [
        {
          "output_type": "stream",
          "name": "stdout",
          "text": [
            "24117225\n"
          ]
        }
      ],
      "source": [
        "print(df.size)"
      ]
    },
    {
      "cell_type": "markdown",
      "metadata": {
        "id": "WYAbBqP8BF4G"
      },
      "source": [
        "In the below cell describe() is used to view some basic details like percentile, mean, std etc. of a nypd data frame. "
      ]
    },
    {
      "cell_type": "code",
      "execution_count": null,
      "metadata": {
        "id": "d3Vw5TyJ2b6O"
      },
      "outputs": [],
      "source": [
        "df.describe()"
      ]
    },
    {
      "cell_type": "markdown",
      "metadata": {
        "id": "fFKIH5ypBhM6"
      },
      "source": [
        "The whole dataset is divided into head and tail so that it gets easier to deal with the big dataset. In the cell 10rows from the tail of the dataset are printed for view purpose."
      ]
    },
    {
      "cell_type": "code",
      "execution_count": null,
      "metadata": {
        "colab": {
          "base_uri": "https://localhost:8080/"
        },
        "id": "O0-6hUNoisuS",
        "outputId": "18b874f0-bac9-4fdc-8ee8-fceaf98b1be5"
      },
      "outputs": [
        {
          "output_type": "stream",
          "name": "stdout",
          "text": [
            "           CMPLNT_FR_DT CMPLNT_FR_TM CMPLNT_TO_DT CMPLNT_TO_TM     RPT_DT  \\\n",
            "CMPLNT_NUM                                                                  \n",
            "613074270     11/1/2013     20:30:00    11/1/2013     20:58:00  11/1/2013   \n",
            "418397085     11/1/2013     20:30:00    11/1/2013     20:35:00  11/1/2013   \n",
            "296927118     11/1/2013     20:30:00    11/1/2013     20:30:00  11/1/2013   \n",
            "721704870     11/1/2013     20:30:00          NaN          NaN  11/1/2013   \n",
            "836175287     11/1/2013     20:30:00    11/1/2013     20:40:00  11/1/2013   \n",
            "317154175     11/1/2013     20:30:00    11/1/2013     21:00:00  11/1/2013   \n",
            "833410354     11/1/2013     20:28:00    11/1/2013     20:31:00  11/1/2013   \n",
            "961949188     11/1/2013     20:25:00          NaN          NaN  11/1/2013   \n",
            "157608118     11/1/2013     20:25:00    11/1/2013     20:45:00  11/1/2013   \n",
            "176151924     11/1/2013     20:25:00    11/1/2013     20:30:00  11/1/2013   \n",
            "\n",
            "            KY_CD                       OFNS_DESC  PD_CD  \\\n",
            "CMPLNT_NUM                                                 \n",
            "613074270     113                         FORGERY  729.0   \n",
            "418397085     109                   GRAND LARCENY  404.0   \n",
            "296927118     105                         ROBBERY  397.0   \n",
            "721704870     578                   HARRASSMENT 2  638.0   \n",
            "836175287     341                   PETIT LARCENY  338.0   \n",
            "317154175     341                   PETIT LARCENY  338.0   \n",
            "833410354     344    ASSAULT 3 & RELATED OFFENSES  113.0   \n",
            "961949188     121  CRIMINAL MISCHIEF & RELATED OF  269.0   \n",
            "157608118     235                 DANGEROUS DRUGS  511.0   \n",
            "176151924     236               DANGEROUS WEAPONS  782.0   \n",
            "\n",
            "                                                      PD_DESC  \\\n",
            "CMPLNT_NUM                                                      \n",
            "613074270                      FORGERY,ETC.,UNCLASSIFIED-FELO   \n",
            "418397085   LARCENY,GRAND FROM PERSON,PERSONAL ELECTRONIC ...   \n",
            "296927118                      ROBBERY,OPEN AREA UNCLASSIFIED   \n",
            "721704870                               HARASSMENT,SUBD 3,4,5   \n",
            "836175287                      LARCENY,PETIT FROM BUILDING,UN   \n",
            "317154175                      LARCENY,PETIT FROM BUILDING,UN   \n",
            "833410354                               MENACING,UNCLASSIFIED   \n",
            "961949188                      MISCHIEF,CRIMINAL,    UNCL 2ND   \n",
            "157608118                      CONTROLLED SUBSTANCE, POSSESSI   \n",
            "176151924                            WEAPONS, POSSESSION, ETC   \n",
            "\n",
            "           CRM_ATPT_CPTD_CD  ... ADDR_PCT_CD LOC_OF_OCCUR_DESC  \\\n",
            "CMPLNT_NUM                   ...                                 \n",
            "613074270         COMPLETED  ...        28.0               NaN   \n",
            "418397085         COMPLETED  ...        84.0               NaN   \n",
            "296927118         COMPLETED  ...        48.0               NaN   \n",
            "721704870         COMPLETED  ...        17.0          FRONT OF   \n",
            "836175287         COMPLETED  ...        18.0            INSIDE   \n",
            "317154175         COMPLETED  ...        40.0            INSIDE   \n",
            "833410354         COMPLETED  ...        75.0          FRONT OF   \n",
            "961949188         COMPLETED  ...         1.0            INSIDE   \n",
            "157608118         COMPLETED  ...        52.0          FRONT OF   \n",
            "176151924         COMPLETED  ...        32.0               NaN   \n",
            "\n",
            "                     PREM_TYP_DESC  PARKS_NM HADEVELOPT X_COORD_CD Y_COORD_CD  \\\n",
            "CMPLNT_NUM                                                                      \n",
            "613074270     TRANSIT - NYC SUBWAY       NaN        NaN   999342.0   233575.0   \n",
            "418397085     TRANSIT - NYC SUBWAY       NaN        NaN   989387.0   190637.0   \n",
            "296927118                   STREET       NaN        NaN  1016029.0   252049.0   \n",
            "721704870                   STREET       NaN        NaN   992200.0   212322.0   \n",
            "836175287         RESTAURANT/DINER       NaN        NaN   989320.0   218824.0   \n",
            "317154175   RESIDENCE - APT. HOUSE       NaN        NaN  1006185.0   233271.0   \n",
            "833410354           GROCERY/BODEGA       NaN        NaN  1013319.0   180075.0   \n",
            "961949188                FAST FOOD       NaN        NaN   982953.0   203013.0   \n",
            "157608118                   STREET       NaN        NaN  1019388.0   259017.0   \n",
            "176151924     TRANSIT - NYC SUBWAY       NaN        NaN  1000622.0   235883.0   \n",
            "\n",
            "             Latitude  Longitude                        Lat_Lon  \n",
            "CMPLNT_NUM                                                       \n",
            "613074270   40.807781 -73.945485  (40.807780622, -73.945484727)  \n",
            "418397085   40.689938 -73.981478  (40.689938022, -73.981477894)  \n",
            "296927118   40.858442 -73.885119  (40.858442136, -73.885118929)  \n",
            "721704870   40.749456 -73.971309  (40.749456053, -73.971308865)  \n",
            "836175287   40.767305 -73.981698  (40.767304504, -73.981698256)  \n",
            "317154175   40.806932 -73.920767  (40.806931888, -73.920766811)  \n",
            "833410354   40.660901 -73.895227  (40.660901484, -73.895226891)  \n",
            "961949188   40.723909 -74.004681  (40.723908621, -74.004680695)  \n",
            "157608118   40.877554 -73.872939  (40.877554428, -73.872939471)  \n",
            "176151924   40.814113 -73.940855  (40.814113161, -73.940855365)  \n",
            "\n",
            "[10 rows x 23 columns]\n"
          ]
        }
      ],
      "source": [
        "print(df.tail(10))"
      ]
    },
    {
      "cell_type": "markdown",
      "metadata": {
        "id": "vKMGLvS_CCPC"
      },
      "source": [
        "Frequency based on the type of crimes that occured in the whole dataset"
      ]
    },
    {
      "cell_type": "code",
      "execution_count": null,
      "metadata": {
        "colab": {
          "base_uri": "https://localhost:8080/"
        },
        "id": "89uEX3YA_6KF",
        "outputId": "b17544d1-b761-43a7-d16a-31f6276159f9"
      },
      "outputs": [
        {
          "output_type": "execute_result",
          "data": {
            "text/plain": [
              "ASSAULT 3                              93214\n",
              "HARASSMENT,SUBD 3,4,5                  89064\n",
              "LARCENY,PETIT FROM STORE-SHOPL         57638\n",
              "LARCENY,PETIT FROM BUILDING,UN         47733\n",
              "AGGRAVATED HARASSMENT 2                44246\n",
              "                                       ...  \n",
              "NEGLECT/POISON ANIMAL                      1\n",
              "FORTUNE TELLING                            1\n",
              "GENERAL BUSINESS LAW / UNCLASSIFIED        1\n",
              "NUISANCE, CRIMINAL                         1\n",
              "CHILD,LICENSED PREMISES                    1\n",
              "Name: PD_DESC, Length: 373, dtype: int64"
            ]
          },
          "metadata": {},
          "execution_count": 7
        }
      ],
      "source": [
        "Freq=df['PD_DESC'].value_counts()\n",
        "Freq"
      ]
    },
    {
      "cell_type": "markdown",
      "metadata": {
        "id": "tf9PMwuGCHvG"
      },
      "source": [
        "The info function displays the datatype each column in the nypd datset holds. Also the count of all nonnull values is displayed here."
      ]
    },
    {
      "cell_type": "markdown",
      "metadata": {
        "id": "AUBZWjUdDGgA"
      },
      "source": [
        "Frequency of crimes that occur in different Precincts.The despine function removes the spines from the right and upper portion of the plot by default."
      ]
    },
    {
      "cell_type": "code",
      "execution_count": null,
      "metadata": {
        "colab": {
          "base_uri": "https://localhost:8080/",
          "height": 385
        },
        "id": "uL5OPUuF7Mc-",
        "outputId": "677223fb-2f86-4210-cc47-9aefeac89247"
      },
      "outputs": [
        {
          "output_type": "display_data",
          "data": {
            "text/plain": [
              "<Figure size 360x360 with 1 Axes>"
            ],
            "image/png": "[encoded data removed]"
          },
          "metadata": {
            "needs_background": "light"
          }
        }
      ],
      "source": [
        "sns.displot(df['ADDR_PCT_CD'])\n",
        "plt.title(\"Frequency of Precinct Crime Occurences\")\n",
        "sns.despine()"
      ]
    },
    {
      "cell_type": "markdown",
      "metadata": {
        "id": "2tAHFBKEDp7u"
      },
      "source": [
        "Frequency sampling is attained by using random sampling."
      ]
    },
    {
      "cell_type": "code",
      "execution_count": null,
      "metadata": {
        "colab": {
          "base_uri": "https://localhost:8080/"
        },
        "id": "DVBdUlR7F9L5",
        "outputId": "7d7b9452-686c-405f-8e9a-e271b0c475d6"
      },
      "outputs": [
        {
          "output_type": "execute_result",
          "data": {
            "text/plain": [
              "1150"
            ]
          },
          "metadata": {},
          "execution_count": 9
        }
      ],
      "source": [
        "from random import sample\n",
        "samp=df.sample(50)\n",
        "samp.size"
      ]
    },
    {
      "cell_type": "markdown",
      "metadata": {
        "id": "mgoNpgrhDydO"
      },
      "source": [
        "The frequency based on the type of crimes that occur in the sample of data taken"
      ]
    },
    {
      "cell_type": "code",
      "execution_count": null,
      "metadata": {
        "colab": {
          "base_uri": "https://localhost:8080/"
        },
        "id": "ftnOw9DEFiWz",
        "outputId": "3062b38b-dd00-4c7b-8494-d7a40304a5de"
      },
      "outputs": [
        {
          "output_type": "execute_result",
          "data": {
            "text/plain": [
              "LARCENY,PETIT FROM BUILDING,UN               6\n",
              "CRIMINAL MISCHIEF,UNCLASSIFIED 4             4\n",
              "LARCENY,PETIT FROM STORE-SHOPL               4\n",
              "HARASSMENT,SUBD 3,4,5                        4\n",
              "MISCHIEF, CRIMINAL 4, OF MOTOR               3\n",
              "ASSAULT 3                                    3\n",
              "LARCENY,GRAND FROM VEHICLE/MOTORCYCLE        2\n",
              "MARIJUANA, POSSESSION 4 & 5                  2\n",
              "HARASSMENT,SUBD 1,CIVILIAN                   2\n",
              "AGGRAVATED HARASSMENT 2                      2\n",
              "LARCENY,PETIT FROM AUTO                      2\n",
              "ASSAULT 2,1,UNCLASSIFIED                     2\n",
              "BURGLARY,COMMERCIAL,NIGHT                    2\n",
              "LEAVING SCENE-ACCIDENT-PERSONA               2\n",
              "LARCENY,GRAND FROM PERSON,UNCL               1\n",
              "LARCENY,GRAND OF AUTO                        1\n",
              "BRIBERY,PUBLIC ADMINISTRATION                1\n",
              "FORGERY,ETC.,UNCLASSIFIED-FELO               1\n",
              "ROBBERY,OPEN AREA UNCLASSIFIED               1\n",
              "PUBLIC ADMINISTRATION,UNCLASSI               1\n",
              "INTOXICATED DRIVING,ALCOHOL                  1\n",
              "LARCENY,GRAND FROM NIGHT CLUB, UNATTENDED    1\n",
              "WEAPONS, POSSESSION, ETC                     1\n",
              "LARCENY,GRAND BY DISHONEST EMP               1\n",
              "Name: PD_DESC, dtype: int64"
            ]
          },
          "metadata": {},
          "execution_count": 10
        }
      ],
      "source": [
        "FreqSamp=samp['PD_DESC'].value_counts()\n",
        "FreqSamp"
      ]
    },
    {
      "cell_type": "markdown",
      "metadata": {
        "id": "pfetAGCuFMzK"
      },
      "source": [
        "Size of all the types of crimes in the sample, with the function size()."
      ]
    },
    {
      "cell_type": "code",
      "execution_count": null,
      "metadata": {
        "colab": {
          "base_uri": "https://localhost:8080/"
        },
        "id": "hI0dQg4jAKPu",
        "outputId": "3aa702e5-4064-4d97-c81a-7f1847c280ed"
      },
      "outputs": [
        {
          "output_type": "execute_result",
          "data": {
            "text/plain": [
              "373"
            ]
          },
          "metadata": {},
          "execution_count": 11
        }
      ],
      "source": [
        "#Size of all the types of crimes in the sample\n",
        "Freq.size"
      ]
    },
    {
      "cell_type": "markdown",
      "metadata": {
        "id": "ukdps1UoFXLT"
      },
      "source": [
        "samp.squeeze() - Puts data together in a single dimensional array"
      ]
    },
    {
      "cell_type": "code",
      "execution_count": null,
      "metadata": {
        "colab": {
          "base_uri": "https://localhost:8080/"
        },
        "id": "J8WxcCZ5Hdn4",
        "outputId": "fbf0e166-b823-4b21-a045-366d2d6ac503"
      },
      "outputs": [
        {
          "output_type": "execute_result",
          "data": {
            "text/plain": [
              "LARCENY,PETIT FROM BUILDING,UN               6\n",
              "CRIMINAL MISCHIEF,UNCLASSIFIED 4             4\n",
              "LARCENY,PETIT FROM STORE-SHOPL               4\n",
              "HARASSMENT,SUBD 3,4,5                        4\n",
              "MISCHIEF, CRIMINAL 4, OF MOTOR               3\n",
              "ASSAULT 3                                    3\n",
              "LARCENY,GRAND FROM VEHICLE/MOTORCYCLE        2\n",
              "MARIJUANA, POSSESSION 4 & 5                  2\n",
              "HARASSMENT,SUBD 1,CIVILIAN                   2\n",
              "AGGRAVATED HARASSMENT 2                      2\n",
              "LARCENY,PETIT FROM AUTO                      2\n",
              "ASSAULT 2,1,UNCLASSIFIED                     2\n",
              "BURGLARY,COMMERCIAL,NIGHT                    2\n",
              "LEAVING SCENE-ACCIDENT-PERSONA               2\n",
              "LARCENY,GRAND FROM PERSON,UNCL               1\n",
              "LARCENY,GRAND OF AUTO                        1\n",
              "BRIBERY,PUBLIC ADMINISTRATION                1\n",
              "FORGERY,ETC.,UNCLASSIFIED-FELO               1\n",
              "ROBBERY,OPEN AREA UNCLASSIFIED               1\n",
              "PUBLIC ADMINISTRATION,UNCLASSI               1\n",
              "INTOXICATED DRIVING,ALCOHOL                  1\n",
              "LARCENY,GRAND FROM NIGHT CLUB, UNATTENDED    1\n",
              "WEAPONS, POSSESSION, ETC                     1\n",
              "LARCENY,GRAND BY DISHONEST EMP               1\n",
              "Name: PD_DESC, dtype: int64"
            ]
          },
          "metadata": {},
          "execution_count": 12
        }
      ],
      "source": [
        "sampSeries = samp.squeeze()\n",
        "#Gets frequency of crimes after squeeze\n",
        "sampSeries[\"PD_DESC\"].value_counts()"
      ]
    },
    {
      "cell_type": "code",
      "execution_count": null,
      "metadata": {
        "colab": {
          "base_uri": "https://localhost:8080/"
        },
        "id": "I21lH-30niKA",
        "outputId": "4917a98d-5ae4-47a0-d37d-9185353cde26"
      },
      "outputs": [
        {
          "output_type": "stream",
          "name": "stdout",
          "text": [
            "<class 'pandas.core.frame.DataFrame'>\n",
            "Int64Index: 50 entries, 802050431 to 621672278\n",
            "Data columns (total 23 columns):\n",
            " #   Column             Non-Null Count  Dtype  \n",
            "---  ------             --------------  -----  \n",
            " 0   CMPLNT_FR_DT       50 non-null     object \n",
            " 1   CMPLNT_FR_TM       50 non-null     object \n",
            " 2   CMPLNT_TO_DT       39 non-null     object \n",
            " 3   CMPLNT_TO_TM       39 non-null     object \n",
            " 4   RPT_DT             50 non-null     object \n",
            " 5   KY_CD              50 non-null     int64  \n",
            " 6   OFNS_DESC          50 non-null     object \n",
            " 7   PD_CD              50 non-null     float64\n",
            " 8   PD_DESC            50 non-null     object \n",
            " 9   CRM_ATPT_CPTD_CD   50 non-null     object \n",
            " 10  LAW_CAT_CD         50 non-null     object \n",
            " 11  JURIS_DESC         50 non-null     object \n",
            " 12  BORO_NM            50 non-null     object \n",
            " 13  ADDR_PCT_CD        50 non-null     float64\n",
            " 14  LOC_OF_OCCUR_DESC  41 non-null     object \n",
            " 15  PREM_TYP_DESC      48 non-null     object \n",
            " 16  PARKS_NM           0 non-null      object \n",
            " 17  HADEVELOPT         0 non-null      object \n",
            " 18  X_COORD_CD         50 non-null     float64\n",
            " 19  Y_COORD_CD         50 non-null     float64\n",
            " 20  Latitude           50 non-null     float64\n",
            " 21  Longitude          50 non-null     float64\n",
            " 22  Lat_Lon            50 non-null     object \n",
            "dtypes: float64(6), int64(1), object(16)\n",
            "memory usage: 9.4+ KB\n"
          ]
        }
      ],
      "source": [
        "sampSeries.info()"
      ]
    },
    {
      "cell_type": "code",
      "execution_count": null,
      "metadata": {
        "colab": {
          "base_uri": "https://localhost:8080/",
          "height": 1000
        },
        "id": "_dHeG1NdoSjQ",
        "outputId": "ceac9517-91c4-4335-fce0-4bd28b13a683"
      },
      "outputs": [
        {
          "output_type": "execute_result",
          "data": {
            "text/plain": [
              "           CMPLNT_FR_DT CMPLNT_FR_TM CMPLNT_TO_DT CMPLNT_TO_TM      RPT_DT  \\\n",
              "CMPLNT_NUM                                                                   \n",
              "802050431     11/5/2015     13:50:00    11/5/2015     14:00:00   11/5/2015   \n",
              "623599012      9/9/2014     19:45:00     9/9/2014     21:00:00    9/9/2014   \n",
              "559206214    11/11/2014     21:40:00   11/11/2014     21:45:00  11/11/2014   \n",
              "481663622     7/16/2014     19:40:00    7/19/2014      9:00:00   7/19/2014   \n",
              "111463044     6/11/2015     21:19:00          NaN          NaN   6/11/2015   \n",
              "281024091      1/8/2015      9:30:00     1/8/2015     10:00:00    1/8/2015   \n",
              "877531483     9/24/2014     22:10:00    9/24/2014     22:20:00   9/26/2014   \n",
              "333113898     4/30/2014     14:13:00    4/30/2014     14:16:00    7/2/2014   \n",
              "749608820      8/9/2015      0:08:00     8/9/2015      2:41:00    8/9/2015   \n",
              "765251053     8/16/2015     12:10:00    8/16/2015     12:15:00   8/16/2015   \n",
              "255937437     4/14/2015     17:55:00    4/14/2015     17:57:00   4/14/2015   \n",
              "140659794      1/7/2015     16:00:00     1/7/2015     16:30:00    1/7/2015   \n",
              "729996516     3/31/2015      9:25:00    3/31/2015      9:41:00   3/31/2015   \n",
              "165693258      2/9/2014      0:05:00     2/9/2014      0:10:00    2/9/2014   \n",
              "811295856      1/8/2015     16:00:00     1/8/2015     16:20:00    1/8/2015   \n",
              "583276054     2/11/2014     23:30:00    2/12/2014      0:01:00   2/12/2014   \n",
              "303012861     5/23/2015      1:56:00          NaN          NaN   5/23/2015   \n",
              "482651319    10/31/2015     16:30:00   10/31/2015     16:41:00  10/31/2015   \n",
              "844439549     5/21/2014      9:00:00          NaN          NaN    8/4/2014   \n",
              "695461497     12/2/2015     17:15:00    12/2/2015     17:30:00   12/2/2015   \n",
              "426919524     3/12/2015     17:36:00    3/12/2015     21:30:00   3/13/2015   \n",
              "205732101     8/14/2014      0:01:00    8/14/2014      0:09:00   8/14/2014   \n",
              "348638783      5/7/2015     12:30:00          NaN          NaN    5/7/2015   \n",
              "165179263    11/23/2015     20:46:00          NaN          NaN  11/23/2015   \n",
              "414495240     3/31/2015     12:00:00    3/31/2015     20:26:00   3/31/2015   \n",
              "705841927      3/2/2014     17:35:00          NaN          NaN    3/2/2014   \n",
              "673171949     12/2/2013     14:00:00          NaN          NaN  12/19/2013   \n",
              "418536094      4/5/2014     11:15:00     4/5/2014     11:17:00    4/5/2014   \n",
              "187313344     7/21/2015      4:00:00    7/21/2015      4:10:00   7/21/2015   \n",
              "359690039    10/20/2014     21:55:00          NaN          NaN  10/22/2014   \n",
              "205008971    12/20/2014     17:15:00   12/20/2014     17:38:00  12/20/2014   \n",
              "510611877     7/21/2015      2:15:00          NaN          NaN   7/21/2015   \n",
              "262024380     1/31/2014     21:45:00    1/31/2014     22:00:00   1/31/2014   \n",
              "346490596      7/2/2014     13:20:00     7/2/2014     13:23:00    7/2/2014   \n",
              "986765504     11/3/2015     14:15:00    11/3/2015     14:20:00   11/3/2015   \n",
              "837796051     4/27/2014      5:00:00    4/27/2014      5:32:00   4/27/2014   \n",
              "292613975     2/15/2015     12:00:00     5/7/2015     14:50:00    5/7/2015   \n",
              "727147379      8/3/2015     13:30:00     8/3/2015     14:00:00    8/3/2015   \n",
              "669320263     1/30/2015     14:15:00    1/30/2015     14:20:00   1/30/2015   \n",
              "692636342      4/3/2013      9:00:00    10/2/2015      9:00:00   10/3/2015   \n",
              "879643705     7/19/2015     13:50:00    7/19/2015     13:50:00   7/19/2015   \n",
              "285746315     4/21/2015      2:15:00    4/21/2015      2:45:00   4/21/2015   \n",
              "395719403      2/7/2014     19:30:00     2/7/2014     20:12:00    2/7/2014   \n",
              "136942009    10/31/2015     18:55:00   10/31/2015     18:55:00  10/31/2015   \n",
              "562538979    12/13/2015      0:00:00   12/13/2015      0:13:00  12/13/2015   \n",
              "705091937     3/25/2015     18:20:00    3/25/2015     18:30:00   3/25/2015   \n",
              "185959648    11/28/2013      4:38:00   11/28/2013      4:40:00  11/28/2013   \n",
              "624262344    11/26/2015     19:15:00   11/26/2015     19:30:00  11/26/2015   \n",
              "515286632     6/16/2015     15:00:00          NaN          NaN   6/16/2015   \n",
              "621672278    11/18/2015     13:20:00          NaN          NaN   12/7/2015   \n",
              "\n",
              "            KY_CD                       OFNS_DESC  PD_CD  \\\n",
              "CMPLNT_NUM                                                 \n",
              "802050431     109                   GRAND LARCENY  421.0   \n",
              "623599012     341                   PETIT LARCENY  321.0   \n",
              "559206214     351  CRIMINAL MISCHIEF & RELATED OF  259.0   \n",
              "481663622     341                   PETIT LARCENY  333.0   \n",
              "111463044     236               DANGEROUS WEAPONS  782.0   \n",
              "281024091     341                   PETIT LARCENY  338.0   \n",
              "877531483     344    ASSAULT 3 & RELATED OFFENSES  101.0   \n",
              "333113898     341                   PETIT LARCENY  338.0   \n",
              "749608820     107                        BURGLARY  213.0   \n",
              "765251053     341                   PETIT LARCENY  333.0   \n",
              "255937437     344    ASSAULT 3 & RELATED OFFENSES  101.0   \n",
              "140659794     341                   PETIT LARCENY  338.0   \n",
              "729996516     126         MISCELLANEOUS PENAL LAW  760.0   \n",
              "165693258     110  GRAND LARCENY OF MOTOR VEHICLE  441.0   \n",
              "811295856     109                   GRAND LARCENY  419.0   \n",
              "583276054     351  CRIMINAL MISCHIEF & RELATED OF  254.0   \n",
              "303012861     341                   PETIT LARCENY  338.0   \n",
              "482651319     106                  FELONY ASSAULT  109.0   \n",
              "844439549     341                   PETIT LARCENY  338.0   \n",
              "695461497     361   OFF. AGNST PUB ORD SENSBLTY &  639.0   \n",
              "426919524     351  CRIMINAL MISCHIEF & RELATED OF  254.0   \n",
              "205732101     341                   PETIT LARCENY  333.0   \n",
              "348638783     578                   HARRASSMENT 2  638.0   \n",
              "165179263     113                         FORGERY  729.0   \n",
              "414495240     351  CRIMINAL MISCHIEF & RELATED OF  254.0   \n",
              "705841927     105                         ROBBERY  397.0   \n",
              "673171949     578                   HARRASSMENT 2  638.0   \n",
              "418536094     126         MISCELLANEOUS PENAL LAW  779.0   \n",
              "187313344     347  INTOXICATED & IMPAIRED DRIVING  905.0   \n",
              "359690039     578                   HARRASSMENT 2  637.0   \n",
              "205008971     351  CRIMINAL MISCHIEF & RELATED OF  259.0   \n",
              "510611877     106                  FELONY ASSAULT  109.0   \n",
              "262024380     109                   GRAND LARCENY  416.0   \n",
              "346490596     341                   PETIT LARCENY  333.0   \n",
              "986765504     235                 DANGEROUS DRUGS  567.0   \n",
              "837796051     109                   GRAND LARCENY  421.0   \n",
              "292613975     109                   GRAND LARCENY  407.0   \n",
              "727147379     578                   HARRASSMENT 2  638.0   \n",
              "669320263     351  CRIMINAL MISCHIEF & RELATED OF  259.0   \n",
              "692636342     361   OFF. AGNST PUB ORD SENSBLTY &  639.0   \n",
              "879643705     344    ASSAULT 3 & RELATED OFFENSES  101.0   \n",
              "285746315     107                        BURGLARY  213.0   \n",
              "395719403     341                   PETIT LARCENY  338.0   \n",
              "136942009     351  CRIMINAL MISCHIEF & RELATED OF  259.0   \n",
              "562538979     235                 DANGEROUS DRUGS  567.0   \n",
              "705091937     348        VEHICLE AND TRAFFIC LAWS  916.0   \n",
              "185959648     348        VEHICLE AND TRAFFIC LAWS  916.0   \n",
              "624262344     341                   PETIT LARCENY  321.0   \n",
              "515286632     578                   HARRASSMENT 2  638.0   \n",
              "621672278     578                   HARRASSMENT 2  637.0   \n",
              "\n",
              "                                              PD_DESC CRM_ATPT_CPTD_CD  ...  \\\n",
              "CMPLNT_NUM                                                              ...   \n",
              "802050431       LARCENY,GRAND FROM VEHICLE/MOTORCYCLE        COMPLETED  ...   \n",
              "623599012                     LARCENY,PETIT FROM AUTO        COMPLETED  ...   \n",
              "559206214            CRIMINAL MISCHIEF,UNCLASSIFIED 4        COMPLETED  ...   \n",
              "481663622              LARCENY,PETIT FROM STORE-SHOPL        COMPLETED  ...   \n",
              "111463044                    WEAPONS, POSSESSION, ETC        COMPLETED  ...   \n",
              "281024091              LARCENY,PETIT FROM BUILDING,UN        COMPLETED  ...   \n",
              "877531483                                   ASSAULT 3        COMPLETED  ...   \n",
              "333113898              LARCENY,PETIT FROM BUILDING,UN        COMPLETED  ...   \n",
              "749608820                   BURGLARY,COMMERCIAL,NIGHT        COMPLETED  ...   \n",
              "765251053              LARCENY,PETIT FROM STORE-SHOPL        COMPLETED  ...   \n",
              "255937437                                   ASSAULT 3        COMPLETED  ...   \n",
              "140659794              LARCENY,PETIT FROM BUILDING,UN        COMPLETED  ...   \n",
              "729996516               BRIBERY,PUBLIC ADMINISTRATION        COMPLETED  ...   \n",
              "165693258                       LARCENY,GRAND OF AUTO        COMPLETED  ...   \n",
              "811295856              LARCENY,GRAND FROM PERSON,UNCL        COMPLETED  ...   \n",
              "583276054              MISCHIEF, CRIMINAL 4, OF MOTOR        COMPLETED  ...   \n",
              "303012861              LARCENY,PETIT FROM BUILDING,UN        COMPLETED  ...   \n",
              "482651319                    ASSAULT 2,1,UNCLASSIFIED        COMPLETED  ...   \n",
              "844439549              LARCENY,PETIT FROM BUILDING,UN        COMPLETED  ...   \n",
              "695461497                     AGGRAVATED HARASSMENT 2        COMPLETED  ...   \n",
              "426919524              MISCHIEF, CRIMINAL 4, OF MOTOR        COMPLETED  ...   \n",
              "205732101              LARCENY,PETIT FROM STORE-SHOPL        ATTEMPTED  ...   \n",
              "348638783                       HARASSMENT,SUBD 3,4,5        COMPLETED  ...   \n",
              "165179263              FORGERY,ETC.,UNCLASSIFIED-FELO        COMPLETED  ...   \n",
              "414495240              MISCHIEF, CRIMINAL 4, OF MOTOR        COMPLETED  ...   \n",
              "705841927              ROBBERY,OPEN AREA UNCLASSIFIED        ATTEMPTED  ...   \n",
              "673171949                       HARASSMENT,SUBD 3,4,5        COMPLETED  ...   \n",
              "418536094              PUBLIC ADMINISTRATION,UNCLASSI        COMPLETED  ...   \n",
              "187313344                 INTOXICATED DRIVING,ALCOHOL        COMPLETED  ...   \n",
              "359690039                  HARASSMENT,SUBD 1,CIVILIAN        COMPLETED  ...   \n",
              "205008971            CRIMINAL MISCHIEF,UNCLASSIFIED 4        COMPLETED  ...   \n",
              "510611877                    ASSAULT 2,1,UNCLASSIFIED        COMPLETED  ...   \n",
              "262024380   LARCENY,GRAND FROM NIGHT CLUB, UNATTENDED        COMPLETED  ...   \n",
              "346490596              LARCENY,PETIT FROM STORE-SHOPL        COMPLETED  ...   \n",
              "986765504                 MARIJUANA, POSSESSION 4 & 5        COMPLETED  ...   \n",
              "837796051       LARCENY,GRAND FROM VEHICLE/MOTORCYCLE        COMPLETED  ...   \n",
              "292613975              LARCENY,GRAND BY DISHONEST EMP        COMPLETED  ...   \n",
              "727147379                       HARASSMENT,SUBD 3,4,5        COMPLETED  ...   \n",
              "669320263            CRIMINAL MISCHIEF,UNCLASSIFIED 4        COMPLETED  ...   \n",
              "692636342                     AGGRAVATED HARASSMENT 2        COMPLETED  ...   \n",
              "879643705                                   ASSAULT 3        COMPLETED  ...   \n",
              "285746315                   BURGLARY,COMMERCIAL,NIGHT        COMPLETED  ...   \n",
              "395719403              LARCENY,PETIT FROM BUILDING,UN        COMPLETED  ...   \n",
              "136942009            CRIMINAL MISCHIEF,UNCLASSIFIED 4        COMPLETED  ...   \n",
              "562538979                 MARIJUANA, POSSESSION 4 & 5        COMPLETED  ...   \n",
              "705091937              LEAVING SCENE-ACCIDENT-PERSONA        COMPLETED  ...   \n",
              "185959648              LEAVING SCENE-ACCIDENT-PERSONA        COMPLETED  ...   \n",
              "624262344                     LARCENY,PETIT FROM AUTO        COMPLETED  ...   \n",
              "515286632                       HARASSMENT,SUBD 3,4,5        COMPLETED  ...   \n",
              "621672278                  HARASSMENT,SUBD 1,CIVILIAN        COMPLETED  ...   \n",
              "\n",
              "           ADDR_PCT_CD LOC_OF_OCCUR_DESC               PREM_TYP_DESC  \\\n",
              "CMPLNT_NUM                                                             \n",
              "802050431        109.0          FRONT OF                      STREET   \n",
              "623599012        120.0           REAR OF                    HOSPITAL   \n",
              "559206214        123.0          FRONT OF             RESIDENCE-HOUSE   \n",
              "481663622         19.0            INSIDE                 CHAIN STORE   \n",
              "111463044         44.0            INSIDE      RESIDENCE - APT. HOUSE   \n",
              "281024091         48.0            INSIDE               PUBLIC SCHOOL   \n",
              "877531483         75.0          FRONT OF                      STREET   \n",
              "333113898         68.0            INSIDE      RESIDENCE - APT. HOUSE   \n",
              "749608820        115.0            INSIDE              GROCERY/BODEGA   \n",
              "765251053         17.0            INSIDE            DEPARTMENT STORE   \n",
              "255937437         84.0            INSIDE                         NaN   \n",
              "140659794        120.0            INSIDE        GYM/FITNESS FACILITY   \n",
              "729996516          9.0            INSIDE  RESIDENCE - PUBLIC HOUSING   \n",
              "165693258        114.0          FRONT OF                      STREET   \n",
              "811295856         49.0               NaN                      STREET   \n",
              "583276054         45.0               NaN                      STREET   \n",
              "303012861         43.0            INSIDE             RESIDENCE-HOUSE   \n",
              "482651319        109.0            INSIDE      RESIDENCE - APT. HOUSE   \n",
              "844439549         42.0            INSIDE                         NaN   \n",
              "695461497         43.0               NaN         BEAUTY & NAIL SALON   \n",
              "426919524         49.0           REAR OF      RESIDENCE - APT. HOUSE   \n",
              "205732101         23.0            INSIDE                 CHAIN STORE   \n",
              "348638783         45.0          FRONT OF      RESIDENCE - APT. HOUSE   \n",
              "165179263         33.0               NaN                      STREET   \n",
              "414495240         77.0          FRONT OF                      STREET   \n",
              "705841927         25.0               NaN                      STREET   \n",
              "673171949        120.0            INSIDE                       OTHER   \n",
              "418536094         41.0            INSIDE                       OTHER   \n",
              "187313344        115.0               NaN                      STREET   \n",
              "359690039        105.0            INSIDE             RESIDENCE-HOUSE   \n",
              "205008971         32.0          FRONT OF      RESIDENCE - APT. HOUSE   \n",
              "510611877         52.0            INSIDE              GROCERY/BODEGA   \n",
              "262024380         17.0            INSIDE              BAR/NIGHT CLUB   \n",
              "346490596         44.0            INSIDE          STORE UNCLASSIFIED   \n",
              "986765504         52.0               NaN                      STREET   \n",
              "837796051        105.0          FRONT OF                      STREET   \n",
              "292613975        102.0            INSIDE         COMMERCIAL BUILDING   \n",
              "727147379         49.0            INSIDE             RESIDENCE-HOUSE   \n",
              "669320263         83.0          FRONT OF          STORE UNCLASSIFIED   \n",
              "692636342          6.0            INSIDE      RESIDENCE - APT. HOUSE   \n",
              "879643705         46.0          FRONT OF             PARK/PLAYGROUND   \n",
              "285746315         76.0            INSIDE            RESTAURANT/DINER   \n",
              "395719403         47.0            INSIDE             RESIDENCE-HOUSE   \n",
              "136942009        113.0          FRONT OF      RESIDENCE - APT. HOUSE   \n",
              "562538979         52.0               NaN                      STREET   \n",
              "705091937        102.0               NaN                      STREET   \n",
              "185959648         71.0          FRONT OF                      STREET   \n",
              "624262344         41.0          FRONT OF                      STREET   \n",
              "515286632         69.0            INSIDE         COMMERCIAL BUILDING   \n",
              "621672278         23.0       OPPOSITE OF                      STREET   \n",
              "\n",
              "            PARKS_NM HADEVELOPT X_COORD_CD Y_COORD_CD   Latitude  Longitude  \\\n",
              "CMPLNT_NUM                                                                    \n",
              "802050431        NaN        NaN  1046035.0   225189.0  40.784560 -73.776894   \n",
              "623599012        NaN        NaN   954651.0   170721.0  40.635225 -74.106645   \n",
              "559206214        NaN        NaN   937803.0   132862.0  40.531237 -74.167087   \n",
              "481663622        NaN        NaN   995726.0   223403.0  40.779867 -73.958564   \n",
              "111463044        NaN        NaN  1003508.0   242080.0  40.831116 -73.930412   \n",
              "281024091        NaN        NaN  1015184.0   252620.0  40.860012 -73.888171   \n",
              "877531483        NaN        NaN  1016472.0   180660.0  40.662496 -73.883860   \n",
              "333113898        NaN        NaN   978150.0   170531.0  40.634751 -74.021979   \n",
              "749608820        NaN        NaN  1015604.0   215588.0  40.758368 -73.886826   \n",
              "765251053        NaN        NaN   991263.0   212680.0  40.750439 -73.974690   \n",
              "255937437        NaN        NaN   988049.0   191253.0  40.691629 -73.986302   \n",
              "140659794        NaN        NaN   952495.0   167073.0  40.625205 -74.114396   \n",
              "729996516        NaN        NaN   990577.0   204879.0  40.729028 -73.977173   \n",
              "165693258        NaN        NaN  1005693.0   216416.0  40.760671 -73.922598   \n",
              "811295856        NaN        NaN  1025370.0   249101.0  40.850312 -73.851369   \n",
              "583276054        NaN        NaN  1030118.0   245408.0  40.840153 -73.834232   \n",
              "303012861        NaN        NaN  1023308.0   242019.0  40.830884 -73.858863   \n",
              "482651319        NaN        NaN  1032554.0   217548.0  40.763672 -73.825629   \n",
              "844439549        NaN        NaN  1011552.0   245035.0  40.839206 -73.901332   \n",
              "695461497        NaN        NaN  1018623.0   240382.0  40.826410 -73.875801   \n",
              "426919524        NaN        NaN  1020827.0   249712.0  40.852009 -73.867787   \n",
              "205732101        NaN        NaN   997908.0   225716.0  40.786212 -73.950681   \n",
              "348638783        NaN        NaN  1025533.0   244194.0  40.836843 -73.850810   \n",
              "165179263        NaN        NaN  1000793.0   243627.0  40.835368 -73.940219   \n",
              "414495240        NaN        NaN  1005328.0   183150.0  40.669364 -73.924020   \n",
              "705841927        NaN        NaN  1001479.0   229653.0  40.797012 -73.937775   \n",
              "673171949        NaN        NaN   962824.0   174279.0  40.645015 -74.077210   \n",
              "418536094        NaN        NaN  1016268.0   227533.0  40.791152 -73.884372   \n",
              "187313344        NaN        NaN  1021806.0   213740.0  40.753272 -73.864449   \n",
              "359690039        NaN        NaN  1056649.0   196438.0  40.705566 -73.738876   \n",
              "205008971        NaN        NaN   999241.0   238009.0  40.819951 -73.945840   \n",
              "510611877        NaN        NaN  1018223.0   256804.0  40.871485 -73.877163   \n",
              "262024380        NaN        NaN   990245.0   210844.0  40.745401 -73.978366   \n",
              "346490596        NaN        NaN  1007152.0   245342.0  40.840061 -73.917233   \n",
              "986765504        NaN        NaN  1010695.0   254764.0  40.865912 -73.904391   \n",
              "837796051        NaN        NaN  1065806.0   209364.0  40.740965 -73.705692   \n",
              "292613975        NaN        NaN  1034382.0   195195.0  40.702308 -73.819196   \n",
              "727147379        NaN        NaN  1022596.0   248467.0  40.848585 -73.861399   \n",
              "669320263        NaN        NaN  1003416.0   195633.0  40.703632 -73.930876   \n",
              "692636342        NaN        NaN   986160.0   205842.0  40.731673 -73.993110   \n",
              "879643705        NaN        NaN  1006374.0   251139.0  40.855974 -73.920025   \n",
              "285746315        NaN        NaN   984826.0   184989.0  40.674437 -73.997925   \n",
              "395719403        NaN        NaN  1026235.0   269439.0  40.906130 -73.848115   \n",
              "136942009        NaN        NaN  1051994.0   191764.0  40.692774 -73.755712   \n",
              "562538979        NaN        NaN  1010182.0   252599.0  40.859971 -73.906254   \n",
              "705091937        NaN        NaN  1025933.0   189934.0  40.687912 -73.849701   \n",
              "185959648        NaN        NaN   996588.0   181055.0  40.663630 -73.955529   \n",
              "624262344        NaN        NaN  1013070.0   238703.0  40.821821 -73.895873   \n",
              "515286632        NaN        NaN  1006682.0   172587.0  40.640368 -73.919174   \n",
              "621672278        NaN        NaN   999834.0   229197.0  40.795763 -73.943718   \n",
              "\n",
              "                                  Lat_Lon  \n",
              "CMPLNT_NUM                                 \n",
              "802050431    (40.784560258, -73.77689354)  \n",
              "623599012    (40.63522503, -74.106645246)  \n",
              "559206214   (40.531237438, -74.167087489)  \n",
              "481663622   (40.779866667, -73.958564156)  \n",
              "111463044    (40.83111635, -73.930411516)  \n",
              "281024091    (40.86001236, -73.888171004)  \n",
              "877531483   (40.662496265, -73.883859626)  \n",
              "333113898   (40.634750876, -74.021979293)  \n",
              "749608820   (40.758368378, -73.886825612)  \n",
              "765251053   (40.750439465, -73.974690245)  \n",
              "255937437   (40.691629476, -73.986302252)  \n",
              "140659794    (40.625204579, -74.11439604)  \n",
              "729996516   (40.729028172, -73.977173481)  \n",
              "165693258   (40.760670616, -73.922597832)  \n",
              "811295856      (40.8503122, -73.85136893)  \n",
              "583276054   (40.840152628, -73.834232089)  \n",
              "303012861   (40.830883557, -73.858863475)  \n",
              "482651319   (40.763671712, -73.825628706)  \n",
              "844439549   (40.839205766, -73.901332033)  \n",
              "695461497   (40.826409939, -73.875801312)  \n",
              "426919524     (40.8520092, -73.867786717)  \n",
              "205732101   (40.786212135, -73.950680737)  \n",
              "348638783   (40.836843178, -73.850809958)  \n",
              "165179263   (40.835367922, -73.940218512)  \n",
              "414495240   (40.669364302, -73.924019539)  \n",
              "705841927   (40.797011899, -73.937775323)  \n",
              "673171949    (40.645014517, -74.07720963)  \n",
              "418536094   (40.791151867, -73.884371919)  \n",
              "187313344   (40.753271926, -73.864449141)  \n",
              "359690039    (40.70556573, -73.738875689)  \n",
              "205008971   (40.819950886, -73.945839667)  \n",
              "510611877   (40.871484989, -73.877163426)  \n",
              "262024380    (40.745400855, -73.97836603)  \n",
              "346490596   (40.840060898, -73.917232572)  \n",
              "986765504   (40.865911578, -73.904390852)  \n",
              "837796051   (40.740964617, -73.705692195)  \n",
              "292613975   (40.702308165, -73.819196369)  \n",
              "727147379   (40.848584543, -73.861399451)  \n",
              "669320263     (40.703631619, -73.9308764)  \n",
              "692636342   (40.731673428, -73.993109848)  \n",
              "879643705   (40.855973933, -73.920025172)  \n",
              "285746315   (40.674437016, -73.997924923)  \n",
              "395719403    (40.906129566, -73.84811484)  \n",
              "136942009   (40.692773602, -73.755712075)  \n",
              "562538979   (40.859970831, -73.906253954)  \n",
              "705091937   (40.687911791, -73.849700855)  \n",
              "185959648   (40.663630486, -73.955529289)  \n",
              "624262344   (40.821821427, -73.895873187)  \n",
              "515286632   (40.640367856, -73.919173781)  \n",
              "621672278    (40.795763357, -73.94371764)  \n",
              "\n",
              "[50 rows x 23 columns]"
            ],
            "text/html": [
              "\n",
              "  <div id=\"df-91bf24b6-2502-4968-9a35-ee0a9a1e70e8\">\n",
              "    <div class=\"colab-df-container\">\n",
              "      <div>\n",
              "<style scoped>\n",
              "    .dataframe tbody tr th:only-of-type {\n",
              "        vertical-align: middle;\n",
              "    }\n",
              "\n",
              "    .dataframe tbody tr th {\n",
              "        vertical-align: top;\n",
              "    }\n",
              "\n",
              "    .dataframe thead th {\n",
              "        text-align: right;\n",
              "    }\n",
              "</style>\n",
              "<table border=\"1\" class=\"dataframe\">\n",
              "  <thead>\n",
              "    <tr style=\"text-align: right;\">\n",
              "      <th></th>\n",
              "      <th>CMPLNT_FR_DT</th>\n",
              "      <th>CMPLNT_FR_TM</th>\n",
              "      <th>CMPLNT_TO_DT</th>\n",
              "      <th>CMPLNT_TO_TM</th>\n",
              "      <th>RPT_DT</th>\n",
              "      <th>KY_CD</th>\n",
              "      <th>OFNS_DESC</th>\n",
              "      <th>PD_CD</th>\n",
              "      <th>PD_DESC</th>\n",
              "      <th>CRM_ATPT_CPTD_CD</th>\n",
              "      <th>...</th>\n",
              "      <th>ADDR_PCT_CD</th>\n",
              "      <th>LOC_OF_OCCUR_DESC</th>\n",
              "      <th>PREM_TYP_DESC</th>\n",
              "      <th>PARKS_NM</th>\n",
              "      <th>HADEVELOPT</th>\n",
              "      <th>X_COORD_CD</th>\n",
              "      <th>Y_COORD_CD</th>\n",
              "      <th>Latitude</th>\n",
              "      <th>Longitude</th>\n",
              "      <th>Lat_Lon</th>\n",
              "    </tr>\n",
              "    <tr>\n",
              "      <th>CMPLNT_NUM</th>\n",
              "      <th></th>\n",
              "      <th></th>\n",
              "      <th></th>\n",
              "      <th></th>\n",
              "      <th></th>\n",
              "      <th></th>\n",
              "      <th></th>\n",
              "      <th></th>\n",
              "      <th></th>\n",
              "      <th></th>\n",
              "      <th></th>\n",
              "      <th></th>\n",
              "      <th></th>\n",
              "      <th></th>\n",
              "      <th></th>\n",
              "      <th></th>\n",
              "      <th></th>\n",
              "      <th></th>\n",
              "      <th></th>\n",
              "      <th></th>\n",
              "      <th></th>\n",
              "    </tr>\n",
              "  </thead>\n",
              "  <tbody>\n",
              "    <tr>\n",
              "      <th>802050431</th>\n",
              "      <td>11/5/2015</td>\n",
              "      <td>13:50:00</td>\n",
              "      <td>11/5/2015</td>\n",
              "      <td>14:00:00</td>\n",
              "      <td>11/5/2015</td>\n",
              "      <td>109</td>\n",
              "      <td>GRAND LARCENY</td>\n",
              "      <td>421.0</td>\n",
              "      <td>LARCENY,GRAND FROM VEHICLE/MOTORCYCLE</td>\n",
              "      <td>COMPLETED</td>\n",
              "      <td>...</td>\n",
              "      <td>109.0</td>\n",
              "      <td>FRONT OF</td>\n",
              "      <td>STREET</td>\n",
              "      <td>NaN</td>\n",
              "      <td>NaN</td>\n",
              "      <td>1046035.0</td>\n",
              "      <td>225189.0</td>\n",
              "      <td>40.784560</td>\n",
              "      <td>-73.776894</td>\n",
              "      <td>(40.784560258, -73.77689354)</td>\n",
              "    </tr>\n",
              "    <tr>\n",
              "      <th>623599012</th>\n",
              "      <td>9/9/2014</td>\n",
              "      <td>19:45:00</td>\n",
              "      <td>9/9/2014</td>\n",
              "      <td>21:00:00</td>\n",
              "      <td>9/9/2014</td>\n",
              "      <td>341</td>\n",
              "      <td>PETIT LARCENY</td>\n",
              "      <td>321.0</td>\n",
              "      <td>LARCENY,PETIT FROM AUTO</td>\n",
              "      <td>COMPLETED</td>\n",
              "      <td>...</td>\n",
              "      <td>120.0</td>\n",
              "      <td>REAR OF</td>\n",
              "      <td>HOSPITAL</td>\n",
              "      <td>NaN</td>\n",
              "      <td>NaN</td>\n",
              "      <td>954651.0</td>\n",
              "      <td>170721.0</td>\n",
              "      <td>40.635225</td>\n",
              "      <td>-74.106645</td>\n",
              "      <td>(40.63522503, -74.106645246)</td>\n",
              "    </tr>\n",
              "    <tr>\n",
              "      <th>559206214</th>\n",
              "      <td>11/11/2014</td>\n",
              "      <td>21:40:00</td>\n",
              "      <td>11/11/2014</td>\n",
              "      <td>21:45:00</td>\n",
              "      <td>11/11/2014</td>\n",
              "      <td>351</td>\n",
              "      <td>CRIMINAL MISCHIEF &amp; RELATED OF</td>\n",
              "      <td>259.0</td>\n",
              "      <td>CRIMINAL MISCHIEF,UNCLASSIFIED 4</td>\n",
              "      <td>COMPLETED</td>\n",
              "      <td>...</td>\n",
              "      <td>123.0</td>\n",
              "      <td>FRONT OF</td>\n",
              "      <td>RESIDENCE-HOUSE</td>\n",
              "      <td>NaN</td>\n",
              "      <td>NaN</td>\n",
              "      <td>937803.0</td>\n",
              "      <td>132862.0</td>\n",
              "      <td>40.531237</td>\n",
              "      <td>-74.167087</td>\n",
              "      <td>(40.531237438, -74.167087489)</td>\n",
              "    </tr>\n",
              "    <tr>\n",
              "      <th>481663622</th>\n",
              "      <td>7/16/2014</td>\n",
              "      <td>19:40:00</td>\n",
              "      <td>7/19/2014</td>\n",
              "      <td>9:00:00</td>\n",
              "      <td>7/19/2014</td>\n",
              "      <td>341</td>\n",
              "      <td>PETIT LARCENY</td>\n",
              "      <td>333.0</td>\n",
              "      <td>LARCENY,PETIT FROM STORE-SHOPL</td>\n",
              "      <td>COMPLETED</td>\n",
              "      <td>...</td>\n",
              "      <td>19.0</td>\n",
              "      <td>INSIDE</td>\n",
              "      <td>CHAIN STORE</td>\n",
              "      <td>NaN</td>\n",
              "      <td>NaN</td>\n",
              "      <td>995726.0</td>\n",
              "      <td>223403.0</td>\n",
              "      <td>40.779867</td>\n",
              "      <td>-73.958564</td>\n",
              "      <td>(40.779866667, -73.958564156)</td>\n",
              "    </tr>\n",
              "    <tr>\n",
              "      <th>111463044</th>\n",
              "      <td>6/11/2015</td>\n",
              "      <td>21:19:00</td>\n",
              "      <td>NaN</td>\n",
              "      <td>NaN</td>\n",
              "      <td>6/11/2015</td>\n",
              "      <td>236</td>\n",
              "      <td>DANGEROUS WEAPONS</td>\n",
              "      <td>782.0</td>\n",
              "      <td>WEAPONS, POSSESSION, ETC</td>\n",
              "      <td>COMPLETED</td>\n",
              "      <td>...</td>\n",
              "      <td>44.0</td>\n",
              "      <td>INSIDE</td>\n",
              "      <td>RESIDENCE - APT. HOUSE</td>\n",
              "      <td>NaN</td>\n",
              "      <td>NaN</td>\n",
              "      <td>1003508.0</td>\n",
              "      <td>242080.0</td>\n",
              "      <td>40.831116</td>\n",
              "      <td>-73.930412</td>\n",
              "      <td>(40.83111635, -73.930411516)</td>\n",
              "    </tr>\n",
              "    <tr>\n",
              "      <th>281024091</th>\n",
              "      <td>1/8/2015</td>\n",
              "      <td>9:30:00</td>\n",
              "      <td>1/8/2015</td>\n",
              "      <td>10:00:00</td>\n",
              "      <td>1/8/2015</td>\n",
              "      <td>341</td>\n",
              "      <td>PETIT LARCENY</td>\n",
              "      <td>338.0</td>\n",
              "      <td>LARCENY,PETIT FROM BUILDING,UN</td>\n",
              "      <td>COMPLETED</td>\n",
              "      <td>...</td>\n",
              "      <td>48.0</td>\n",
              "      <td>INSIDE</td>\n",
              "      <td>PUBLIC SCHOOL</td>\n",
              "      <td>NaN</td>\n",
              "      <td>NaN</td>\n",
              "      <td>1015184.0</td>\n",
              "      <td>252620.0</td>\n",
              "      <td>40.860012</td>\n",
              "      <td>-73.888171</td>\n",
              "      <td>(40.86001236, -73.888171004)</td>\n",
              "    </tr>\n",
              "    <tr>\n",
              "      <th>877531483</th>\n",
              "      <td>9/24/2014</td>\n",
              "      <td>22:10:00</td>\n",
              "      <td>9/24/2014</td>\n",
              "      <td>22:20:00</td>\n",
              "      <td>9/26/2014</td>\n",
              "      <td>344</td>\n",
              "      <td>ASSAULT 3 &amp; RELATED OFFENSES</td>\n",
              "      <td>101.0</td>\n",
              "      <td>ASSAULT 3</td>\n",
              "      <td>COMPLETED</td>\n",
              "      <td>...</td>\n",
              "      <td>75.0</td>\n",
              "      <td>FRONT OF</td>\n",
              "      <td>STREET</td>\n",
              "      <td>NaN</td>\n",
              "      <td>NaN</td>\n",
              "      <td>1016472.0</td>\n",
              "      <td>180660.0</td>\n",
              "      <td>40.662496</td>\n",
              "      <td>-73.883860</td>\n",
              "      <td>(40.662496265, -73.883859626)</td>\n",
              "    </tr>\n",
              "    <tr>\n",
              "      <th>333113898</th>\n",
              "      <td>4/30/2014</td>\n",
              "      <td>14:13:00</td>\n",
              "      <td>4/30/2014</td>\n",
              "      <td>14:16:00</td>\n",
              "      <td>7/2/2014</td>\n",
              "      <td>341</td>\n",
              "      <td>PETIT LARCENY</td>\n",
              "      <td>338.0</td>\n",
              "      <td>LARCENY,PETIT FROM BUILDING,UN</td>\n",
              "      <td>COMPLETED</td>\n",
              "      <td>...</td>\n",
              "      <td>68.0</td>\n",
              "      <td>INSIDE</td>\n",
              "      <td>RESIDENCE - APT. HOUSE</td>\n",
              "      <td>NaN</td>\n",
              "      <td>NaN</td>\n",
              "      <td>978150.0</td>\n",
              "      <td>170531.0</td>\n",
              "      <td>40.634751</td>\n",
              "      <td>-74.021979</td>\n",
              "      <td>(40.634750876, -74.021979293)</td>\n",
              "    </tr>\n",
              "    <tr>\n",
              "      <th>749608820</th>\n",
              "      <td>8/9/2015</td>\n",
              "      <td>0:08:00</td>\n",
              "      <td>8/9/2015</td>\n",
              "      <td>2:41:00</td>\n",
              "      <td>8/9/2015</td>\n",
              "      <td>107</td>\n",
              "      <td>BURGLARY</td>\n",
              "      <td>213.0</td>\n",
              "      <td>BURGLARY,COMMERCIAL,NIGHT</td>\n",
              "      <td>COMPLETED</td>\n",
              "      <td>...</td>\n",
              "      <td>115.0</td>\n",
              "      <td>INSIDE</td>\n",
              "      <td>GROCERY/BODEGA</td>\n",
              "      <td>NaN</td>\n",
              "      <td>NaN</td>\n",
              "      <td>1015604.0</td>\n",
              "      <td>215588.0</td>\n",
              "      <td>40.758368</td>\n",
              "      <td>-73.886826</td>\n",
              "      <td>(40.758368378, -73.886825612)</td>\n",
              "    </tr>\n",
              "    <tr>\n",
              "      <th>765251053</th>\n",
              "      <td>8/16/2015</td>\n",
              "      <td>12:10:00</td>\n",
              "      <td>8/16/2015</td>\n",
              "      <td>12:15:00</td>\n",
              "      <td>8/16/2015</td>\n",
              "      <td>341</td>\n",
              "      <td>PETIT LARCENY</td>\n",
              "      <td>333.0</td>\n",
              "      <td>LARCENY,PETIT FROM STORE-SHOPL</td>\n",
              "      <td>COMPLETED</td>\n",
              "      <td>...</td>\n",
              "      <td>17.0</td>\n",
              "      <td>INSIDE</td>\n",
              "      <td>DEPARTMENT STORE</td>\n",
              "      <td>NaN</td>\n",
              "      <td>NaN</td>\n",
              "      <td>991263.0</td>\n",
              "      <td>212680.0</td>\n",
              "      <td>40.750439</td>\n",
              "      <td>-73.974690</td>\n",
              "      <td>(40.750439465, -73.974690245)</td>\n",
              "    </tr>\n",
              "    <tr>\n",
              "      <th>255937437</th>\n",
              "      <td>4/14/2015</td>\n",
              "      <td>17:55:00</td>\n",
              "      <td>4/14/2015</td>\n",
              "      <td>17:57:00</td>\n",
              "      <td>4/14/2015</td>\n",
              "      <td>344</td>\n",
              "      <td>ASSAULT 3 &amp; RELATED OFFENSES</td>\n",
              "      <td>101.0</td>\n",
              "      <td>ASSAULT 3</td>\n",
              "      <td>COMPLETED</td>\n",
              "      <td>...</td>\n",
              "      <td>84.0</td>\n",
              "      <td>INSIDE</td>\n",
              "      <td>NaN</td>\n",
              "      <td>NaN</td>\n",
              "      <td>NaN</td>\n",
              "      <td>988049.0</td>\n",
              "      <td>191253.0</td>\n",
              "      <td>40.691629</td>\n",
              "      <td>-73.986302</td>\n",
              "      <td>(40.691629476, -73.986302252)</td>\n",
              "    </tr>\n",
              "    <tr>\n",
              "      <th>140659794</th>\n",
              "      <td>1/7/2015</td>\n",
              "      <td>16:00:00</td>\n",
              "      <td>1/7/2015</td>\n",
              "      <td>16:30:00</td>\n",
              "      <td>1/7/2015</td>\n",
              "      <td>341</td>\n",
              "      <td>PETIT LARCENY</td>\n",
              "      <td>338.0</td>\n",
              "      <td>LARCENY,PETIT FROM BUILDING,UN</td>\n",
              "      <td>COMPLETED</td>\n",
              "      <td>...</td>\n",
              "      <td>120.0</td>\n",
              "      <td>INSIDE</td>\n",
              "      <td>GYM/FITNESS FACILITY</td>\n",
              "      <td>NaN</td>\n",
              "      <td>NaN</td>\n",
              "      <td>952495.0</td>\n",
              "      <td>167073.0</td>\n",
              "      <td>40.625205</td>\n",
              "      <td>-74.114396</td>\n",
              "      <td>(40.625204579, -74.11439604)</td>\n",
              "    </tr>\n",
              "    <tr>\n",
              "      <th>729996516</th>\n",
              "      <td>3/31/2015</td>\n",
              "      <td>9:25:00</td>\n",
              "      <td>3/31/2015</td>\n",
              "      <td>9:41:00</td>\n",
              "      <td>3/31/2015</td>\n",
              "      <td>126</td>\n",
              "      <td>MISCELLANEOUS PENAL LAW</td>\n",
              "      <td>760.0</td>\n",
              "      <td>BRIBERY,PUBLIC ADMINISTRATION</td>\n",
              "      <td>COMPLETED</td>\n",
              "      <td>...</td>\n",
              "      <td>9.0</td>\n",
              "      <td>INSIDE</td>\n",
              "      <td>RESIDENCE - PUBLIC HOUSING</td>\n",
              "      <td>NaN</td>\n",
              "      <td>NaN</td>\n",
              "      <td>990577.0</td>\n",
              "      <td>204879.0</td>\n",
              "      <td>40.729028</td>\n",
              "      <td>-73.977173</td>\n",
              "      <td>(40.729028172, -73.977173481)</td>\n",
              "    </tr>\n",
              "    <tr>\n",
              "      <th>165693258</th>\n",
              "      <td>2/9/2014</td>\n",
              "      <td>0:05:00</td>\n",
              "      <td>2/9/2014</td>\n",
              "      <td>0:10:00</td>\n",
              "      <td>2/9/2014</td>\n",
              "      <td>110</td>\n",
              "      <td>GRAND LARCENY OF MOTOR VEHICLE</td>\n",
              "      <td>441.0</td>\n",
              "      <td>LARCENY,GRAND OF AUTO</td>\n",
              "      <td>COMPLETED</td>\n",
              "      <td>...</td>\n",
              "      <td>114.0</td>\n",
              "      <td>FRONT OF</td>\n",
              "      <td>STREET</td>\n",
              "      <td>NaN</td>\n",
              "      <td>NaN</td>\n",
              "      <td>1005693.0</td>\n",
              "      <td>216416.0</td>\n",
              "      <td>40.760671</td>\n",
              "      <td>-73.922598</td>\n",
              "      <td>(40.760670616, -73.922597832)</td>\n",
              "    </tr>\n",
              "    <tr>\n",
              "      <th>811295856</th>\n",
              "      <td>1/8/2015</td>\n",
              "      <td>16:00:00</td>\n",
              "      <td>1/8/2015</td>\n",
              "      <td>16:20:00</td>\n",
              "      <td>1/8/2015</td>\n",
              "      <td>109</td>\n",
              "      <td>GRAND LARCENY</td>\n",
              "      <td>419.0</td>\n",
              "      <td>LARCENY,GRAND FROM PERSON,UNCL</td>\n",
              "      <td>COMPLETED</td>\n",
              "      <td>...</td>\n",
              "      <td>49.0</td>\n",
              "      <td>NaN</td>\n",
              "      <td>STREET</td>\n",
              "      <td>NaN</td>\n",
              "      <td>NaN</td>\n",
              "      <td>1025370.0</td>\n",
              "      <td>249101.0</td>\n",
              "      <td>40.850312</td>\n",
              "      <td>-73.851369</td>\n",
              "      <td>(40.8503122, -73.85136893)</td>\n",
              "    </tr>\n",
              "    <tr>\n",
              "      <th>583276054</th>\n",
              "      <td>2/11/2014</td>\n",
              "      <td>23:30:00</td>\n",
              "      <td>2/12/2014</td>\n",
              "      <td>0:01:00</td>\n",
              "      <td>2/12/2014</td>\n",
              "      <td>351</td>\n",
              "      <td>CRIMINAL MISCHIEF &amp; RELATED OF</td>\n",
              "      <td>254.0</td>\n",
              "      <td>MISCHIEF, CRIMINAL 4, OF MOTOR</td>\n",
              "      <td>COMPLETED</td>\n",
              "      <td>...</td>\n",
              "      <td>45.0</td>\n",
              "      <td>NaN</td>\n",
              "      <td>STREET</td>\n",
              "      <td>NaN</td>\n",
              "      <td>NaN</td>\n",
              "      <td>1030118.0</td>\n",
              "      <td>245408.0</td>\n",
              "      <td>40.840153</td>\n",
              "      <td>-73.834232</td>\n",
              "      <td>(40.840152628, -73.834232089)</td>\n",
              "    </tr>\n",
              "    <tr>\n",
              "      <th>303012861</th>\n",
              "      <td>5/23/2015</td>\n",
              "      <td>1:56:00</td>\n",
              "      <td>NaN</td>\n",
              "      <td>NaN</td>\n",
              "      <td>5/23/2015</td>\n",
              "      <td>341</td>\n",
              "      <td>PETIT LARCENY</td>\n",
              "      <td>338.0</td>\n",
              "      <td>LARCENY,PETIT FROM BUILDING,UN</td>\n",
              "      <td>COMPLETED</td>\n",
              "      <td>...</td>\n",
              "      <td>43.0</td>\n",
              "      <td>INSIDE</td>\n",
              "      <td>RESIDENCE-HOUSE</td>\n",
              "      <td>NaN</td>\n",
              "      <td>NaN</td>\n",
              "      <td>1023308.0</td>\n",
              "      <td>242019.0</td>\n",
              "      <td>40.830884</td>\n",
              "      <td>-73.858863</td>\n",
              "      <td>(40.830883557, -73.858863475)</td>\n",
              "    </tr>\n",
              "    <tr>\n",
              "      <th>482651319</th>\n",
              "      <td>10/31/2015</td>\n",
              "      <td>16:30:00</td>\n",
              "      <td>10/31/2015</td>\n",
              "      <td>16:41:00</td>\n",
              "      <td>10/31/2015</td>\n",
              "      <td>106</td>\n",
              "      <td>FELONY ASSAULT</td>\n",
              "      <td>109.0</td>\n",
              "      <td>ASSAULT 2,1,UNCLASSIFIED</td>\n",
              "      <td>COMPLETED</td>\n",
              "      <td>...</td>\n",
              "      <td>109.0</td>\n",
              "      <td>INSIDE</td>\n",
              "      <td>RESIDENCE - APT. HOUSE</td>\n",
              "      <td>NaN</td>\n",
              "      <td>NaN</td>\n",
              "      <td>1032554.0</td>\n",
              "      <td>217548.0</td>\n",
              "      <td>40.763672</td>\n",
              "      <td>-73.825629</td>\n",
              "      <td>(40.763671712, -73.825628706)</td>\n",
              "    </tr>\n",
              "    <tr>\n",
              "      <th>844439549</th>\n",
              "      <td>5/21/2014</td>\n",
              "      <td>9:00:00</td>\n",
              "      <td>NaN</td>\n",
              "      <td>NaN</td>\n",
              "      <td>8/4/2014</td>\n",
              "      <td>341</td>\n",
              "      <td>PETIT LARCENY</td>\n",
              "      <td>338.0</td>\n",
              "      <td>LARCENY,PETIT FROM BUILDING,UN</td>\n",
              "      <td>COMPLETED</td>\n",
              "      <td>...</td>\n",
              "      <td>42.0</td>\n",
              "      <td>INSIDE</td>\n",
              "      <td>NaN</td>\n",
              "      <td>NaN</td>\n",
              "      <td>NaN</td>\n",
              "      <td>1011552.0</td>\n",
              "      <td>245035.0</td>\n",
              "      <td>40.839206</td>\n",
              "      <td>-73.901332</td>\n",
              "      <td>(40.839205766, -73.901332033)</td>\n",
              "    </tr>\n",
              "    <tr>\n",
              "      <th>695461497</th>\n",
              "      <td>12/2/2015</td>\n",
              "      <td>17:15:00</td>\n",
              "      <td>12/2/2015</td>\n",
              "      <td>17:30:00</td>\n",
              "      <td>12/2/2015</td>\n",
              "      <td>361</td>\n",
              "      <td>OFF. AGNST PUB ORD SENSBLTY &amp;</td>\n",
              "      <td>639.0</td>\n",
              "      <td>AGGRAVATED HARASSMENT 2</td>\n",
              "      <td>COMPLETED</td>\n",
              "      <td>...</td>\n",
              "      <td>43.0</td>\n",
              "      <td>NaN</td>\n",
              "      <td>BEAUTY &amp; NAIL SALON</td>\n",
              "      <td>NaN</td>\n",
              "      <td>NaN</td>\n",
              "      <td>1018623.0</td>\n",
              "      <td>240382.0</td>\n",
              "      <td>40.826410</td>\n",
              "      <td>-73.875801</td>\n",
              "      <td>(40.826409939, -73.875801312)</td>\n",
              "    </tr>\n",
              "    <tr>\n",
              "      <th>426919524</th>\n",
              "      <td>3/12/2015</td>\n",
              "      <td>17:36:00</td>\n",
              "      <td>3/12/2015</td>\n",
              "      <td>21:30:00</td>\n",
              "      <td>3/13/2015</td>\n",
              "      <td>351</td>\n",
              "      <td>CRIMINAL MISCHIEF &amp; RELATED OF</td>\n",
              "      <td>254.0</td>\n",
              "      <td>MISCHIEF, CRIMINAL 4, OF MOTOR</td>\n",
              "      <td>COMPLETED</td>\n",
              "      <td>...</td>\n",
              "      <td>49.0</td>\n",
              "      <td>REAR OF</td>\n",
              "      <td>RESIDENCE - APT. HOUSE</td>\n",
              "      <td>NaN</td>\n",
              "      <td>NaN</td>\n",
              "      <td>1020827.0</td>\n",
              "      <td>249712.0</td>\n",
              "      <td>40.852009</td>\n",
              "      <td>-73.867787</td>\n",
              "      <td>(40.8520092, -73.867786717)</td>\n",
              "    </tr>\n",
              "    <tr>\n",
              "      <th>205732101</th>\n",
              "      <td>8/14/2014</td>\n",
              "      <td>0:01:00</td>\n",
              "      <td>8/14/2014</td>\n",
              "      <td>0:09:00</td>\n",
              "      <td>8/14/2014</td>\n",
              "      <td>341</td>\n",
              "      <td>PETIT LARCENY</td>\n",
              "      <td>333.0</td>\n",
              "      <td>LARCENY,PETIT FROM STORE-SHOPL</td>\n",
              "      <td>ATTEMPTED</td>\n",
              "      <td>...</td>\n",
              "      <td>23.0</td>\n",
              "      <td>INSIDE</td>\n",
              "      <td>CHAIN STORE</td>\n",
              "      <td>NaN</td>\n",
              "      <td>NaN</td>\n",
              "      <td>997908.0</td>\n",
              "      <td>225716.0</td>\n",
              "      <td>40.786212</td>\n",
              "      <td>-73.950681</td>\n",
              "      <td>(40.786212135, -73.950680737)</td>\n",
              "    </tr>\n",
              "    <tr>\n",
              "      <th>348638783</th>\n",
              "      <td>5/7/2015</td>\n",
              "      <td>12:30:00</td>\n",
              "      <td>NaN</td>\n",
              "      <td>NaN</td>\n",
              "      <td>5/7/2015</td>\n",
              "      <td>578</td>\n",
              "      <td>HARRASSMENT 2</td>\n",
              "      <td>638.0</td>\n",
              "      <td>HARASSMENT,SUBD 3,4,5</td>\n",
              "      <td>COMPLETED</td>\n",
              "      <td>...</td>\n",
              "      <td>45.0</td>\n",
              "      <td>FRONT OF</td>\n",
              "      <td>RESIDENCE - APT. HOUSE</td>\n",
              "      <td>NaN</td>\n",
              "      <td>NaN</td>\n",
              "      <td>1025533.0</td>\n",
              "      <td>244194.0</td>\n",
              "      <td>40.836843</td>\n",
              "      <td>-73.850810</td>\n",
              "      <td>(40.836843178, -73.850809958)</td>\n",
              "    </tr>\n",
              "    <tr>\n",
              "      <th>165179263</th>\n",
              "      <td>11/23/2015</td>\n",
              "      <td>20:46:00</td>\n",
              "      <td>NaN</td>\n",
              "      <td>NaN</td>\n",
              "      <td>11/23/2015</td>\n",
              "      <td>113</td>\n",
              "      <td>FORGERY</td>\n",
              "      <td>729.0</td>\n",
              "      <td>FORGERY,ETC.,UNCLASSIFIED-FELO</td>\n",
              "      <td>COMPLETED</td>\n",
              "      <td>...</td>\n",
              "      <td>33.0</td>\n",
              "      <td>NaN</td>\n",
              "      <td>STREET</td>\n",
              "      <td>NaN</td>\n",
              "      <td>NaN</td>\n",
              "      <td>1000793.0</td>\n",
              "      <td>243627.0</td>\n",
              "      <td>40.835368</td>\n",
              "      <td>-73.940219</td>\n",
              "      <td>(40.835367922, -73.940218512)</td>\n",
              "    </tr>\n",
              "    <tr>\n",
              "      <th>414495240</th>\n",
              "      <td>3/31/2015</td>\n",
              "      <td>12:00:00</td>\n",
              "      <td>3/31/2015</td>\n",
              "      <td>20:26:00</td>\n",
              "      <td>3/31/2015</td>\n",
              "      <td>351</td>\n",
              "      <td>CRIMINAL MISCHIEF &amp; RELATED OF</td>\n",
              "      <td>254.0</td>\n",
              "      <td>MISCHIEF, CRIMINAL 4, OF MOTOR</td>\n",
              "      <td>COMPLETED</td>\n",
              "      <td>...</td>\n",
              "      <td>77.0</td>\n",
              "      <td>FRONT OF</td>\n",
              "      <td>STREET</td>\n",
              "      <td>NaN</td>\n",
              "      <td>NaN</td>\n",
              "      <td>1005328.0</td>\n",
              "      <td>183150.0</td>\n",
              "      <td>40.669364</td>\n",
              "      <td>-73.924020</td>\n",
              "      <td>(40.669364302, -73.924019539)</td>\n",
              "    </tr>\n",
              "    <tr>\n",
              "      <th>705841927</th>\n",
              "      <td>3/2/2014</td>\n",
              "      <td>17:35:00</td>\n",
              "      <td>NaN</td>\n",
              "      <td>NaN</td>\n",
              "      <td>3/2/2014</td>\n",
              "      <td>105</td>\n",
              "      <td>ROBBERY</td>\n",
              "      <td>397.0</td>\n",
              "      <td>ROBBERY,OPEN AREA UNCLASSIFIED</td>\n",
              "      <td>ATTEMPTED</td>\n",
              "      <td>...</td>\n",
              "      <td>25.0</td>\n",
              "      <td>NaN</td>\n",
              "      <td>STREET</td>\n",
              "      <td>NaN</td>\n",
              "      <td>NaN</td>\n",
              "      <td>1001479.0</td>\n",
              "      <td>229653.0</td>\n",
              "      <td>40.797012</td>\n",
              "      <td>-73.937775</td>\n",
              "      <td>(40.797011899, -73.937775323)</td>\n",
              "    </tr>\n",
              "    <tr>\n",
              "      <th>673171949</th>\n",
              "      <td>12/2/2013</td>\n",
              "      <td>14:00:00</td>\n",
              "      <td>NaN</td>\n",
              "      <td>NaN</td>\n",
              "      <td>12/19/2013</td>\n",
              "      <td>578</td>\n",
              "      <td>HARRASSMENT 2</td>\n",
              "      <td>638.0</td>\n",
              "      <td>HARASSMENT,SUBD 3,4,5</td>\n",
              "      <td>COMPLETED</td>\n",
              "      <td>...</td>\n",
              "      <td>120.0</td>\n",
              "      <td>INSIDE</td>\n",
              "      <td>OTHER</td>\n",
              "      <td>NaN</td>\n",
              "      <td>NaN</td>\n",
              "      <td>962824.0</td>\n",
              "      <td>174279.0</td>\n",
              "      <td>40.645015</td>\n",
              "      <td>-74.077210</td>\n",
              "      <td>(40.645014517, -74.07720963)</td>\n",
              "    </tr>\n",
              "    <tr>\n",
              "      <th>418536094</th>\n",
              "      <td>4/5/2014</td>\n",
              "      <td>11:15:00</td>\n",
              "      <td>4/5/2014</td>\n",
              "      <td>11:17:00</td>\n",
              "      <td>4/5/2014</td>\n",
              "      <td>126</td>\n",
              "      <td>MISCELLANEOUS PENAL LAW</td>\n",
              "      <td>779.0</td>\n",
              "      <td>PUBLIC ADMINISTRATION,UNCLASSI</td>\n",
              "      <td>COMPLETED</td>\n",
              "      <td>...</td>\n",
              "      <td>41.0</td>\n",
              "      <td>INSIDE</td>\n",
              "      <td>OTHER</td>\n",
              "      <td>NaN</td>\n",
              "      <td>NaN</td>\n",
              "      <td>1016268.0</td>\n",
              "      <td>227533.0</td>\n",
              "      <td>40.791152</td>\n",
              "      <td>-73.884372</td>\n",
              "      <td>(40.791151867, -73.884371919)</td>\n",
              "    </tr>\n",
              "    <tr>\n",
              "      <th>187313344</th>\n",
              "      <td>7/21/2015</td>\n",
              "      <td>4:00:00</td>\n",
              "      <td>7/21/2015</td>\n",
              "      <td>4:10:00</td>\n",
              "      <td>7/21/2015</td>\n",
              "      <td>347</td>\n",
              "      <td>INTOXICATED &amp; IMPAIRED DRIVING</td>\n",
              "      <td>905.0</td>\n",
              "      <td>INTOXICATED DRIVING,ALCOHOL</td>\n",
              "      <td>COMPLETED</td>\n",
              "      <td>...</td>\n",
              "      <td>115.0</td>\n",
              "      <td>NaN</td>\n",
              "      <td>STREET</td>\n",
              "      <td>NaN</td>\n",
              "      <td>NaN</td>\n",
              "      <td>1021806.0</td>\n",
              "      <td>213740.0</td>\n",
              "      <td>40.753272</td>\n",
              "      <td>-73.864449</td>\n",
              "      <td>(40.753271926, -73.864449141)</td>\n",
              "    </tr>\n",
              "    <tr>\n",
              "      <th>359690039</th>\n",
              "      <td>10/20/2014</td>\n",
              "      <td>21:55:00</td>\n",
              "      <td>NaN</td>\n",
              "      <td>NaN</td>\n",
              "      <td>10/22/2014</td>\n",
              "      <td>578</td>\n",
              "      <td>HARRASSMENT 2</td>\n",
              "      <td>637.0</td>\n",
              "      <td>HARASSMENT,SUBD 1,CIVILIAN</td>\n",
              "      <td>COMPLETED</td>\n",
              "      <td>...</td>\n",
              "      <td>105.0</td>\n",
              "      <td>INSIDE</td>\n",
              "      <td>RESIDENCE-HOUSE</td>\n",
              "      <td>NaN</td>\n",
              "      <td>NaN</td>\n",
              "      <td>1056649.0</td>\n",
              "      <td>196438.0</td>\n",
              "      <td>40.705566</td>\n",
              "      <td>-73.738876</td>\n",
              "      <td>(40.70556573, -73.738875689)</td>\n",
              "    </tr>\n",
              "    <tr>\n",
              "      <th>205008971</th>\n",
              "      <td>12/20/2014</td>\n",
              "      <td>17:15:00</td>\n",
              "      <td>12/20/2014</td>\n",
              "      <td>17:38:00</td>\n",
              "      <td>12/20/2014</td>\n",
              "      <td>351</td>\n",
              "      <td>CRIMINAL MISCHIEF &amp; RELATED OF</td>\n",
              "      <td>259.0</td>\n",
              "      <td>CRIMINAL MISCHIEF,UNCLASSIFIED 4</td>\n",
              "      <td>COMPLETED</td>\n",
              "      <td>...</td>\n",
              "      <td>32.0</td>\n",
              "      <td>FRONT OF</td>\n",
              "      <td>RESIDENCE - APT. HOUSE</td>\n",
              "      <td>NaN</td>\n",
              "      <td>NaN</td>\n",
              "      <td>999241.0</td>\n",
              "      <td>238009.0</td>\n",
              "      <td>40.819951</td>\n",
              "      <td>-73.945840</td>\n",
              "      <td>(40.819950886, -73.945839667)</td>\n",
              "    </tr>\n",
              "    <tr>\n",
              "      <th>510611877</th>\n",
              "      <td>7/21/2015</td>\n",
              "      <td>2:15:00</td>\n",
              "      <td>NaN</td>\n",
              "      <td>NaN</td>\n",
              "      <td>7/21/2015</td>\n",
              "      <td>106</td>\n",
              "      <td>FELONY ASSAULT</td>\n",
              "      <td>109.0</td>\n",
              "      <td>ASSAULT 2,1,UNCLASSIFIED</td>\n",
              "      <td>COMPLETED</td>\n",
              "      <td>...</td>\n",
              "      <td>52.0</td>\n",
              "      <td>INSIDE</td>\n",
              "      <td>GROCERY/BODEGA</td>\n",
              "      <td>NaN</td>\n",
              "      <td>NaN</td>\n",
              "      <td>1018223.0</td>\n",
              "      <td>256804.0</td>\n",
              "      <td>40.871485</td>\n",
              "      <td>-73.877163</td>\n",
              "      <td>(40.871484989, -73.877163426)</td>\n",
              "    </tr>\n",
              "    <tr>\n",
              "      <th>262024380</th>\n",
              "      <td>1/31/2014</td>\n",
              "      <td>21:45:00</td>\n",
              "      <td>1/31/2014</td>\n",
              "      <td>22:00:00</td>\n",
              "      <td>1/31/2014</td>\n",
              "      <td>109</td>\n",
              "      <td>GRAND LARCENY</td>\n",
              "      <td>416.0</td>\n",
              "      <td>LARCENY,GRAND FROM NIGHT CLUB, UNATTENDED</td>\n",
              "      <td>COMPLETED</td>\n",
              "      <td>...</td>\n",
              "      <td>17.0</td>\n",
              "      <td>INSIDE</td>\n",
              "      <td>BAR/NIGHT CLUB</td>\n",
              "      <td>NaN</td>\n",
              "      <td>NaN</td>\n",
              "      <td>990245.0</td>\n",
              "      <td>210844.0</td>\n",
              "      <td>40.745401</td>\n",
              "      <td>-73.978366</td>\n",
              "      <td>(40.745400855, -73.97836603)</td>\n",
              "    </tr>\n",
              "    <tr>\n",
              "      <th>346490596</th>\n",
              "      <td>7/2/2014</td>\n",
              "      <td>13:20:00</td>\n",
              "      <td>7/2/2014</td>\n",
              "      <td>13:23:00</td>\n",
              "      <td>7/2/2014</td>\n",
              "      <td>341</td>\n",
              "      <td>PETIT LARCENY</td>\n",
              "      <td>333.0</td>\n",
              "      <td>LARCENY,PETIT FROM STORE-SHOPL</td>\n",
              "      <td>COMPLETED</td>\n",
              "      <td>...</td>\n",
              "      <td>44.0</td>\n",
              "      <td>INSIDE</td>\n",
              "      <td>STORE UNCLASSIFIED</td>\n",
              "      <td>NaN</td>\n",
              "      <td>NaN</td>\n",
              "      <td>1007152.0</td>\n",
              "      <td>245342.0</td>\n",
              "      <td>40.840061</td>\n",
              "      <td>-73.917233</td>\n",
              "      <td>(40.840060898, -73.917232572)</td>\n",
              "    </tr>\n",
              "    <tr>\n",
              "      <th>986765504</th>\n",
              "      <td>11/3/2015</td>\n",
              "      <td>14:15:00</td>\n",
              "      <td>11/3/2015</td>\n",
              "      <td>14:20:00</td>\n",
              "      <td>11/3/2015</td>\n",
              "      <td>235</td>\n",
              "      <td>DANGEROUS DRUGS</td>\n",
              "      <td>567.0</td>\n",
              "      <td>MARIJUANA, POSSESSION 4 &amp; 5</td>\n",
              "      <td>COMPLETED</td>\n",
              "      <td>...</td>\n",
              "      <td>52.0</td>\n",
              "      <td>NaN</td>\n",
              "      <td>STREET</td>\n",
              "      <td>NaN</td>\n",
              "      <td>NaN</td>\n",
              "      <td>1010695.0</td>\n",
              "      <td>254764.0</td>\n",
              "      <td>40.865912</td>\n",
              "      <td>-73.904391</td>\n",
              "      <td>(40.865911578, -73.904390852)</td>\n",
              "    </tr>\n",
              "    <tr>\n",
              "      <th>837796051</th>\n",
              "      <td>4/27/2014</td>\n",
              "      <td>5:00:00</td>\n",
              "      <td>4/27/2014</td>\n",
              "      <td>5:32:00</td>\n",
              "      <td>4/27/2014</td>\n",
              "      <td>109</td>\n",
              "      <td>GRAND LARCENY</td>\n",
              "      <td>421.0</td>\n",
              "      <td>LARCENY,GRAND FROM VEHICLE/MOTORCYCLE</td>\n",
              "      <td>COMPLETED</td>\n",
              "      <td>...</td>\n",
              "      <td>105.0</td>\n",
              "      <td>FRONT OF</td>\n",
              "      <td>STREET</td>\n",
              "      <td>NaN</td>\n",
              "      <td>NaN</td>\n",
              "      <td>1065806.0</td>\n",
              "      <td>209364.0</td>\n",
              "      <td>40.740965</td>\n",
              "      <td>-73.705692</td>\n",
              "      <td>(40.740964617, -73.705692195)</td>\n",
              "    </tr>\n",
              "    <tr>\n",
              "      <th>292613975</th>\n",
              "      <td>2/15/2015</td>\n",
              "      <td>12:00:00</td>\n",
              "      <td>5/7/2015</td>\n",
              "      <td>14:50:00</td>\n",
              "      <td>5/7/2015</td>\n",
              "      <td>109</td>\n",
              "      <td>GRAND LARCENY</td>\n",
              "      <td>407.0</td>\n",
              "      <td>LARCENY,GRAND BY DISHONEST EMP</td>\n",
              "      <td>COMPLETED</td>\n",
              "      <td>...</td>\n",
              "      <td>102.0</td>\n",
              "      <td>INSIDE</td>\n",
              "      <td>COMMERCIAL BUILDING</td>\n",
              "      <td>NaN</td>\n",
              "      <td>NaN</td>\n",
              "      <td>1034382.0</td>\n",
              "      <td>195195.0</td>\n",
              "      <td>40.702308</td>\n",
              "      <td>-73.819196</td>\n",
              "      <td>(40.702308165, -73.819196369)</td>\n",
              "    </tr>\n",
              "    <tr>\n",
              "      <th>727147379</th>\n",
              "      <td>8/3/2015</td>\n",
              "      <td>13:30:00</td>\n",
              "      <td>8/3/2015</td>\n",
              "      <td>14:00:00</td>\n",
              "      <td>8/3/2015</td>\n",
              "      <td>578</td>\n",
              "      <td>HARRASSMENT 2</td>\n",
              "      <td>638.0</td>\n",
              "      <td>HARASSMENT,SUBD 3,4,5</td>\n",
              "      <td>COMPLETED</td>\n",
              "      <td>...</td>\n",
              "      <td>49.0</td>\n",
              "      <td>INSIDE</td>\n",
              "      <td>RESIDENCE-HOUSE</td>\n",
              "      <td>NaN</td>\n",
              "      <td>NaN</td>\n",
              "      <td>1022596.0</td>\n",
              "      <td>248467.0</td>\n",
              "      <td>40.848585</td>\n",
              "      <td>-73.861399</td>\n",
              "      <td>(40.848584543, -73.861399451)</td>\n",
              "    </tr>\n",
              "    <tr>\n",
              "      <th>669320263</th>\n",
              "      <td>1/30/2015</td>\n",
              "      <td>14:15:00</td>\n",
              "      <td>1/30/2015</td>\n",
              "      <td>14:20:00</td>\n",
              "      <td>1/30/2015</td>\n",
              "      <td>351</td>\n",
              "      <td>CRIMINAL MISCHIEF &amp; RELATED OF</td>\n",
              "      <td>259.0</td>\n",
              "      <td>CRIMINAL MISCHIEF,UNCLASSIFIED 4</td>\n",
              "      <td>COMPLETED</td>\n",
              "      <td>...</td>\n",
              "      <td>83.0</td>\n",
              "      <td>FRONT OF</td>\n",
              "      <td>STORE UNCLASSIFIED</td>\n",
              "      <td>NaN</td>\n",
              "      <td>NaN</td>\n",
              "      <td>1003416.0</td>\n",
              "      <td>195633.0</td>\n",
              "      <td>40.703632</td>\n",
              "      <td>-73.930876</td>\n",
              "      <td>(40.703631619, -73.9308764)</td>\n",
              "    </tr>\n",
              "    <tr>\n",
              "      <th>692636342</th>\n",
              "      <td>4/3/2013</td>\n",
              "      <td>9:00:00</td>\n",
              "      <td>10/2/2015</td>\n",
              "      <td>9:00:00</td>\n",
              "      <td>10/3/2015</td>\n",
              "      <td>361</td>\n",
              "      <td>OFF. AGNST PUB ORD SENSBLTY &amp;</td>\n",
              "      <td>639.0</td>\n",
              "      <td>AGGRAVATED HARASSMENT 2</td>\n",
              "      <td>COMPLETED</td>\n",
              "      <td>...</td>\n",
              "      <td>6.0</td>\n",
              "      <td>INSIDE</td>\n",
              "      <td>RESIDENCE - APT. HOUSE</td>\n",
              "      <td>NaN</td>\n",
              "      <td>NaN</td>\n",
              "      <td>986160.0</td>\n",
              "      <td>205842.0</td>\n",
              "      <td>40.731673</td>\n",
              "      <td>-73.993110</td>\n",
              "      <td>(40.731673428, -73.993109848)</td>\n",
              "    </tr>\n",
              "    <tr>\n",
              "      <th>879643705</th>\n",
              "      <td>7/19/2015</td>\n",
              "      <td>13:50:00</td>\n",
              "      <td>7/19/2015</td>\n",
              "      <td>13:50:00</td>\n",
              "      <td>7/19/2015</td>\n",
              "      <td>344</td>\n",
              "      <td>ASSAULT 3 &amp; RELATED OFFENSES</td>\n",
              "      <td>101.0</td>\n",
              "      <td>ASSAULT 3</td>\n",
              "      <td>COMPLETED</td>\n",
              "      <td>...</td>\n",
              "      <td>46.0</td>\n",
              "      <td>FRONT OF</td>\n",
              "      <td>PARK/PLAYGROUND</td>\n",
              "      <td>NaN</td>\n",
              "      <td>NaN</td>\n",
              "      <td>1006374.0</td>\n",
              "      <td>251139.0</td>\n",
              "      <td>40.855974</td>\n",
              "      <td>-73.920025</td>\n",
              "      <td>(40.855973933, -73.920025172)</td>\n",
              "    </tr>\n",
              "    <tr>\n",
              "      <th>285746315</th>\n",
              "      <td>4/21/2015</td>\n",
              "      <td>2:15:00</td>\n",
              "      <td>4/21/2015</td>\n",
              "      <td>2:45:00</td>\n",
              "      <td>4/21/2015</td>\n",
              "      <td>107</td>\n",
              "      <td>BURGLARY</td>\n",
              "      <td>213.0</td>\n",
              "      <td>BURGLARY,COMMERCIAL,NIGHT</td>\n",
              "      <td>COMPLETED</td>\n",
              "      <td>...</td>\n",
              "      <td>76.0</td>\n",
              "      <td>INSIDE</td>\n",
              "      <td>RESTAURANT/DINER</td>\n",
              "      <td>NaN</td>\n",
              "      <td>NaN</td>\n",
              "      <td>984826.0</td>\n",
              "      <td>184989.0</td>\n",
              "      <td>40.674437</td>\n",
              "      <td>-73.997925</td>\n",
              "      <td>(40.674437016, -73.997924923)</td>\n",
              "    </tr>\n",
              "    <tr>\n",
              "      <th>395719403</th>\n",
              "      <td>2/7/2014</td>\n",
              "      <td>19:30:00</td>\n",
              "      <td>2/7/2014</td>\n",
              "      <td>20:12:00</td>\n",
              "      <td>2/7/2014</td>\n",
              "      <td>341</td>\n",
              "      <td>PETIT LARCENY</td>\n",
              "      <td>338.0</td>\n",
              "      <td>LARCENY,PETIT FROM BUILDING,UN</td>\n",
              "      <td>COMPLETED</td>\n",
              "      <td>...</td>\n",
              "      <td>47.0</td>\n",
              "      <td>INSIDE</td>\n",
              "      <td>RESIDENCE-HOUSE</td>\n",
              "      <td>NaN</td>\n",
              "      <td>NaN</td>\n",
              "      <td>1026235.0</td>\n",
              "      <td>269439.0</td>\n",
              "      <td>40.906130</td>\n",
              "      <td>-73.848115</td>\n",
              "      <td>(40.906129566, -73.84811484)</td>\n",
              "    </tr>\n",
              "    <tr>\n",
              "      <th>136942009</th>\n",
              "      <td>10/31/2015</td>\n",
              "      <td>18:55:00</td>\n",
              "      <td>10/31/2015</td>\n",
              "      <td>18:55:00</td>\n",
              "      <td>10/31/2015</td>\n",
              "      <td>351</td>\n",
              "      <td>CRIMINAL MISCHIEF &amp; RELATED OF</td>\n",
              "      <td>259.0</td>\n",
              "      <td>CRIMINAL MISCHIEF,UNCLASSIFIED 4</td>\n",
              "      <td>COMPLETED</td>\n",
              "      <td>...</td>\n",
              "      <td>113.0</td>\n",
              "      <td>FRONT OF</td>\n",
              "      <td>RESIDENCE - APT. HOUSE</td>\n",
              "      <td>NaN</td>\n",
              "      <td>NaN</td>\n",
              "      <td>1051994.0</td>\n",
              "      <td>191764.0</td>\n",
              "      <td>40.692774</td>\n",
              "      <td>-73.755712</td>\n",
              "      <td>(40.692773602, -73.755712075)</td>\n",
              "    </tr>\n",
              "    <tr>\n",
              "      <th>562538979</th>\n",
              "      <td>12/13/2015</td>\n",
              "      <td>0:00:00</td>\n",
              "      <td>12/13/2015</td>\n",
              "      <td>0:13:00</td>\n",
              "      <td>12/13/2015</td>\n",
              "      <td>235</td>\n",
              "      <td>DANGEROUS DRUGS</td>\n",
              "      <td>567.0</td>\n",
              "      <td>MARIJUANA, POSSESSION 4 &amp; 5</td>\n",
              "      <td>COMPLETED</td>\n",
              "      <td>...</td>\n",
              "      <td>52.0</td>\n",
              "      <td>NaN</td>\n",
              "      <td>STREET</td>\n",
              "      <td>NaN</td>\n",
              "      <td>NaN</td>\n",
              "      <td>1010182.0</td>\n",
              "      <td>252599.0</td>\n",
              "      <td>40.859971</td>\n",
              "      <td>-73.906254</td>\n",
              "      <td>(40.859970831, -73.906253954)</td>\n",
              "    </tr>\n",
              "    <tr>\n",
              "      <th>705091937</th>\n",
              "      <td>3/25/2015</td>\n",
              "      <td>18:20:00</td>\n",
              "      <td>3/25/2015</td>\n",
              "      <td>18:30:00</td>\n",
              "      <td>3/25/2015</td>\n",
              "      <td>348</td>\n",
              "      <td>VEHICLE AND TRAFFIC LAWS</td>\n",
              "      <td>916.0</td>\n",
              "      <td>LEAVING SCENE-ACCIDENT-PERSONA</td>\n",
              "      <td>COMPLETED</td>\n",
              "      <td>...</td>\n",
              "      <td>102.0</td>\n",
              "      <td>NaN</td>\n",
              "      <td>STREET</td>\n",
              "      <td>NaN</td>\n",
              "      <td>NaN</td>\n",
              "      <td>1025933.0</td>\n",
              "      <td>189934.0</td>\n",
              "      <td>40.687912</td>\n",
              "      <td>-73.849701</td>\n",
              "      <td>(40.687911791, -73.849700855)</td>\n",
              "    </tr>\n",
              "    <tr>\n",
              "      <th>185959648</th>\n",
              "      <td>11/28/2013</td>\n",
              "      <td>4:38:00</td>\n",
              "      <td>11/28/2013</td>\n",
              "      <td>4:40:00</td>\n",
              "      <td>11/28/2013</td>\n",
              "      <td>348</td>\n",
              "      <td>VEHICLE AND TRAFFIC LAWS</td>\n",
              "      <td>916.0</td>\n",
              "      <td>LEAVING SCENE-ACCIDENT-PERSONA</td>\n",
              "      <td>COMPLETED</td>\n",
              "      <td>...</td>\n",
              "      <td>71.0</td>\n",
              "      <td>FRONT OF</td>\n",
              "      <td>STREET</td>\n",
              "      <td>NaN</td>\n",
              "      <td>NaN</td>\n",
              "      <td>996588.0</td>\n",
              "      <td>181055.0</td>\n",
              "      <td>40.663630</td>\n",
              "      <td>-73.955529</td>\n",
              "      <td>(40.663630486, -73.955529289)</td>\n",
              "    </tr>\n",
              "    <tr>\n",
              "      <th>624262344</th>\n",
              "      <td>11/26/2015</td>\n",
              "      <td>19:15:00</td>\n",
              "      <td>11/26/2015</td>\n",
              "      <td>19:30:00</td>\n",
              "      <td>11/26/2015</td>\n",
              "      <td>341</td>\n",
              "      <td>PETIT LARCENY</td>\n",
              "      <td>321.0</td>\n",
              "      <td>LARCENY,PETIT FROM AUTO</td>\n",
              "      <td>COMPLETED</td>\n",
              "      <td>...</td>\n",
              "      <td>41.0</td>\n",
              "      <td>FRONT OF</td>\n",
              "      <td>STREET</td>\n",
              "      <td>NaN</td>\n",
              "      <td>NaN</td>\n",
              "      <td>1013070.0</td>\n",
              "      <td>238703.0</td>\n",
              "      <td>40.821821</td>\n",
              "      <td>-73.895873</td>\n",
              "      <td>(40.821821427, -73.895873187)</td>\n",
              "    </tr>\n",
              "    <tr>\n",
              "      <th>515286632</th>\n",
              "      <td>6/16/2015</td>\n",
              "      <td>15:00:00</td>\n",
              "      <td>NaN</td>\n",
              "      <td>NaN</td>\n",
              "      <td>6/16/2015</td>\n",
              "      <td>578</td>\n",
              "      <td>HARRASSMENT 2</td>\n",
              "      <td>638.0</td>\n",
              "      <td>HARASSMENT,SUBD 3,4,5</td>\n",
              "      <td>COMPLETED</td>\n",
              "      <td>...</td>\n",
              "      <td>69.0</td>\n",
              "      <td>INSIDE</td>\n",
              "      <td>COMMERCIAL BUILDING</td>\n",
              "      <td>NaN</td>\n",
              "      <td>NaN</td>\n",
              "      <td>1006682.0</td>\n",
              "      <td>172587.0</td>\n",
              "      <td>40.640368</td>\n",
              "      <td>-73.919174</td>\n",
              "      <td>(40.640367856, -73.919173781)</td>\n",
              "    </tr>\n",
              "    <tr>\n",
              "      <th>621672278</th>\n",
              "      <td>11/18/2015</td>\n",
              "      <td>13:20:00</td>\n",
              "      <td>NaN</td>\n",
              "      <td>NaN</td>\n",
              "      <td>12/7/2015</td>\n",
              "      <td>578</td>\n",
              "      <td>HARRASSMENT 2</td>\n",
              "      <td>637.0</td>\n",
              "      <td>HARASSMENT,SUBD 1,CIVILIAN</td>\n",
              "      <td>COMPLETED</td>\n",
              "      <td>...</td>\n",
              "      <td>23.0</td>\n",
              "      <td>OPPOSITE OF</td>\n",
              "      <td>STREET</td>\n",
              "      <td>NaN</td>\n",
              "      <td>NaN</td>\n",
              "      <td>999834.0</td>\n",
              "      <td>229197.0</td>\n",
              "      <td>40.795763</td>\n",
              "      <td>-73.943718</td>\n",
              "      <td>(40.795763357, -73.94371764)</td>\n",
              "    </tr>\n",
              "  </tbody>\n",
              "</table>\n",
              "<p>50 rows × 23 columns</p>\n",
              "</div>\n",
              "      <button class=\"colab-df-convert\" onclick=\"convertToInteractive('df-91bf24b6-2502-4968-9a35-ee0a9a1e70e8')\"\n",
              "              title=\"Convert this dataframe to an interactive table.\"\n",
              "              style=\"display:none;\">\n",
              "        \n",
              "  <svg xmlns=\"http://www.w3.org/2000/svg\" height=\"24px\"viewBox=\"0 0 24 24\"\n",
              "       width=\"24px\">\n",
              "    <path d=\"M0 0h24v24H0V0z\" fill=\"none\"/>\n",
              "    <path d=\"M18.56 5.44l.94 2.06.94-2.06 2.06-.94-2.06-.94-.94-2.06-.94 2.06-2.06.94zm-11 1L8.5 8.5l.94-2.06 2.06-.94-2.06-.94L8.5 2.5l-.94 2.06-2.06.94zm10 10l.94 2.06.94-2.06 2.06-.94-2.06-.94-.94-2.06-.94 2.06-2.06.94z\"/><path d=\"M17.41 7.96l-1.37-1.37c-.4-.4-.92-.59-1.43-.59-.52 0-1.04.2-1.43.59L10.3 9.45l-7.72 7.72c-.78.78-.78 2.05 0 2.83L4 21.41c.39.39.9.59 1.41.59.51 0 1.02-.2 1.41-.59l7.78-7.78 2.81-2.81c.8-.78.8-2.07 0-2.86zM5.41 20L4 18.59l7.72-7.72 1.47 1.35L5.41 20z\"/>\n",
              "  </svg>\n",
              "      </button>\n",
              "      \n",
              "  <style>\n",
              "    .colab-df-container {\n",
              "      display:flex;\n",
              "      flex-wrap:wrap;\n",
              "      gap: 12px;\n",
              "    }\n",
              "\n",
              "    .colab-df-convert {\n",
              "      background-color: #E8F0FE;\n",
              "      border: none;\n",
              "      border-radius: 50%;\n",
              "      cursor: pointer;\n",
              "      display: none;\n",
              "      fill: #1967D2;\n",
              "      height: 32px;\n",
              "      padding: 0 0 0 0;\n",
              "      width: 32px;\n",
              "    }\n",
              "\n",
              "    .colab-df-convert:hover {\n",
              "      background-color: #E2EBFA;\n",
              "      box-shadow: 0px 1px 2px rgba(60, 64, 67, 0.3), 0px 1px 3px 1px rgba(60, 64, 67, 0.15);\n",
              "      fill: #174EA6;\n",
              "    }\n",
              "\n",
              "    [theme=dark] .colab-df-convert {\n",
              "      background-color: #3B4455;\n",
              "      fill: #D2E3FC;\n",
              "    }\n",
              "\n",
              "    [theme=dark] .colab-df-convert:hover {\n",
              "      background-color: #434B5C;\n",
              "      box-shadow: 0px 1px 3px 1px rgba(0, 0, 0, 0.15);\n",
              "      filter: drop-shadow(0px 1px 2px rgba(0, 0, 0, 0.3));\n",
              "      fill: #FFFFFF;\n",
              "    }\n",
              "  </style>\n",
              "\n",
              "      <script>\n",
              "        const buttonEl =\n",
              "          document.querySelector('#df-91bf24b6-2502-4968-9a35-ee0a9a1e70e8 button.colab-df-convert');\n",
              "        buttonEl.style.display =\n",
              "          google.colab.kernel.accessAllowed ? 'block' : 'none';\n",
              "\n",
              "        async function convertToInteractive(key) {\n",
              "          const element = document.querySelector('#df-91bf24b6-2502-4968-9a35-ee0a9a1e70e8');\n",
              "          const dataTable =\n",
              "            await google.colab.kernel.invokeFunction('convertToInteractive',\n",
              "                                                     [key], {});\n",
              "          if (!dataTable) return;\n",
              "\n",
              "          const docLinkHtml = 'Like what you see? Visit the ' +\n",
              "            '<a target=\"_blank\" href=https://colab.research.google.com/notebooks/data_table.ipynb>data table notebook</a>'\n",
              "            + ' to learn more about interactive tables.';\n",
              "          element.innerHTML = '';\n",
              "          dataTable['output_type'] = 'display_data';\n",
              "          await google.colab.output.renderOutput(dataTable, element);\n",
              "          const docLink = document.createElement('div');\n",
              "          docLink.innerHTML = docLinkHtml;\n",
              "          element.appendChild(docLink);\n",
              "        }\n",
              "      </script>\n",
              "    </div>\n",
              "  </div>\n",
              "  "
            ]
          },
          "metadata": {},
          "execution_count": 14
        }
      ],
      "source": [
        "sampSeries"
      ]
    },
    {
      "cell_type": "code",
      "execution_count": null,
      "metadata": {
        "colab": {
          "base_uri": "https://localhost:8080/"
        },
        "id": "nXdwXDtz7Jr8",
        "outputId": "2830e590-3ea9-4eb9-e9ec-22729550226d"
      },
      "outputs": [
        {
          "output_type": "execute_result",
          "data": {
            "text/plain": [
              "(50, 23)"
            ]
          },
          "metadata": {},
          "execution_count": 15
        }
      ],
      "source": [
        "sampSeries.shape"
      ]
    },
    {
      "cell_type": "code",
      "execution_count": null,
      "metadata": {
        "colab": {
          "base_uri": "https://localhost:8080/",
          "height": 300
        },
        "id": "mCFFdmMO8CDr",
        "outputId": "c80ffe7f-ea63-4fa9-a9a7-0c36b251d1f7"
      },
      "outputs": [
        {
          "output_type": "execute_result",
          "data": {
            "text/plain": [
              "            KY_CD       PD_CD  ADDR_PCT_CD    X_COORD_CD     Y_COORD_CD  \\\n",
              "count   50.000000   50.000000    50.000000  5.000000e+01      50.000000   \n",
              "mean   301.420000  433.880000    64.220000  1.008036e+06  217103.200000   \n",
              "std    145.435039  224.708395    35.049988  2.484164e+04   30624.518173   \n",
              "min    105.000000  101.000000     6.000000  9.378030e+05  132862.000000   \n",
              "25%    126.000000  259.000000    42.250000  9.969180e+05  192621.750000   \n",
              "50%    341.000000  338.000000    50.500000  1.008667e+06  220475.500000   \n",
              "75%    351.000000  637.750000   102.000000  1.022398e+06  244052.250000   \n",
              "max    578.000000  916.000000   123.000000  1.065806e+06  269439.000000   \n",
              "\n",
              "        Latitude  Longitude  \n",
              "count  50.000000  50.000000  \n",
              "mean   40.762516 -73.914086  \n",
              "std     0.084060   0.089612  \n",
              "min    40.531237 -74.167087  \n",
              "25%    40.695157 -73.954317  \n",
              "50%    40.771769 -73.911743  \n",
              "75%    40.836474 -73.862162  \n",
              "max    40.906130 -73.705692  "
            ],
            "text/html": [
              "\n",
              "  <div id=\"df-abe69c24-d403-45a7-ab9f-58aa9973b230\">\n",
              "    <div class=\"colab-df-container\">\n",
              "      <div>\n",
              "<style scoped>\n",
              "    .dataframe tbody tr th:only-of-type {\n",
              "        vertical-align: middle;\n",
              "    }\n",
              "\n",
              "    .dataframe tbody tr th {\n",
              "        vertical-align: top;\n",
              "    }\n",
              "\n",
              "    .dataframe thead th {\n",
              "        text-align: right;\n",
              "    }\n",
              "</style>\n",
              "<table border=\"1\" class=\"dataframe\">\n",
              "  <thead>\n",
              "    <tr style=\"text-align: right;\">\n",
              "      <th></th>\n",
              "      <th>KY_CD</th>\n",
              "      <th>PD_CD</th>\n",
              "      <th>ADDR_PCT_CD</th>\n",
              "      <th>X_COORD_CD</th>\n",
              "      <th>Y_COORD_CD</th>\n",
              "      <th>Latitude</th>\n",
              "      <th>Longitude</th>\n",
              "    </tr>\n",
              "  </thead>\n",
              "  <tbody>\n",
              "    <tr>\n",
              "      <th>count</th>\n",
              "      <td>50.000000</td>\n",
              "      <td>50.000000</td>\n",
              "      <td>50.000000</td>\n",
              "      <td>5.000000e+01</td>\n",
              "      <td>50.000000</td>\n",
              "      <td>50.000000</td>\n",
              "      <td>50.000000</td>\n",
              "    </tr>\n",
              "    <tr>\n",
              "      <th>mean</th>\n",
              "      <td>301.420000</td>\n",
              "      <td>433.880000</td>\n",
              "      <td>64.220000</td>\n",
              "      <td>1.008036e+06</td>\n",
              "      <td>217103.200000</td>\n",
              "      <td>40.762516</td>\n",
              "      <td>-73.914086</td>\n",
              "    </tr>\n",
              "    <tr>\n",
              "      <th>std</th>\n",
              "      <td>145.435039</td>\n",
              "      <td>224.708395</td>\n",
              "      <td>35.049988</td>\n",
              "      <td>2.484164e+04</td>\n",
              "      <td>30624.518173</td>\n",
              "      <td>0.084060</td>\n",
              "      <td>0.089612</td>\n",
              "    </tr>\n",
              "    <tr>\n",
              "      <th>min</th>\n",
              "      <td>105.000000</td>\n",
              "      <td>101.000000</td>\n",
              "      <td>6.000000</td>\n",
              "      <td>9.378030e+05</td>\n",
              "      <td>132862.000000</td>\n",
              "      <td>40.531237</td>\n",
              "      <td>-74.167087</td>\n",
              "    </tr>\n",
              "    <tr>\n",
              "      <th>25%</th>\n",
              "      <td>126.000000</td>\n",
              "      <td>259.000000</td>\n",
              "      <td>42.250000</td>\n",
              "      <td>9.969180e+05</td>\n",
              "      <td>192621.750000</td>\n",
              "      <td>40.695157</td>\n",
              "      <td>-73.954317</td>\n",
              "    </tr>\n",
              "    <tr>\n",
              "      <th>50%</th>\n",
              "      <td>341.000000</td>\n",
              "      <td>338.000000</td>\n",
              "      <td>50.500000</td>\n",
              "      <td>1.008667e+06</td>\n",
              "      <td>220475.500000</td>\n",
              "      <td>40.771769</td>\n",
              "      <td>-73.911743</td>\n",
              "    </tr>\n",
              "    <tr>\n",
              "      <th>75%</th>\n",
              "      <td>351.000000</td>\n",
              "      <td>637.750000</td>\n",
              "      <td>102.000000</td>\n",
              "      <td>1.022398e+06</td>\n",
              "      <td>244052.250000</td>\n",
              "      <td>40.836474</td>\n",
              "      <td>-73.862162</td>\n",
              "    </tr>\n",
              "    <tr>\n",
              "      <th>max</th>\n",
              "      <td>578.000000</td>\n",
              "      <td>916.000000</td>\n",
              "      <td>123.000000</td>\n",
              "      <td>1.065806e+06</td>\n",
              "      <td>269439.000000</td>\n",
              "      <td>40.906130</td>\n",
              "      <td>-73.705692</td>\n",
              "    </tr>\n",
              "  </tbody>\n",
              "</table>\n",
              "</div>\n",
              "      <button class=\"colab-df-convert\" onclick=\"convertToInteractive('df-abe69c24-d403-45a7-ab9f-58aa9973b230')\"\n",
              "              title=\"Convert this dataframe to an interactive table.\"\n",
              "              style=\"display:none;\">\n",
              "        \n",
              "  <svg xmlns=\"http://www.w3.org/2000/svg\" height=\"24px\"viewBox=\"0 0 24 24\"\n",
              "       width=\"24px\">\n",
              "    <path d=\"M0 0h24v24H0V0z\" fill=\"none\"/>\n",
              "    <path d=\"M18.56 5.44l.94 2.06.94-2.06 2.06-.94-2.06-.94-.94-2.06-.94 2.06-2.06.94zm-11 1L8.5 8.5l.94-2.06 2.06-.94-2.06-.94L8.5 2.5l-.94 2.06-2.06.94zm10 10l.94 2.06.94-2.06 2.06-.94-2.06-.94-.94-2.06-.94 2.06-2.06.94z\"/><path d=\"M17.41 7.96l-1.37-1.37c-.4-.4-.92-.59-1.43-.59-.52 0-1.04.2-1.43.59L10.3 9.45l-7.72 7.72c-.78.78-.78 2.05 0 2.83L4 21.41c.39.39.9.59 1.41.59.51 0 1.02-.2 1.41-.59l7.78-7.78 2.81-2.81c.8-.78.8-2.07 0-2.86zM5.41 20L4 18.59l7.72-7.72 1.47 1.35L5.41 20z\"/>\n",
              "  </svg>\n",
              "      </button>\n",
              "      \n",
              "  <style>\n",
              "    .colab-df-container {\n",
              "      display:flex;\n",
              "      flex-wrap:wrap;\n",
              "      gap: 12px;\n",
              "    }\n",
              "\n",
              "    .colab-df-convert {\n",
              "      background-color: #E8F0FE;\n",
              "      border: none;\n",
              "      border-radius: 50%;\n",
              "      cursor: pointer;\n",
              "      display: none;\n",
              "      fill: #1967D2;\n",
              "      height: 32px;\n",
              "      padding: 0 0 0 0;\n",
              "      width: 32px;\n",
              "    }\n",
              "\n",
              "    .colab-df-convert:hover {\n",
              "      background-color: #E2EBFA;\n",
              "      box-shadow: 0px 1px 2px rgba(60, 64, 67, 0.3), 0px 1px 3px 1px rgba(60, 64, 67, 0.15);\n",
              "      fill: #174EA6;\n",
              "    }\n",
              "\n",
              "    [theme=dark] .colab-df-convert {\n",
              "      background-color: #3B4455;\n",
              "      fill: #D2E3FC;\n",
              "    }\n",
              "\n",
              "    [theme=dark] .colab-df-convert:hover {\n",
              "      background-color: #434B5C;\n",
              "      box-shadow: 0px 1px 3px 1px rgba(0, 0, 0, 0.15);\n",
              "      filter: drop-shadow(0px 1px 2px rgba(0, 0, 0, 0.3));\n",
              "      fill: #FFFFFF;\n",
              "    }\n",
              "  </style>\n",
              "\n",
              "      <script>\n",
              "        const buttonEl =\n",
              "          document.querySelector('#df-abe69c24-d403-45a7-ab9f-58aa9973b230 button.colab-df-convert');\n",
              "        buttonEl.style.display =\n",
              "          google.colab.kernel.accessAllowed ? 'block' : 'none';\n",
              "\n",
              "        async function convertToInteractive(key) {\n",
              "          const element = document.querySelector('#df-abe69c24-d403-45a7-ab9f-58aa9973b230');\n",
              "          const dataTable =\n",
              "            await google.colab.kernel.invokeFunction('convertToInteractive',\n",
              "                                                     [key], {});\n",
              "          if (!dataTable) return;\n",
              "\n",
              "          const docLinkHtml = 'Like what you see? Visit the ' +\n",
              "            '<a target=\"_blank\" href=https://colab.research.google.com/notebooks/data_table.ipynb>data table notebook</a>'\n",
              "            + ' to learn more about interactive tables.';\n",
              "          element.innerHTML = '';\n",
              "          dataTable['output_type'] = 'display_data';\n",
              "          await google.colab.output.renderOutput(dataTable, element);\n",
              "          const docLink = document.createElement('div');\n",
              "          docLink.innerHTML = docLinkHtml;\n",
              "          element.appendChild(docLink);\n",
              "        }\n",
              "      </script>\n",
              "    </div>\n",
              "  </div>\n",
              "  "
            ]
          },
          "metadata": {},
          "execution_count": 16
        }
      ],
      "source": [
        "sampSeries.describe()"
      ]
    },
    {
      "cell_type": "markdown",
      "metadata": {
        "id": "IucJEEYaFiqH"
      },
      "source": [
        "Checks for missing values in columns. This function comes under data cleaning."
      ]
    },
    {
      "cell_type": "code",
      "execution_count": null,
      "metadata": {
        "colab": {
          "base_uri": "https://localhost:8080/"
        },
        "id": "K5eJzAGT8Wu_",
        "outputId": "f85a727c-e234-4e03-b37d-cc70d1ca9761"
      },
      "outputs": [
        {
          "output_type": "execute_result",
          "data": {
            "text/plain": [
              "CMPLNT_FR_DT          0\n",
              "CMPLNT_FR_TM          0\n",
              "CMPLNT_TO_DT         11\n",
              "CMPLNT_TO_TM         11\n",
              "RPT_DT                0\n",
              "KY_CD                 0\n",
              "OFNS_DESC             0\n",
              "PD_CD                 0\n",
              "PD_DESC               0\n",
              "CRM_ATPT_CPTD_CD      0\n",
              "LAW_CAT_CD            0\n",
              "JURIS_DESC            0\n",
              "BORO_NM               0\n",
              "ADDR_PCT_CD           0\n",
              "LOC_OF_OCCUR_DESC     9\n",
              "PREM_TYP_DESC         2\n",
              "PARKS_NM             50\n",
              "HADEVELOPT           50\n",
              "X_COORD_CD            0\n",
              "Y_COORD_CD            0\n",
              "Latitude              0\n",
              "Longitude             0\n",
              "Lat_Lon               0\n",
              "dtype: int64"
            ]
          },
          "metadata": {},
          "execution_count": 17
        }
      ],
      "source": [
        "sampSeries.isnull().sum()"
      ]
    },
    {
      "cell_type": "markdown",
      "metadata": {
        "id": "MrGV_c8bFq7x"
      },
      "source": [
        "Replacing these columns so that the dataset doesnt have any null cell."
      ]
    },
    {
      "cell_type": "code",
      "execution_count": null,
      "metadata": {
        "id": "_Pl4bcPviyCV"
      },
      "outputs": [],
      "source": [
        "#Replacing numerical column null values with mean\n",
        "median1=sampSeries['X_COORD_CD'].median()\n",
        "median2=sampSeries['Y_COORD_CD'].median()\n",
        "median3=sampSeries['Latitude'].median()\n",
        "median4=sampSeries['Longitude'].median()\n",
        "\n",
        "sampSeries[\"X_COORD_CD\"].replace(np.nan, median1, inplace = True)\n",
        "sampSeries[\"Y_COORD_CD\"].replace(np.nan, median2, inplace = True)\n",
        "sampSeries[\"Latitude\"].replace(np.nan, median3, inplace = True)\n",
        "sampSeries[\"Longitude\"].replace(np.nan, median4, inplace = True)"
      ]
    },
    {
      "cell_type": "code",
      "execution_count": null,
      "metadata": {
        "colab": {
          "base_uri": "https://localhost:8080/"
        },
        "id": "Dz_VNnhYpLkF",
        "outputId": "3e5fdc14-949e-4fba-cf2f-78ce3c4d129f"
      },
      "outputs": [
        {
          "output_type": "execute_result",
          "data": {
            "text/plain": [
              "CMPLNT_FR_DT          0\n",
              "CMPLNT_FR_TM          0\n",
              "CMPLNT_TO_DT         11\n",
              "CMPLNT_TO_TM         11\n",
              "RPT_DT                0\n",
              "KY_CD                 0\n",
              "OFNS_DESC             0\n",
              "PD_CD                 0\n",
              "PD_DESC               0\n",
              "CRM_ATPT_CPTD_CD      0\n",
              "LAW_CAT_CD            0\n",
              "JURIS_DESC            0\n",
              "BORO_NM               0\n",
              "ADDR_PCT_CD           0\n",
              "LOC_OF_OCCUR_DESC     9\n",
              "PREM_TYP_DESC         2\n",
              "PARKS_NM             50\n",
              "HADEVELOPT           50\n",
              "X_COORD_CD            0\n",
              "Y_COORD_CD            0\n",
              "Latitude              0\n",
              "Longitude             0\n",
              "Lat_Lon               0\n",
              "dtype: int64"
            ]
          },
          "metadata": {},
          "execution_count": 19
        }
      ],
      "source": [
        "#Checks for Null\n",
        "sampSeries.isnull().sum()"
      ]
    },
    {
      "cell_type": "code",
      "execution_count": null,
      "metadata": {
        "colab": {
          "base_uri": "https://localhost:8080/",
          "height": 191
        },
        "id": "7LEpULXuXy_j",
        "outputId": "78f2d6c7-cb24-435d-fadf-a0891388128d"
      },
      "outputs": [
        {
          "output_type": "stream",
          "name": "stdout",
          "text": [
            "0\n"
          ]
        },
        {
          "output_type": "execute_result",
          "data": {
            "text/plain": [
              "Empty DataFrame\n",
              "Columns: [CMPLNT_FR_DT, CMPLNT_FR_TM, CMPLNT_TO_DT, CMPLNT_TO_TM, RPT_DT, KY_CD, OFNS_DESC, PD_CD, PD_DESC, CRM_ATPT_CPTD_CD, LAW_CAT_CD, JURIS_DESC, BORO_NM, ADDR_PCT_CD, LOC_OF_OCCUR_DESC, PREM_TYP_DESC, PARKS_NM, HADEVELOPT, X_COORD_CD, Y_COORD_CD, Latitude, Longitude, Lat_Lon]\n",
              "Index: []\n",
              "\n",
              "[0 rows x 23 columns]"
            ],
            "text/html": [
              "\n",
              "  <div id=\"df-21333ae8-d723-4277-9e9f-df244e6769cd\">\n",
              "    <div class=\"colab-df-container\">\n",
              "      <div>\n",
              "<style scoped>\n",
              "    .dataframe tbody tr th:only-of-type {\n",
              "        vertical-align: middle;\n",
              "    }\n",
              "\n",
              "    .dataframe tbody tr th {\n",
              "        vertical-align: top;\n",
              "    }\n",
              "\n",
              "    .dataframe thead th {\n",
              "        text-align: right;\n",
              "    }\n",
              "</style>\n",
              "<table border=\"1\" class=\"dataframe\">\n",
              "  <thead>\n",
              "    <tr style=\"text-align: right;\">\n",
              "      <th></th>\n",
              "      <th>CMPLNT_FR_DT</th>\n",
              "      <th>CMPLNT_FR_TM</th>\n",
              "      <th>CMPLNT_TO_DT</th>\n",
              "      <th>CMPLNT_TO_TM</th>\n",
              "      <th>RPT_DT</th>\n",
              "      <th>KY_CD</th>\n",
              "      <th>OFNS_DESC</th>\n",
              "      <th>PD_CD</th>\n",
              "      <th>PD_DESC</th>\n",
              "      <th>CRM_ATPT_CPTD_CD</th>\n",
              "      <th>...</th>\n",
              "      <th>ADDR_PCT_CD</th>\n",
              "      <th>LOC_OF_OCCUR_DESC</th>\n",
              "      <th>PREM_TYP_DESC</th>\n",
              "      <th>PARKS_NM</th>\n",
              "      <th>HADEVELOPT</th>\n",
              "      <th>X_COORD_CD</th>\n",
              "      <th>Y_COORD_CD</th>\n",
              "      <th>Latitude</th>\n",
              "      <th>Longitude</th>\n",
              "      <th>Lat_Lon</th>\n",
              "    </tr>\n",
              "    <tr>\n",
              "      <th>CMPLNT_NUM</th>\n",
              "      <th></th>\n",
              "      <th></th>\n",
              "      <th></th>\n",
              "      <th></th>\n",
              "      <th></th>\n",
              "      <th></th>\n",
              "      <th></th>\n",
              "      <th></th>\n",
              "      <th></th>\n",
              "      <th></th>\n",
              "      <th></th>\n",
              "      <th></th>\n",
              "      <th></th>\n",
              "      <th></th>\n",
              "      <th></th>\n",
              "      <th></th>\n",
              "      <th></th>\n",
              "      <th></th>\n",
              "      <th></th>\n",
              "      <th></th>\n",
              "      <th></th>\n",
              "    </tr>\n",
              "  </thead>\n",
              "  <tbody>\n",
              "  </tbody>\n",
              "</table>\n",
              "<p>0 rows × 23 columns</p>\n",
              "</div>\n",
              "      <button class=\"colab-df-convert\" onclick=\"convertToInteractive('df-21333ae8-d723-4277-9e9f-df244e6769cd')\"\n",
              "              title=\"Convert this dataframe to an interactive table.\"\n",
              "              style=\"display:none;\">\n",
              "        \n",
              "  <svg xmlns=\"http://www.w3.org/2000/svg\" height=\"24px\"viewBox=\"0 0 24 24\"\n",
              "       width=\"24px\">\n",
              "    <path d=\"M0 0h24v24H0V0z\" fill=\"none\"/>\n",
              "    <path d=\"M18.56 5.44l.94 2.06.94-2.06 2.06-.94-2.06-.94-.94-2.06-.94 2.06-2.06.94zm-11 1L8.5 8.5l.94-2.06 2.06-.94-2.06-.94L8.5 2.5l-.94 2.06-2.06.94zm10 10l.94 2.06.94-2.06 2.06-.94-2.06-.94-.94-2.06-.94 2.06-2.06.94z\"/><path d=\"M17.41 7.96l-1.37-1.37c-.4-.4-.92-.59-1.43-.59-.52 0-1.04.2-1.43.59L10.3 9.45l-7.72 7.72c-.78.78-.78 2.05 0 2.83L4 21.41c.39.39.9.59 1.41.59.51 0 1.02-.2 1.41-.59l7.78-7.78 2.81-2.81c.8-.78.8-2.07 0-2.86zM5.41 20L4 18.59l7.72-7.72 1.47 1.35L5.41 20z\"/>\n",
              "  </svg>\n",
              "      </button>\n",
              "      \n",
              "  <style>\n",
              "    .colab-df-container {\n",
              "      display:flex;\n",
              "      flex-wrap:wrap;\n",
              "      gap: 12px;\n",
              "    }\n",
              "\n",
              "    .colab-df-convert {\n",
              "      background-color: #E8F0FE;\n",
              "      border: none;\n",
              "      border-radius: 50%;\n",
              "      cursor: pointer;\n",
              "      display: none;\n",
              "      fill: #1967D2;\n",
              "      height: 32px;\n",
              "      padding: 0 0 0 0;\n",
              "      width: 32px;\n",
              "    }\n",
              "\n",
              "    .colab-df-convert:hover {\n",
              "      background-color: #E2EBFA;\n",
              "      box-shadow: 0px 1px 2px rgba(60, 64, 67, 0.3), 0px 1px 3px 1px rgba(60, 64, 67, 0.15);\n",
              "      fill: #174EA6;\n",
              "    }\n",
              "\n",
              "    [theme=dark] .colab-df-convert {\n",
              "      background-color: #3B4455;\n",
              "      fill: #D2E3FC;\n",
              "    }\n",
              "\n",
              "    [theme=dark] .colab-df-convert:hover {\n",
              "      background-color: #434B5C;\n",
              "      box-shadow: 0px 1px 3px 1px rgba(0, 0, 0, 0.15);\n",
              "      filter: drop-shadow(0px 1px 2px rgba(0, 0, 0, 0.3));\n",
              "      fill: #FFFFFF;\n",
              "    }\n",
              "  </style>\n",
              "\n",
              "      <script>\n",
              "        const buttonEl =\n",
              "          document.querySelector('#df-21333ae8-d723-4277-9e9f-df244e6769cd button.colab-df-convert');\n",
              "        buttonEl.style.display =\n",
              "          google.colab.kernel.accessAllowed ? 'block' : 'none';\n",
              "\n",
              "        async function convertToInteractive(key) {\n",
              "          const element = document.querySelector('#df-21333ae8-d723-4277-9e9f-df244e6769cd');\n",
              "          const dataTable =\n",
              "            await google.colab.kernel.invokeFunction('convertToInteractive',\n",
              "                                                     [key], {});\n",
              "          if (!dataTable) return;\n",
              "\n",
              "          const docLinkHtml = 'Like what you see? Visit the ' +\n",
              "            '<a target=\"_blank\" href=https://colab.research.google.com/notebooks/data_table.ipynb>data table notebook</a>'\n",
              "            + ' to learn more about interactive tables.';\n",
              "          element.innerHTML = '';\n",
              "          dataTable['output_type'] = 'display_data';\n",
              "          await google.colab.output.renderOutput(dataTable, element);\n",
              "          const docLink = document.createElement('div');\n",
              "          docLink.innerHTML = docLinkHtml;\n",
              "          element.appendChild(docLink);\n",
              "        }\n",
              "      </script>\n",
              "    </div>\n",
              "  </div>\n",
              "  "
            ]
          },
          "metadata": {},
          "execution_count": 20
        }
      ],
      "source": [
        "#Checking for Duplicate data\n",
        "# Data cleaning \n",
        "dupe = sampSeries.duplicated()\n",
        "print(dupe.sum())\n",
        "sampSeries[dupe]"
      ]
    },
    {
      "cell_type": "code",
      "execution_count": null,
      "metadata": {
        "id": "TQp1V1L2j4Bm"
      },
      "outputs": [],
      "source": [
        "#Replacing categorical data with the mode\n",
        "mode3=sampSeries['LOC_OF_OCCUR_DESC'].mode().values[0]\n",
        "mode1=sampSeries['Lat_Lon'].mode().values[0]\n",
        "\n",
        "sampSeries['LOC_OF_OCCUR_DESC'] = sampSeries['LOC_OF_OCCUR_DESC'].replace(np.nan,mode3)\n",
        "sampSeries['Lat_Lon'] = sampSeries['Lat_Lon'].replace(np.nan,mode1)\n",
        "sampSeries['OFNS_DESC'] = sampSeries['OFNS_DESC'].replace(np.nan,\"OFF. AGNST PUB ORD SENSBLTY &\")"
      ]
    },
    {
      "cell_type": "code",
      "execution_count": null,
      "metadata": {
        "id": "MQCi6p0ln5vo"
      },
      "outputs": [],
      "source": [
        "sampSeries=sampSeries.drop(['PARKS_NM','HADEVELOPT'], axis=1)"
      ]
    },
    {
      "cell_type": "code",
      "execution_count": null,
      "metadata": {
        "colab": {
          "base_uri": "https://localhost:8080/"
        },
        "id": "ClbShp3-XpmR",
        "outputId": "ce387069-9113-4eec-8d27-b537e19a08c0"
      },
      "outputs": [
        {
          "output_type": "execute_result",
          "data": {
            "text/plain": [
              "CMPLNT_FR_DT          0\n",
              "CMPLNT_FR_TM          0\n",
              "CMPLNT_TO_DT         11\n",
              "CMPLNT_TO_TM         11\n",
              "RPT_DT                0\n",
              "KY_CD                 0\n",
              "OFNS_DESC             0\n",
              "PD_CD                 0\n",
              "PD_DESC               0\n",
              "CRM_ATPT_CPTD_CD      0\n",
              "LAW_CAT_CD            0\n",
              "JURIS_DESC            0\n",
              "BORO_NM               0\n",
              "ADDR_PCT_CD           0\n",
              "LOC_OF_OCCUR_DESC     0\n",
              "PREM_TYP_DESC         2\n",
              "X_COORD_CD            0\n",
              "Y_COORD_CD            0\n",
              "Latitude              0\n",
              "Longitude             0\n",
              "Lat_Lon               0\n",
              "dtype: int64"
            ]
          },
          "metadata": {},
          "execution_count": 23
        }
      ],
      "source": [
        "#Should be all 0s for null values in the dataframe\n",
        "sampSeries.isnull().sum()"
      ]
    },
    {
      "cell_type": "code",
      "execution_count": null,
      "metadata": {
        "id": "NYv7zZl6YP9T"
      },
      "outputs": [],
      "source": [
        "#In case of Duplicates - There are no duplicates\n",
        "dupe1 = sampSeries.drop_duplicates(inplace=True)"
      ]
    },
    {
      "cell_type": "markdown",
      "metadata": {
        "id": "Dgx7VKU8GI_3"
      },
      "source": [
        "Frequency of Crimes in the Boroughs =, by using function count()."
      ]
    },
    {
      "cell_type": "code",
      "execution_count": null,
      "metadata": {
        "colab": {
          "base_uri": "https://localhost:8080/"
        },
        "id": "V34cytb_Hxms",
        "outputId": "d634d58c-7af6-4e8d-879f-2046fcb51102"
      },
      "outputs": [
        {
          "output_type": "execute_result",
          "data": {
            "text/plain": [
              "BRONX            18\n",
              "QUEENS           10\n",
              "MANHATTAN        10\n",
              "BROOKLYN          8\n",
              "STATEN ISLAND     4\n",
              "Name: BORO_NM, dtype: int64"
            ]
          },
          "metadata": {},
          "execution_count": 25
        }
      ],
      "source": [
        "sampSeries['BORO_NM'].value_counts()"
      ]
    },
    {
      "cell_type": "markdown",
      "metadata": {
        "id": "8tquijW1GUhT"
      },
      "source": [
        "A violin plot that shows complete crimes and compares the crimes that occur in the borough with the 3 digit codes(KY_CD) they're assigned"
      ]
    },
    {
      "cell_type": "code",
      "execution_count": null,
      "metadata": {
        "colab": {
          "base_uri": "https://localhost:8080/",
          "height": 280
        },
        "id": "muFSkUYUgueS",
        "outputId": "b0e9c1e0-7112-4668-d462-db7c7d3373c9"
      },
      "outputs": [
        {
          "output_type": "display_data",
          "data": {
            "text/plain": [
              "<Figure size 432x288 with 1 Axes>"
            ],
            "image/png": "[encoded data removed]"
          },
          "metadata": {
            "needs_background": "light"
          }
        }
      ],
      "source": [
        "ax = sns.violinplot(x=\"BORO_NM\", y='KY_CD', hue='CRM_ATPT_CPTD_CD',palette='Set2',data=sampSeries)"
      ]
    },
    {
      "cell_type": "markdown",
      "metadata": {
        "id": "6ceBa2B6GaIl"
      },
      "source": [
        "Frequency of Crimes that occur in the Boroughs in a large sample of the data set\n",
        "\n",
        "---\n",
        "\n"
      ]
    },
    {
      "cell_type": "code",
      "execution_count": null,
      "metadata": {
        "colab": {
          "base_uri": "https://localhost:8080/",
          "height": 352
        },
        "id": "xKZvIbB1j6nb",
        "outputId": "aa6387b3-1893-4217-8473-bdf292b5dcf2"
      },
      "outputs": [
        {
          "output_type": "stream",
          "name": "stderr",
          "text": [
            "/usr/local/lib/python3.7/dist-packages/seaborn/_decorators.py:43: FutureWarning: Pass the following variable as a keyword arg: x. From version 0.12, the only valid positional argument will be `data`, and passing other arguments without an explicit keyword will result in an error or misinterpretation.\n",
            "  FutureWarning\n"
          ]
        },
        {
          "output_type": "execute_result",
          "data": {
            "text/plain": [
              "<matplotlib.axes._subplots.AxesSubplot at 0x7fd3b257f5d0>"
            ]
          },
          "metadata": {},
          "execution_count": 27
        },
        {
          "output_type": "display_data",
          "data": {
            "text/plain": [
              "<Figure size 432x288 with 1 Axes>"
            ],
            "image/png": "[encoded data removed]"
          },
          "metadata": {
            "needs_background": "light"
          }
        }
      ],
      "source": [
        "sns.countplot(df['BORO_NM'], color=\"blue\")"
      ]
    },
    {
      "cell_type": "markdown",
      "metadata": {
        "id": "ykfAiBunGei2"
      },
      "source": [
        "Frequency of Crimes that occur in the Boroughs in a smaller sample of the data set"
      ]
    },
    {
      "cell_type": "code",
      "execution_count": null,
      "metadata": {
        "colab": {
          "base_uri": "https://localhost:8080/",
          "height": 352
        },
        "id": "BEimkyvXk87u",
        "outputId": "68af9509-e3f4-460b-ed29-44a10637ee4a"
      },
      "outputs": [
        {
          "output_type": "stream",
          "name": "stderr",
          "text": [
            "/usr/local/lib/python3.7/dist-packages/seaborn/_decorators.py:43: FutureWarning: Pass the following variable as a keyword arg: x. From version 0.12, the only valid positional argument will be `data`, and passing other arguments without an explicit keyword will result in an error or misinterpretation.\n",
            "  FutureWarning\n"
          ]
        },
        {
          "output_type": "execute_result",
          "data": {
            "text/plain": [
              "<matplotlib.axes._subplots.AxesSubplot at 0x7fd3b21b65d0>"
            ]
          },
          "metadata": {},
          "execution_count": 28
        },
        {
          "output_type": "display_data",
          "data": {
            "text/plain": [
              "<Figure size 432x288 with 1 Axes>"
            ],
            "image/png": "[encoded data removed]"
          },
          "metadata": {
            "needs_background": "light"
          }
        }
      ],
      "source": [
        "sns.countplot(sampSeries['BORO_NM'],color=\"Red\")"
      ]
    },
    {
      "cell_type": "markdown",
      "metadata": {
        "id": "GXFQLRamGjW1"
      },
      "source": [
        "Number of completed crimes vs attempted in the first 100 values of the total data set"
      ]
    },
    {
      "cell_type": "code",
      "execution_count": null,
      "metadata": {
        "colab": {
          "base_uri": "https://localhost:8080/",
          "height": 386
        },
        "id": "H1nk69D1lRhL",
        "outputId": "91c3e284-9f7c-4291-c82a-c74004e85bad"
      },
      "outputs": [
        {
          "output_type": "execute_result",
          "data": {
            "text/plain": [
              "<seaborn.axisgrid.FacetGrid at 0x7fd3b1696e10>"
            ]
          },
          "metadata": {},
          "execution_count": 29
        },
        {
          "output_type": "display_data",
          "data": {
            "text/plain": [
              "<Figure size 360x360 with 1 Axes>"
            ],
            "image/png": "[encoded data removed]"
          },
          "metadata": {
            "needs_background": "light"
          }
        }
      ],
      "source": [
        "sns.catplot(x=\"CRM_ATPT_CPTD_CD\", kind='count', data=df.head(100))"
      ]
    },
    {
      "cell_type": "markdown",
      "metadata": {
        "id": "iFdm8usoE85f"
      },
      "source": [
        "Testing One hot encoding on Categorical columns"
      ]
    },
    {
      "cell_type": "code",
      "execution_count": null,
      "metadata": {
        "id": "v_h-4z8SdGgW"
      },
      "outputs": [],
      "source": [
        "\n",
        "dum= pd.get_dummies(sampSeries[['OFNS_DESC', 'PD_DESC','CRM_ATPT_CPTD_CD','LAW_CAT_CD','JURIS_DESC', \"BORO_NM\",\"LOC_OF_OCCUR_DESC\",\"PREM_TYP_DESC\"]], columns = ['OFNS_DESC', 'PD_DESC','CRM_ATPT_CPTD_CD','LAW_CAT_CD','JURIS_DESC', \"BORO_NM\",\"LOC_OF_OCCUR_DESC\",\"PREM_TYP_DESC\"], prefix=['ofns_desc','pd_desc','crm_atpt_cptd_cd',\"law_cat_cd\",\"juris_desc\",'boro_nm',\"loc_of_occur_desc\",\"prem_type_desc\"] , drop_first = True).head()"
      ]
    },
    {
      "cell_type": "code",
      "execution_count": null,
      "metadata": {
        "colab": {
          "base_uri": "https://localhost:8080/"
        },
        "id": "Sa2y7qEORLZs",
        "outputId": "69e37b57-bd3a-468e-b84e-5e3f426f5ec0"
      },
      "outputs": [
        {
          "output_type": "execute_result",
          "data": {
            "text/plain": [
              "335"
            ]
          },
          "metadata": {},
          "execution_count": 31
        }
      ],
      "source": [
        "dum.size"
      ]
    },
    {
      "cell_type": "code",
      "execution_count": null,
      "metadata": {
        "colab": {
          "base_uri": "https://localhost:8080/",
          "height": 366
        },
        "id": "S3PiZSMXfsIB",
        "outputId": "032788c4-f2ac-4546-9b7a-e8205cb450ee"
      },
      "outputs": [
        {
          "output_type": "execute_result",
          "data": {
            "text/plain": [
              "            ofns_desc_BURGLARY  ofns_desc_CRIMINAL MISCHIEF & RELATED OF  \\\n",
              "CMPLNT_NUM                                                                 \n",
              "802050431                    0                                         0   \n",
              "623599012                    0                                         0   \n",
              "559206214                    0                                         1   \n",
              "481663622                    0                                         0   \n",
              "111463044                    0                                         0   \n",
              "\n",
              "            ofns_desc_DANGEROUS DRUGS  ofns_desc_DANGEROUS WEAPONS  \\\n",
              "CMPLNT_NUM                                                           \n",
              "802050431                           0                            0   \n",
              "623599012                           0                            0   \n",
              "559206214                           0                            0   \n",
              "481663622                           0                            0   \n",
              "111463044                           0                            1   \n",
              "\n",
              "            ofns_desc_FELONY ASSAULT  ofns_desc_FORGERY  \\\n",
              "CMPLNT_NUM                                                \n",
              "802050431                          0                  0   \n",
              "623599012                          0                  0   \n",
              "559206214                          0                  0   \n",
              "481663622                          0                  0   \n",
              "111463044                          0                  0   \n",
              "\n",
              "            ofns_desc_GRAND LARCENY  ofns_desc_GRAND LARCENY OF MOTOR VEHICLE  \\\n",
              "CMPLNT_NUM                                                                      \n",
              "802050431                         1                                         0   \n",
              "623599012                         0                                         0   \n",
              "559206214                         0                                         0   \n",
              "481663622                         0                                         0   \n",
              "111463044                         0                                         0   \n",
              "\n",
              "            ofns_desc_HARRASSMENT 2  ofns_desc_INTOXICATED & IMPAIRED DRIVING  \\\n",
              "CMPLNT_NUM                                                                      \n",
              "802050431                         0                                         0   \n",
              "623599012                         0                                         0   \n",
              "559206214                         0                                         0   \n",
              "481663622                         0                                         0   \n",
              "111463044                         0                                         0   \n",
              "\n",
              "            ...  prem_type_desc_HOSPITAL  prem_type_desc_OTHER  \\\n",
              "CMPLNT_NUM  ...                                                  \n",
              "802050431   ...                        0                     0   \n",
              "623599012   ...                        1                     0   \n",
              "559206214   ...                        0                     0   \n",
              "481663622   ...                        0                     0   \n",
              "111463044   ...                        0                     0   \n",
              "\n",
              "            prem_type_desc_PARK/PLAYGROUND  prem_type_desc_PUBLIC SCHOOL  \\\n",
              "CMPLNT_NUM                                                                 \n",
              "802050431                                0                             0   \n",
              "623599012                                0                             0   \n",
              "559206214                                0                             0   \n",
              "481663622                                0                             0   \n",
              "111463044                                0                             0   \n",
              "\n",
              "            prem_type_desc_RESIDENCE - APT. HOUSE  \\\n",
              "CMPLNT_NUM                                          \n",
              "802050431                                       0   \n",
              "623599012                                       0   \n",
              "559206214                                       0   \n",
              "481663622                                       0   \n",
              "111463044                                       1   \n",
              "\n",
              "            prem_type_desc_RESIDENCE - PUBLIC HOUSING  \\\n",
              "CMPLNT_NUM                                              \n",
              "802050431                                           0   \n",
              "623599012                                           0   \n",
              "559206214                                           0   \n",
              "481663622                                           0   \n",
              "111463044                                           0   \n",
              "\n",
              "            prem_type_desc_RESIDENCE-HOUSE  prem_type_desc_RESTAURANT/DINER  \\\n",
              "CMPLNT_NUM                                                                    \n",
              "802050431                                0                                0   \n",
              "623599012                                0                                0   \n",
              "559206214                                1                                0   \n",
              "481663622                                0                                0   \n",
              "111463044                                0                                0   \n",
              "\n",
              "            prem_type_desc_STORE UNCLASSIFIED  prem_type_desc_STREET  \n",
              "CMPLNT_NUM                                                            \n",
              "802050431                                   0                      1  \n",
              "623599012                                   0                      0  \n",
              "559206214                                   0                      0  \n",
              "481663622                                   0                      0  \n",
              "111463044                                   0                      0  \n",
              "\n",
              "[5 rows x 67 columns]"
            ],
            "text/html": [
              "\n",
              "  <div id=\"df-febbd16c-f9d6-4681-aa62-4adafa646f70\">\n",
              "    <div class=\"colab-df-container\">\n",
              "      <div>\n",
              "<style scoped>\n",
              "    .dataframe tbody tr th:only-of-type {\n",
              "        vertical-align: middle;\n",
              "    }\n",
              "\n",
              "    .dataframe tbody tr th {\n",
              "        vertical-align: top;\n",
              "    }\n",
              "\n",
              "    .dataframe thead th {\n",
              "        text-align: right;\n",
              "    }\n",
              "</style>\n",
              "<table border=\"1\" class=\"dataframe\">\n",
              "  <thead>\n",
              "    <tr style=\"text-align: right;\">\n",
              "      <th></th>\n",
              "      <th>ofns_desc_BURGLARY</th>\n",
              "      <th>ofns_desc_CRIMINAL MISCHIEF &amp; RELATED OF</th>\n",
              "      <th>ofns_desc_DANGEROUS DRUGS</th>\n",
              "      <th>ofns_desc_DANGEROUS WEAPONS</th>\n",
              "      <th>ofns_desc_FELONY ASSAULT</th>\n",
              "      <th>ofns_desc_FORGERY</th>\n",
              "      <th>ofns_desc_GRAND LARCENY</th>\n",
              "      <th>ofns_desc_GRAND LARCENY OF MOTOR VEHICLE</th>\n",
              "      <th>ofns_desc_HARRASSMENT 2</th>\n",
              "      <th>ofns_desc_INTOXICATED &amp; IMPAIRED DRIVING</th>\n",
              "      <th>...</th>\n",
              "      <th>prem_type_desc_HOSPITAL</th>\n",
              "      <th>prem_type_desc_OTHER</th>\n",
              "      <th>prem_type_desc_PARK/PLAYGROUND</th>\n",
              "      <th>prem_type_desc_PUBLIC SCHOOL</th>\n",
              "      <th>prem_type_desc_RESIDENCE - APT. HOUSE</th>\n",
              "      <th>prem_type_desc_RESIDENCE - PUBLIC HOUSING</th>\n",
              "      <th>prem_type_desc_RESIDENCE-HOUSE</th>\n",
              "      <th>prem_type_desc_RESTAURANT/DINER</th>\n",
              "      <th>prem_type_desc_STORE UNCLASSIFIED</th>\n",
              "      <th>prem_type_desc_STREET</th>\n",
              "    </tr>\n",
              "    <tr>\n",
              "      <th>CMPLNT_NUM</th>\n",
              "      <th></th>\n",
              "      <th></th>\n",
              "      <th></th>\n",
              "      <th></th>\n",
              "      <th></th>\n",
              "      <th></th>\n",
              "      <th></th>\n",
              "      <th></th>\n",
              "      <th></th>\n",
              "      <th></th>\n",
              "      <th></th>\n",
              "      <th></th>\n",
              "      <th></th>\n",
              "      <th></th>\n",
              "      <th></th>\n",
              "      <th></th>\n",
              "      <th></th>\n",
              "      <th></th>\n",
              "      <th></th>\n",
              "      <th></th>\n",
              "      <th></th>\n",
              "    </tr>\n",
              "  </thead>\n",
              "  <tbody>\n",
              "    <tr>\n",
              "      <th>802050431</th>\n",
              "      <td>0</td>\n",
              "      <td>0</td>\n",
              "      <td>0</td>\n",
              "      <td>0</td>\n",
              "      <td>0</td>\n",
              "      <td>0</td>\n",
              "      <td>1</td>\n",
              "      <td>0</td>\n",
              "      <td>0</td>\n",
              "      <td>0</td>\n",
              "      <td>...</td>\n",
              "      <td>0</td>\n",
              "      <td>0</td>\n",
              "      <td>0</td>\n",
              "      <td>0</td>\n",
              "      <td>0</td>\n",
              "      <td>0</td>\n",
              "      <td>0</td>\n",
              "      <td>0</td>\n",
              "      <td>0</td>\n",
              "      <td>1</td>\n",
              "    </tr>\n",
              "    <tr>\n",
              "      <th>623599012</th>\n",
              "      <td>0</td>\n",
              "      <td>0</td>\n",
              "      <td>0</td>\n",
              "      <td>0</td>\n",
              "      <td>0</td>\n",
              "      <td>0</td>\n",
              "      <td>0</td>\n",
              "      <td>0</td>\n",
              "      <td>0</td>\n",
              "      <td>0</td>\n",
              "      <td>...</td>\n",
              "      <td>1</td>\n",
              "      <td>0</td>\n",
              "      <td>0</td>\n",
              "      <td>0</td>\n",
              "      <td>0</td>\n",
              "      <td>0</td>\n",
              "      <td>0</td>\n",
              "      <td>0</td>\n",
              "      <td>0</td>\n",
              "      <td>0</td>\n",
              "    </tr>\n",
              "    <tr>\n",
              "      <th>559206214</th>\n",
              "      <td>0</td>\n",
              "      <td>1</td>\n",
              "      <td>0</td>\n",
              "      <td>0</td>\n",
              "      <td>0</td>\n",
              "      <td>0</td>\n",
              "      <td>0</td>\n",
              "      <td>0</td>\n",
              "      <td>0</td>\n",
              "      <td>0</td>\n",
              "      <td>...</td>\n",
              "      <td>0</td>\n",
              "      <td>0</td>\n",
              "      <td>0</td>\n",
              "      <td>0</td>\n",
              "      <td>0</td>\n",
              "      <td>0</td>\n",
              "      <td>1</td>\n",
              "      <td>0</td>\n",
              "      <td>0</td>\n",
              "      <td>0</td>\n",
              "    </tr>\n",
              "    <tr>\n",
              "      <th>481663622</th>\n",
              "      <td>0</td>\n",
              "      <td>0</td>\n",
              "      <td>0</td>\n",
              "      <td>0</td>\n",
              "      <td>0</td>\n",
              "      <td>0</td>\n",
              "      <td>0</td>\n",
              "      <td>0</td>\n",
              "      <td>0</td>\n",
              "      <td>0</td>\n",
              "      <td>...</td>\n",
              "      <td>0</td>\n",
              "      <td>0</td>\n",
              "      <td>0</td>\n",
              "      <td>0</td>\n",
              "      <td>0</td>\n",
              "      <td>0</td>\n",
              "      <td>0</td>\n",
              "      <td>0</td>\n",
              "      <td>0</td>\n",
              "      <td>0</td>\n",
              "    </tr>\n",
              "    <tr>\n",
              "      <th>111463044</th>\n",
              "      <td>0</td>\n",
              "      <td>0</td>\n",
              "      <td>0</td>\n",
              "      <td>1</td>\n",
              "      <td>0</td>\n",
              "      <td>0</td>\n",
              "      <td>0</td>\n",
              "      <td>0</td>\n",
              "      <td>0</td>\n",
              "      <td>0</td>\n",
              "      <td>...</td>\n",
              "      <td>0</td>\n",
              "      <td>0</td>\n",
              "      <td>0</td>\n",
              "      <td>0</td>\n",
              "      <td>1</td>\n",
              "      <td>0</td>\n",
              "      <td>0</td>\n",
              "      <td>0</td>\n",
              "      <td>0</td>\n",
              "      <td>0</td>\n",
              "    </tr>\n",
              "  </tbody>\n",
              "</table>\n",
              "<p>5 rows × 67 columns</p>\n",
              "</div>\n",
              "      <button class=\"colab-df-convert\" onclick=\"convertToInteractive('df-febbd16c-f9d6-4681-aa62-4adafa646f70')\"\n",
              "              title=\"Convert this dataframe to an interactive table.\"\n",
              "              style=\"display:none;\">\n",
              "        \n",
              "  <svg xmlns=\"http://www.w3.org/2000/svg\" height=\"24px\"viewBox=\"0 0 24 24\"\n",
              "       width=\"24px\">\n",
              "    <path d=\"M0 0h24v24H0V0z\" fill=\"none\"/>\n",
              "    <path d=\"M18.56 5.44l.94 2.06.94-2.06 2.06-.94-2.06-.94-.94-2.06-.94 2.06-2.06.94zm-11 1L8.5 8.5l.94-2.06 2.06-.94-2.06-.94L8.5 2.5l-.94 2.06-2.06.94zm10 10l.94 2.06.94-2.06 2.06-.94-2.06-.94-.94-2.06-.94 2.06-2.06.94z\"/><path d=\"M17.41 7.96l-1.37-1.37c-.4-.4-.92-.59-1.43-.59-.52 0-1.04.2-1.43.59L10.3 9.45l-7.72 7.72c-.78.78-.78 2.05 0 2.83L4 21.41c.39.39.9.59 1.41.59.51 0 1.02-.2 1.41-.59l7.78-7.78 2.81-2.81c.8-.78.8-2.07 0-2.86zM5.41 20L4 18.59l7.72-7.72 1.47 1.35L5.41 20z\"/>\n",
              "  </svg>\n",
              "      </button>\n",
              "      \n",
              "  <style>\n",
              "    .colab-df-container {\n",
              "      display:flex;\n",
              "      flex-wrap:wrap;\n",
              "      gap: 12px;\n",
              "    }\n",
              "\n",
              "    .colab-df-convert {\n",
              "      background-color: #E8F0FE;\n",
              "      border: none;\n",
              "      border-radius: 50%;\n",
              "      cursor: pointer;\n",
              "      display: none;\n",
              "      fill: #1967D2;\n",
              "      height: 32px;\n",
              "      padding: 0 0 0 0;\n",
              "      width: 32px;\n",
              "    }\n",
              "\n",
              "    .colab-df-convert:hover {\n",
              "      background-color: #E2EBFA;\n",
              "      box-shadow: 0px 1px 2px rgba(60, 64, 67, 0.3), 0px 1px 3px 1px rgba(60, 64, 67, 0.15);\n",
              "      fill: #174EA6;\n",
              "    }\n",
              "\n",
              "    [theme=dark] .colab-df-convert {\n",
              "      background-color: #3B4455;\n",
              "      fill: #D2E3FC;\n",
              "    }\n",
              "\n",
              "    [theme=dark] .colab-df-convert:hover {\n",
              "      background-color: #434B5C;\n",
              "      box-shadow: 0px 1px 3px 1px rgba(0, 0, 0, 0.15);\n",
              "      filter: drop-shadow(0px 1px 2px rgba(0, 0, 0, 0.3));\n",
              "      fill: #FFFFFF;\n",
              "    }\n",
              "  </style>\n",
              "\n",
              "      <script>\n",
              "        const buttonEl =\n",
              "          document.querySelector('#df-febbd16c-f9d6-4681-aa62-4adafa646f70 button.colab-df-convert');\n",
              "        buttonEl.style.display =\n",
              "          google.colab.kernel.accessAllowed ? 'block' : 'none';\n",
              "\n",
              "        async function convertToInteractive(key) {\n",
              "          const element = document.querySelector('#df-febbd16c-f9d6-4681-aa62-4adafa646f70');\n",
              "          const dataTable =\n",
              "            await google.colab.kernel.invokeFunction('convertToInteractive',\n",
              "                                                     [key], {});\n",
              "          if (!dataTable) return;\n",
              "\n",
              "          const docLinkHtml = 'Like what you see? Visit the ' +\n",
              "            '<a target=\"_blank\" href=https://colab.research.google.com/notebooks/data_table.ipynb>data table notebook</a>'\n",
              "            + ' to learn more about interactive tables.';\n",
              "          element.innerHTML = '';\n",
              "          dataTable['output_type'] = 'display_data';\n",
              "          await google.colab.output.renderOutput(dataTable, element);\n",
              "          const docLink = document.createElement('div');\n",
              "          docLink.innerHTML = docLinkHtml;\n",
              "          element.appendChild(docLink);\n",
              "        }\n",
              "      </script>\n",
              "    </div>\n",
              "  </div>\n",
              "  "
            ]
          },
          "metadata": {},
          "execution_count": 32
        }
      ],
      "source": [
        "dum.head()"
      ]
    },
    {
      "cell_type": "markdown",
      "metadata": {
        "id": "xTR_b9J6FBNh"
      },
      "source": [
        "Top 10 crimes "
      ]
    },
    {
      "cell_type": "code",
      "execution_count": null,
      "metadata": {
        "colab": {
          "base_uri": "https://localhost:8080/",
          "height": 522
        },
        "id": "ZRkbz0B9HNBT",
        "outputId": "e6dba451-b346-4512-bcf8-e10864e1b4a4"
      },
      "outputs": [
        {
          "output_type": "execute_result",
          "data": {
            "text/plain": [
              "Text(0.5, 1.0, 'Top 10 Crimes')"
            ]
          },
          "metadata": {},
          "execution_count": 33
        },
        {
          "output_type": "display_data",
          "data": {
            "text/plain": [
              "<Figure size 432x288 with 1 Axes>"
            ],
            "image/png": "[encoded data removed]"
          },
          "metadata": {
            "needs_background": "light"
          }
        }
      ],
      "source": [
        "sampSeries[\"PD_DESC\"].value_counts().head(10).plot(kind='bar')\n",
        "plt.title(\"Top 10 Crimes\")"
      ]
    },
    {
      "cell_type": "code",
      "execution_count": null,
      "metadata": {
        "colab": {
          "base_uri": "https://localhost:8080/",
          "height": 366
        },
        "id": "ekAp_I0EIFHd",
        "outputId": "74ebc24c-66c4-4a45-b3c0-e32c3db9c868"
      },
      "outputs": [
        {
          "output_type": "execute_result",
          "data": {
            "text/plain": [
              "Text(0.5, 1.0, 'The Frequency of top 10 Crimes in the Five Boroughs ')"
            ]
          },
          "metadata": {},
          "execution_count": 34
        },
        {
          "output_type": "display_data",
          "data": {
            "text/plain": [
              "<Figure size 432x288 with 1 Axes>"
            ],
            "image/png": "[encoded data removed]"
          },
          "metadata": {
            "needs_background": "light"
          }
        }
      ],
      "source": [
        "#The Frequency of the Top 10 Crimes in the Five Boroughs\n",
        "sampSeries[\"BORO_NM\"].value_counts().head(10).plot(kind='bar')\n",
        "plt.title(\"The Frequency of top 10 Crimes in the Five Boroughs \")"
      ]
    },
    {
      "cell_type": "markdown",
      "source": [
        "Looking At Data From New Years"
      ],
      "metadata": {
        "id": "LhBIpT8KorR6"
      }
    },
    {
      "cell_type": "code",
      "execution_count": null,
      "metadata": {
        "colab": {
          "base_uri": "https://localhost:8080/",
          "height": 470
        },
        "id": "QuKsW7UehXJL",
        "outputId": "709a7605-b286-40f8-91cb-574382bb7ea5"
      },
      "outputs": [
        {
          "output_type": "execute_result",
          "data": {
            "text/plain": [
              "           CMPLNT_FR_DT CMPLNT_FR_TM CMPLNT_TO_DT CMPLNT_TO_TM      RPT_DT  \\\n",
              "CMPLNT_NUM                                                                   \n",
              "101109527    12/31/2015     23:45:00          NaN          NaN  12/31/2015   \n",
              "153401121    12/31/2015     23:36:00          NaN          NaN  12/31/2015   \n",
              "569369778    12/31/2015     23:30:00          NaN          NaN  12/31/2015   \n",
              "968417082    12/31/2015     23:30:00          NaN          NaN  12/31/2015   \n",
              "641637920    12/31/2015     23:25:00   12/31/2015     23:30:00  12/31/2015   \n",
              "\n",
              "            KY_CD                        OFNS_DESC  PD_CD  \\\n",
              "CMPLNT_NUM                                                  \n",
              "101109527     113                          FORGERY  729.0   \n",
              "153401121     101  MURDER & NON-NEGL. MANSLAUGHTER    NaN   \n",
              "569369778     117                  DANGEROUS DRUGS  503.0   \n",
              "968417082     344     ASSAULT 3 & RELATED OFFENSES  101.0   \n",
              "641637920     344     ASSAULT 3 & RELATED OFFENSES  101.0   \n",
              "\n",
              "                                   PD_DESC CRM_ATPT_CPTD_CD  ... ADDR_PCT_CD  \\\n",
              "CMPLNT_NUM                                                   ...               \n",
              "101109527   FORGERY,ETC.,UNCLASSIFIED-FELO        COMPLETED  ...        44.0   \n",
              "153401121                              NaN        COMPLETED  ...       103.0   \n",
              "569369778   CONTROLLED SUBSTANCE,INTENT TO        COMPLETED  ...        28.0   \n",
              "968417082                        ASSAULT 3        COMPLETED  ...       105.0   \n",
              "641637920                        ASSAULT 3        COMPLETED  ...        13.0   \n",
              "\n",
              "           LOC_OF_OCCUR_DESC    PREM_TYP_DESC  PARKS_NM HADEVELOPT X_COORD_CD  \\\n",
              "CMPLNT_NUM                                                                      \n",
              "101109527             INSIDE   BAR/NIGHT CLUB       NaN        NaN  1007314.0   \n",
              "153401121            OUTSIDE              NaN       NaN        NaN  1043991.0   \n",
              "569369778                NaN            OTHER       NaN        NaN   999463.0   \n",
              "968417082             INSIDE  RESIDENCE-HOUSE       NaN        NaN  1060183.0   \n",
              "641637920           FRONT OF            OTHER       NaN        NaN   987606.0   \n",
              "\n",
              "           Y_COORD_CD   Latitude  Longitude                        Lat_Lon  \n",
              "CMPLNT_NUM                                                                  \n",
              "101109527    241257.0  40.828848 -73.916661  (40.828848333, -73.916661142)  \n",
              "153401121    193406.0  40.697338 -73.784557  (40.697338138, -73.784556739)  \n",
              "569369778    231690.0  40.802607 -73.945052  (40.802606608, -73.945051911)  \n",
              "968417082    177862.0  40.654549 -73.726339  (40.654549444, -73.726338791)  \n",
              "641637920    208148.0  40.738002 -73.987891     (40.7380024, -73.98789129)  \n",
              "\n",
              "[5 rows x 23 columns]"
            ],
            "text/html": [
              "\n",
              "  <div id=\"df-8c440466-3300-4301-ac3d-740cdd881813\">\n",
              "    <div class=\"colab-df-container\">\n",
              "      <div>\n",
              "<style scoped>\n",
              "    .dataframe tbody tr th:only-of-type {\n",
              "        vertical-align: middle;\n",
              "    }\n",
              "\n",
              "    .dataframe tbody tr th {\n",
              "        vertical-align: top;\n",
              "    }\n",
              "\n",
              "    .dataframe thead th {\n",
              "        text-align: right;\n",
              "    }\n",
              "</style>\n",
              "<table border=\"1\" class=\"dataframe\">\n",
              "  <thead>\n",
              "    <tr style=\"text-align: right;\">\n",
              "      <th></th>\n",
              "      <th>CMPLNT_FR_DT</th>\n",
              "      <th>CMPLNT_FR_TM</th>\n",
              "      <th>CMPLNT_TO_DT</th>\n",
              "      <th>CMPLNT_TO_TM</th>\n",
              "      <th>RPT_DT</th>\n",
              "      <th>KY_CD</th>\n",
              "      <th>OFNS_DESC</th>\n",
              "      <th>PD_CD</th>\n",
              "      <th>PD_DESC</th>\n",
              "      <th>CRM_ATPT_CPTD_CD</th>\n",
              "      <th>...</th>\n",
              "      <th>ADDR_PCT_CD</th>\n",
              "      <th>LOC_OF_OCCUR_DESC</th>\n",
              "      <th>PREM_TYP_DESC</th>\n",
              "      <th>PARKS_NM</th>\n",
              "      <th>HADEVELOPT</th>\n",
              "      <th>X_COORD_CD</th>\n",
              "      <th>Y_COORD_CD</th>\n",
              "      <th>Latitude</th>\n",
              "      <th>Longitude</th>\n",
              "      <th>Lat_Lon</th>\n",
              "    </tr>\n",
              "    <tr>\n",
              "      <th>CMPLNT_NUM</th>\n",
              "      <th></th>\n",
              "      <th></th>\n",
              "      <th></th>\n",
              "      <th></th>\n",
              "      <th></th>\n",
              "      <th></th>\n",
              "      <th></th>\n",
              "      <th></th>\n",
              "      <th></th>\n",
              "      <th></th>\n",
              "      <th></th>\n",
              "      <th></th>\n",
              "      <th></th>\n",
              "      <th></th>\n",
              "      <th></th>\n",
              "      <th></th>\n",
              "      <th></th>\n",
              "      <th></th>\n",
              "      <th></th>\n",
              "      <th></th>\n",
              "      <th></th>\n",
              "    </tr>\n",
              "  </thead>\n",
              "  <tbody>\n",
              "    <tr>\n",
              "      <th>101109527</th>\n",
              "      <td>12/31/2015</td>\n",
              "      <td>23:45:00</td>\n",
              "      <td>NaN</td>\n",
              "      <td>NaN</td>\n",
              "      <td>12/31/2015</td>\n",
              "      <td>113</td>\n",
              "      <td>FORGERY</td>\n",
              "      <td>729.0</td>\n",
              "      <td>FORGERY,ETC.,UNCLASSIFIED-FELO</td>\n",
              "      <td>COMPLETED</td>\n",
              "      <td>...</td>\n",
              "      <td>44.0</td>\n",
              "      <td>INSIDE</td>\n",
              "      <td>BAR/NIGHT CLUB</td>\n",
              "      <td>NaN</td>\n",
              "      <td>NaN</td>\n",
              "      <td>1007314.0</td>\n",
              "      <td>241257.0</td>\n",
              "      <td>40.828848</td>\n",
              "      <td>-73.916661</td>\n",
              "      <td>(40.828848333, -73.916661142)</td>\n",
              "    </tr>\n",
              "    <tr>\n",
              "      <th>153401121</th>\n",
              "      <td>12/31/2015</td>\n",
              "      <td>23:36:00</td>\n",
              "      <td>NaN</td>\n",
              "      <td>NaN</td>\n",
              "      <td>12/31/2015</td>\n",
              "      <td>101</td>\n",
              "      <td>MURDER &amp; NON-NEGL. MANSLAUGHTER</td>\n",
              "      <td>NaN</td>\n",
              "      <td>NaN</td>\n",
              "      <td>COMPLETED</td>\n",
              "      <td>...</td>\n",
              "      <td>103.0</td>\n",
              "      <td>OUTSIDE</td>\n",
              "      <td>NaN</td>\n",
              "      <td>NaN</td>\n",
              "      <td>NaN</td>\n",
              "      <td>1043991.0</td>\n",
              "      <td>193406.0</td>\n",
              "      <td>40.697338</td>\n",
              "      <td>-73.784557</td>\n",
              "      <td>(40.697338138, -73.784556739)</td>\n",
              "    </tr>\n",
              "    <tr>\n",
              "      <th>569369778</th>\n",
              "      <td>12/31/2015</td>\n",
              "      <td>23:30:00</td>\n",
              "      <td>NaN</td>\n",
              "      <td>NaN</td>\n",
              "      <td>12/31/2015</td>\n",
              "      <td>117</td>\n",
              "      <td>DANGEROUS DRUGS</td>\n",
              "      <td>503.0</td>\n",
              "      <td>CONTROLLED SUBSTANCE,INTENT TO</td>\n",
              "      <td>COMPLETED</td>\n",
              "      <td>...</td>\n",
              "      <td>28.0</td>\n",
              "      <td>NaN</td>\n",
              "      <td>OTHER</td>\n",
              "      <td>NaN</td>\n",
              "      <td>NaN</td>\n",
              "      <td>999463.0</td>\n",
              "      <td>231690.0</td>\n",
              "      <td>40.802607</td>\n",
              "      <td>-73.945052</td>\n",
              "      <td>(40.802606608, -73.945051911)</td>\n",
              "    </tr>\n",
              "    <tr>\n",
              "      <th>968417082</th>\n",
              "      <td>12/31/2015</td>\n",
              "      <td>23:30:00</td>\n",
              "      <td>NaN</td>\n",
              "      <td>NaN</td>\n",
              "      <td>12/31/2015</td>\n",
              "      <td>344</td>\n",
              "      <td>ASSAULT 3 &amp; RELATED OFFENSES</td>\n",
              "      <td>101.0</td>\n",
              "      <td>ASSAULT 3</td>\n",
              "      <td>COMPLETED</td>\n",
              "      <td>...</td>\n",
              "      <td>105.0</td>\n",
              "      <td>INSIDE</td>\n",
              "      <td>RESIDENCE-HOUSE</td>\n",
              "      <td>NaN</td>\n",
              "      <td>NaN</td>\n",
              "      <td>1060183.0</td>\n",
              "      <td>177862.0</td>\n",
              "      <td>40.654549</td>\n",
              "      <td>-73.726339</td>\n",
              "      <td>(40.654549444, -73.726338791)</td>\n",
              "    </tr>\n",
              "    <tr>\n",
              "      <th>641637920</th>\n",
              "      <td>12/31/2015</td>\n",
              "      <td>23:25:00</td>\n",
              "      <td>12/31/2015</td>\n",
              "      <td>23:30:00</td>\n",
              "      <td>12/31/2015</td>\n",
              "      <td>344</td>\n",
              "      <td>ASSAULT 3 &amp; RELATED OFFENSES</td>\n",
              "      <td>101.0</td>\n",
              "      <td>ASSAULT 3</td>\n",
              "      <td>COMPLETED</td>\n",
              "      <td>...</td>\n",
              "      <td>13.0</td>\n",
              "      <td>FRONT OF</td>\n",
              "      <td>OTHER</td>\n",
              "      <td>NaN</td>\n",
              "      <td>NaN</td>\n",
              "      <td>987606.0</td>\n",
              "      <td>208148.0</td>\n",
              "      <td>40.738002</td>\n",
              "      <td>-73.987891</td>\n",
              "      <td>(40.7380024, -73.98789129)</td>\n",
              "    </tr>\n",
              "  </tbody>\n",
              "</table>\n",
              "<p>5 rows × 23 columns</p>\n",
              "</div>\n",
              "      <button class=\"colab-df-convert\" onclick=\"convertToInteractive('df-8c440466-3300-4301-ac3d-740cdd881813')\"\n",
              "              title=\"Convert this dataframe to an interactive table.\"\n",
              "              style=\"display:none;\">\n",
              "        \n",
              "  <svg xmlns=\"http://www.w3.org/2000/svg\" height=\"24px\"viewBox=\"0 0 24 24\"\n",
              "       width=\"24px\">\n",
              "    <path d=\"M0 0h24v24H0V0z\" fill=\"none\"/>\n",
              "    <path d=\"M18.56 5.44l.94 2.06.94-2.06 2.06-.94-2.06-.94-.94-2.06-.94 2.06-2.06.94zm-11 1L8.5 8.5l.94-2.06 2.06-.94-2.06-.94L8.5 2.5l-.94 2.06-2.06.94zm10 10l.94 2.06.94-2.06 2.06-.94-2.06-.94-.94-2.06-.94 2.06-2.06.94z\"/><path d=\"M17.41 7.96l-1.37-1.37c-.4-.4-.92-.59-1.43-.59-.52 0-1.04.2-1.43.59L10.3 9.45l-7.72 7.72c-.78.78-.78 2.05 0 2.83L4 21.41c.39.39.9.59 1.41.59.51 0 1.02-.2 1.41-.59l7.78-7.78 2.81-2.81c.8-.78.8-2.07 0-2.86zM5.41 20L4 18.59l7.72-7.72 1.47 1.35L5.41 20z\"/>\n",
              "  </svg>\n",
              "      </button>\n",
              "      \n",
              "  <style>\n",
              "    .colab-df-container {\n",
              "      display:flex;\n",
              "      flex-wrap:wrap;\n",
              "      gap: 12px;\n",
              "    }\n",
              "\n",
              "    .colab-df-convert {\n",
              "      background-color: #E8F0FE;\n",
              "      border: none;\n",
              "      border-radius: 50%;\n",
              "      cursor: pointer;\n",
              "      display: none;\n",
              "      fill: #1967D2;\n",
              "      height: 32px;\n",
              "      padding: 0 0 0 0;\n",
              "      width: 32px;\n",
              "    }\n",
              "\n",
              "    .colab-df-convert:hover {\n",
              "      background-color: #E2EBFA;\n",
              "      box-shadow: 0px 1px 2px rgba(60, 64, 67, 0.3), 0px 1px 3px 1px rgba(60, 64, 67, 0.15);\n",
              "      fill: #174EA6;\n",
              "    }\n",
              "\n",
              "    [theme=dark] .colab-df-convert {\n",
              "      background-color: #3B4455;\n",
              "      fill: #D2E3FC;\n",
              "    }\n",
              "\n",
              "    [theme=dark] .colab-df-convert:hover {\n",
              "      background-color: #434B5C;\n",
              "      box-shadow: 0px 1px 3px 1px rgba(0, 0, 0, 0.15);\n",
              "      filter: drop-shadow(0px 1px 2px rgba(0, 0, 0, 0.3));\n",
              "      fill: #FFFFFF;\n",
              "    }\n",
              "  </style>\n",
              "\n",
              "      <script>\n",
              "        const buttonEl =\n",
              "          document.querySelector('#df-8c440466-3300-4301-ac3d-740cdd881813 button.colab-df-convert');\n",
              "        buttonEl.style.display =\n",
              "          google.colab.kernel.accessAllowed ? 'block' : 'none';\n",
              "\n",
              "        async function convertToInteractive(key) {\n",
              "          const element = document.querySelector('#df-8c440466-3300-4301-ac3d-740cdd881813');\n",
              "          const dataTable =\n",
              "            await google.colab.kernel.invokeFunction('convertToInteractive',\n",
              "                                                     [key], {});\n",
              "          if (!dataTable) return;\n",
              "\n",
              "          const docLinkHtml = 'Like what you see? Visit the ' +\n",
              "            '<a target=\"_blank\" href=https://colab.research.google.com/notebooks/data_table.ipynb>data table notebook</a>'\n",
              "            + ' to learn more about interactive tables.';\n",
              "          element.innerHTML = '';\n",
              "          dataTable['output_type'] = 'display_data';\n",
              "          await google.colab.output.renderOutput(dataTable, element);\n",
              "          const docLink = document.createElement('div');\n",
              "          docLink.innerHTML = docLinkHtml;\n",
              "          element.appendChild(docLink);\n",
              "        }\n",
              "      </script>\n",
              "    </div>\n",
              "  </div>\n",
              "  "
            ]
          },
          "metadata": {},
          "execution_count": 35
        }
      ],
      "source": [
        "chr= df[df['CMPLNT_FR_DT']=='12/31/2015']\n",
        "chr.head()"
      ]
    },
    {
      "cell_type": "markdown",
      "metadata": {
        "id": "aplrHxhQc-m_"
      },
      "source": [
        "Top 10 Crimes that occured on 12/31/2015"
      ]
    },
    {
      "cell_type": "code",
      "execution_count": null,
      "metadata": {
        "colab": {
          "base_uri": "https://localhost:8080/",
          "height": 473
        },
        "id": "aL1RnrO2CoQI",
        "outputId": "894bef1c-4418-4859-8353-d1465b78531a"
      },
      "outputs": [
        {
          "output_type": "execute_result",
          "data": {
            "text/plain": [
              "Text(0.5, 1.0, 'Top 10 Crimes that occured on 12/31/2015')"
            ]
          },
          "metadata": {},
          "execution_count": 36
        },
        {
          "output_type": "display_data",
          "data": {
            "text/plain": [
              "<Figure size 432x288 with 1 Axes>"
            ],
            "image/png": "[encoded data removed]"
          },
          "metadata": {
            "needs_background": "light"
          }
        }
      ],
      "source": [
        "series = chr.squeeze()\n",
        "series[\"PD_DESC\"].value_counts().head(10).plot(kind='bar')\n",
        "plt.title(\"Top 10 Crimes that occured on 12/31/2015\")"
      ]
    },
    {
      "cell_type": "markdown",
      "source": [
        "Number of Crimes based on the Boroughs on New Years Eve"
      ],
      "metadata": {
        "id": "U3agIQg2o3NC"
      }
    },
    {
      "cell_type": "code",
      "execution_count": null,
      "metadata": {
        "colab": {
          "base_uri": "https://localhost:8080/"
        },
        "id": "p37Gswo8IDve",
        "outputId": "a4da1ab5-3f07-4586-d860-49145ff0b111"
      },
      "outputs": [
        {
          "output_type": "execute_result",
          "data": {
            "text/plain": [
              "BROOKLYN         212\n",
              "BRONX            162\n",
              "QUEENS           144\n",
              "MANHATTAN        141\n",
              "STATEN ISLAND     34\n",
              "Name: BORO_NM, dtype: int64"
            ]
          },
          "metadata": {},
          "execution_count": 37
        }
      ],
      "source": [
        "series['BORO_NM'].value_counts().head(10)"
      ]
    },
    {
      "cell_type": "markdown",
      "metadata": {
        "id": "B6YNtCXiEOB5"
      },
      "source": [
        "The Frequency of Crimes in the Five Boroughs on 12/31/2015"
      ]
    },
    {
      "cell_type": "code",
      "execution_count": null,
      "metadata": {
        "colab": {
          "base_uri": "https://localhost:8080/",
          "height": 366
        },
        "id": "Xrr9WjhIFGZ9",
        "outputId": "4a1f3569-6004-4aae-9af3-5b6be02ea34a"
      },
      "outputs": [
        {
          "output_type": "execute_result",
          "data": {
            "text/plain": [
              "Text(0.5, 1.0, 'The Frequency of Crimes in the Five Boroughs on 12/31/2015')"
            ]
          },
          "metadata": {},
          "execution_count": 38
        },
        {
          "output_type": "display_data",
          "data": {
            "text/plain": [
              "<Figure size 432x288 with 1 Axes>"
            ],
            "image/png": "[encoded data removed]"
          },
          "metadata": {
            "needs_background": "light"
          }
        }
      ],
      "source": [
        "series[\"BORO_NM\"].value_counts().head(10).plot(kind='bar')\n",
        "plt.title(\"The Frequency of Crimes in the Five Boroughs on 12/31/2015\")"
      ]
    },
    {
      "cell_type": "markdown",
      "metadata": {
        "id": "JCeQpbDoEK6M"
      },
      "source": [
        "Checks Top 10 Used Jurisdiction for the Crimes during New Years Eve"
      ]
    },
    {
      "cell_type": "code",
      "execution_count": null,
      "metadata": {
        "colab": {
          "base_uri": "https://localhost:8080/"
        },
        "id": "XtgPzUUpf0HQ",
        "outputId": "59806a08-1b78-4afe-cbfd-2d1260540268"
      },
      "outputs": [
        {
          "output_type": "execute_result",
          "data": {
            "text/plain": [
              "N.Y. POLICE DEPT       624\n",
              "N.Y. HOUSING POLICE     55\n",
              "N.Y. TRANSIT POLICE      8\n",
              "N.Y. STATE POLICE        4\n",
              "DEPT OF CORRECTIONS      2\n",
              "Name: JURIS_DESC, dtype: int64"
            ]
          },
          "metadata": {},
          "execution_count": 39
        }
      ],
      "source": [
        "series['JURIS_DESC'].value_counts().head(10)"
      ]
    },
    {
      "cell_type": "markdown",
      "metadata": {
        "id": "Q4CxOnO5EEe5"
      },
      "source": [
        "The Frequency of Crimes handled by Jurisdiction on 12/31/2015"
      ]
    },
    {
      "cell_type": "code",
      "execution_count": null,
      "metadata": {
        "colab": {
          "base_uri": "https://localhost:8080/",
          "height": 406
        },
        "id": "V3s1B5y2cX47",
        "outputId": "debbcfbd-e174-4975-ee12-4fe2ac5bc116"
      },
      "outputs": [
        {
          "output_type": "execute_result",
          "data": {
            "text/plain": [
              "Text(0.5, 1.0, 'The Frequency of Crimes handled by Jurisdiction')"
            ]
          },
          "metadata": {},
          "execution_count": 40
        },
        {
          "output_type": "display_data",
          "data": {
            "text/plain": [
              "<Figure size 432x288 with 1 Axes>"
            ],
            "image/png": "[encoded data removed]"
          },
          "metadata": {
            "needs_background": "light"
          }
        }
      ],
      "source": [
        "series[\"JURIS_DESC\"].value_counts().head(10).plot(kind='bar')\n",
        "plt.title(\"The Frequency of Crimes handled by Jurisdiction\")"
      ]
    },
    {
      "cell_type": "markdown",
      "source": [
        "END OF EDA FOR DATA"
      ],
      "metadata": {
        "id": "D1ffA2oPxM7A"
      }
    },
    {
      "cell_type": "markdown",
      "source": [
        "**Starting DATA Processing for Variables to be used in Machine Learning Algorithms**"
      ],
      "metadata": {
        "id": "RGnUZhj8xQOI"
      }
    },
    {
      "cell_type": "markdown",
      "source": [
        "Removing Dates with Incorrect Years for Date Conversion"
      ],
      "metadata": {
        "id": "UKRC9affpLL1"
      }
    },
    {
      "cell_type": "code",
      "execution_count": null,
      "metadata": {
        "id": "UwohEoma_9-O"
      },
      "outputs": [],
      "source": [
        "df['CMPLNT_FR_DT']=pd.to_datetime(df['CMPLNT_FR_DT'], errors = 'coerce')"
      ]
    },
    {
      "cell_type": "code",
      "execution_count": null,
      "metadata": {
        "id": "MW3phgN--y8N"
      },
      "outputs": [],
      "source": [
        "df['CMPLNT_FR_TM']=pd.to_datetime(df['CMPLNT_FR_TM'] , format = '%H:%M:%S').dt.hour "
      ]
    },
    {
      "cell_type": "code",
      "source": [
        "#Confirms that 'CMPLNT_FR_DT' was changed to date time\n",
        "df.info()"
      ],
      "metadata": {
        "colab": {
          "base_uri": "https://localhost:8080/"
        },
        "id": "iNy_NRmOx_6V",
        "outputId": "e0d80ca8-4034-48a8-c4ca-fe4b4c82f3db"
      },
      "execution_count": null,
      "outputs": [
        {
          "output_type": "stream",
          "name": "stdout",
          "text": [
            "<class 'pandas.core.frame.DataFrame'>\n",
            "Int64Index: 1048575 entries, 101109527 to 176151924\n",
            "Data columns (total 23 columns):\n",
            " #   Column             Non-Null Count    Dtype         \n",
            "---  ------             --------------    -----         \n",
            " 0   CMPLNT_FR_DT       1048503 non-null  datetime64[ns]\n",
            " 1   CMPLNT_FR_TM       1048575 non-null  int64         \n",
            " 2   CMPLNT_TO_DT       842616 non-null   object        \n",
            " 3   CMPLNT_TO_TM       843002 non-null   object        \n",
            " 4   RPT_DT             1048575 non-null  object        \n",
            " 5   KY_CD              1048575 non-null  int64         \n",
            " 6   OFNS_DESC          1045695 non-null  object        \n",
            " 7   PD_CD              1047842 non-null  float64       \n",
            " 8   PD_DESC            1047842 non-null  object        \n",
            " 9   CRM_ATPT_CPTD_CD   1048574 non-null  object        \n",
            " 10  LAW_CAT_CD         1048575 non-null  object        \n",
            " 11  JURIS_DESC         1048575 non-null  object        \n",
            " 12  BORO_NM            1048575 non-null  object        \n",
            " 13  ADDR_PCT_CD        1048574 non-null  float64       \n",
            " 14  LOC_OF_OCCUR_DESC  830823 non-null   object        \n",
            " 15  PREM_TYP_DESC      1043886 non-null  object        \n",
            " 16  PARKS_NM           7599 non-null     object        \n",
            " 17  HADEVELOPT         51772 non-null    object        \n",
            " 18  X_COORD_CD         1016158 non-null  float64       \n",
            " 19  Y_COORD_CD         1016158 non-null  float64       \n",
            " 20  Latitude           1016158 non-null  float64       \n",
            " 21  Longitude          1016158 non-null  float64       \n",
            " 22  Lat_Lon            1016158 non-null  object        \n",
            "dtypes: datetime64[ns](1), float64(6), int64(2), object(14)\n",
            "memory usage: 224.2+ MB\n"
          ]
        }
      ]
    },
    {
      "cell_type": "code",
      "execution_count": null,
      "metadata": {
        "id": "cNXOGJzUyXU1"
      },
      "outputs": [],
      "source": [
        "df_w=df.copy(deep=True)\n",
        "df_d=df.copy(deep=True)\n",
        "\n",
        "df_d=df_d[df_d.CMPLNT_FR_DT.dt.year.eq(2015)]\n",
        "df_w=df_w[df_w.CMPLNT_FR_DT.dt.year.eq(2015)]"
      ]
    },
    {
      "cell_type": "markdown",
      "source": [
        "Creating Seasons Column"
      ],
      "metadata": {
        "id": "zEW7LG4BwGYR"
      }
    },
    {
      "cell_type": "code",
      "execution_count": null,
      "metadata": {
        "id": "N2Jv_k4cp06V"
      },
      "outputs": [],
      "source": [
        "season = (df_w['CMPLNT_FR_DT'].dt.month - 1) // 3\n",
        "season += (df_w['CMPLNT_FR_DT'].dt.month == 3)&(df_w['CMPLNT_FR_DT'].dt.day>=20)\n",
        "season += (df_w['CMPLNT_FR_DT'].dt.month == 6)&(df_w['CMPLNT_FR_DT'].dt.day>=21)\n",
        "season += (df_w['CMPLNT_FR_DT'].dt.month == 9)&(df_w['CMPLNT_FR_DT'].dt.day>=23)\n",
        "season -= 3*((df_w['CMPLNT_FR_DT'].dt.month == 12)&(df_w['CMPLNT_FR_DT'].dt.day>=21)).astype(int)"
      ]
    },
    {
      "cell_type": "code",
      "execution_count": null,
      "metadata": {
        "colab": {
          "base_uri": "https://localhost:8080/"
        },
        "id": "GK4fRqNZqXL_",
        "outputId": "002b5b8d-4b08-4f7a-80a1-985bfc809b05"
      },
      "outputs": [
        {
          "output_type": "execute_result",
          "data": {
            "text/plain": [
              "CMPLNT_NUM\n",
              "101109527    0\n",
              "153401121    0\n",
              "569369778    0\n",
              "968417082    0\n",
              "641637920    0\n",
              "            ..\n",
              "287915144    0\n",
              "150847953    0\n",
              "213194762    0\n",
              "124173430    0\n",
              "588593124    0\n",
              "Name: CMPLNT_FR_DT, Length: 468576, dtype: int64"
            ]
          },
          "metadata": {},
          "execution_count": 47
        }
      ],
      "source": [
        "season"
      ]
    },
    {
      "cell_type": "code",
      "execution_count": null,
      "metadata": {
        "id": "hWCBoohEqlwW"
      },
      "outputs": [],
      "source": [
        "#Creates new column showing seasons\n",
        "df_w['Seasons']=season"
      ]
    },
    {
      "cell_type": "code",
      "source": [
        "#Creates new column showing seasons\n",
        "df_d['Seasons']=season"
      ],
      "metadata": {
        "id": "jEVlpAqQN1ge"
      },
      "execution_count": null,
      "outputs": []
    },
    {
      "cell_type": "markdown",
      "source": [
        "Dropping Columns"
      ],
      "metadata": {
        "id": "71hJ7ccuxAIA"
      }
    },
    {
      "cell_type": "code",
      "execution_count": null,
      "metadata": {
        "id": "QPTiTccGCBkm"
      },
      "outputs": [],
      "source": [
        "df_w=df_w.drop(['CMPLNT_TO_DT','CMPLNT_TO_TM','RPT_DT', 'KY_CD','PD_CD','PD_DESC','CRM_ATPT_CPTD_CD','ADDR_PCT_CD','LOC_OF_OCCUR_DESC','JURIS_DESC','PREM_TYP_DESC','PARKS_NM','HADEVELOPT',\"X_COORD_CD\",'Y_COORD_CD','Lat_Lon'], axis=1)"
      ]
    },
    {
      "cell_type": "markdown",
      "source": [
        "Dealing with Null Values"
      ],
      "metadata": {
        "id": "-_g0QQzvw68S"
      }
    },
    {
      "cell_type": "code",
      "execution_count": null,
      "metadata": {
        "colab": {
          "base_uri": "https://localhost:8080/"
        },
        "id": "moRx-MwqCN8Y",
        "outputId": "c27387c8-d99b-446f-c9a8-e0b6eaf04d6c"
      },
      "outputs": [
        {
          "output_type": "execute_result",
          "data": {
            "text/plain": [
              "CMPLNT_FR_DT       0\n",
              "CMPLNT_FR_TM       0\n",
              "OFNS_DESC       1173\n",
              "LAW_CAT_CD         0\n",
              "BORO_NM            0\n",
              "Latitude        8856\n",
              "Longitude       8856\n",
              "Seasons            0\n",
              "dtype: int64"
            ]
          },
          "metadata": {},
          "execution_count": 52
        }
      ],
      "source": [
        "df_w.isnull().sum()"
      ]
    },
    {
      "cell_type": "code",
      "execution_count": null,
      "metadata": {
        "id": "UskTaGO1EwUB"
      },
      "outputs": [],
      "source": [
        "median1=df_w['Latitude'].median()\n",
        "median2=df_w['Longitude'].median()\n",
        "\n",
        "df_w[\"Latitude\"].replace(np.nan, median1, inplace = True)\n",
        "df_w[\"Longitude\"].replace(np.nan, median2, inplace = True)"
      ]
    },
    {
      "cell_type": "code",
      "execution_count": null,
      "metadata": {
        "colab": {
          "base_uri": "https://localhost:8080/"
        },
        "id": "H2KasY9aFaWg",
        "outputId": "1213c3ba-f127-495b-9a8a-f5d3e335c8d8"
      },
      "outputs": [
        {
          "output_type": "execute_result",
          "data": {
            "text/plain": [
              "Latitude           0\n",
              "Longitude          0\n",
              "Seasons            0\n",
              "TimeOfComplaint    0\n",
              "BROOKLYN           0\n",
              "MANHATTAN          0\n",
              "QUEENS             0\n",
              "STATEN ISLAND      0\n",
              "FELONY             0\n",
              "MISDEMEANOR        0\n",
              "dtype: int64"
            ]
          },
          "metadata": {},
          "execution_count": 177
        }
      ],
      "source": [
        "df_w.isnull().sum()"
      ]
    },
    {
      "cell_type": "code",
      "execution_count": null,
      "metadata": {
        "colab": {
          "base_uri": "https://localhost:8080/"
        },
        "id": "XmxbS8eAFwow",
        "outputId": "eef080c1-b307-4d67-9826-b6fced0aca0e"
      },
      "outputs": [
        {
          "output_type": "execute_result",
          "data": {
            "text/plain": [
              "PETIT LARCENY                     80205\n",
              "HARRASSMENT 2                     61339\n",
              "ASSAULT 3 & RELATED OFFENSES      51932\n",
              "CRIMINAL MISCHIEF & RELATED OF    47586\n",
              "GRAND LARCENY                     42067\n",
              "DANGEROUS DRUGS                   23645\n",
              "FELONY ASSAULT                    20259\n",
              "OFF. AGNST PUB ORD SENSBLTY &     20141\n",
              "ROBBERY                           16913\n",
              "BURGLARY                          15000\n",
              "MISCELLANEOUS PENAL LAW           13283\n",
              "DANGEROUS WEAPONS                 10505\n",
              "Name: OFNS_DESC, dtype: int64"
            ]
          },
          "metadata": {},
          "execution_count": 55
        }
      ],
      "source": [
        "df_w['OFNS_DESC'].value_counts().head(12)"
      ]
    },
    {
      "cell_type": "code",
      "execution_count": null,
      "metadata": {
        "colab": {
          "base_uri": "https://localhost:8080/"
        },
        "id": "EcuQkCgcGgo2",
        "outputId": "02ed82ae-7ce8-476b-e363-8116286eea19"
      },
      "outputs": [
        {
          "output_type": "execute_result",
          "data": {
            "text/plain": [
              "MISDEMEANOR    260133\n",
              "FELONY         146137\n",
              "VIOLATION       62306\n",
              "Name: LAW_CAT_CD, dtype: int64"
            ]
          },
          "metadata": {},
          "execution_count": 56
        }
      ],
      "source": [
        "df_w['LAW_CAT_CD'].value_counts()"
      ]
    },
    {
      "cell_type": "code",
      "execution_count": null,
      "metadata": {
        "colab": {
          "base_uri": "https://localhost:8080/"
        },
        "id": "-IBh6Bp9Cc9i",
        "outputId": "4db46e2a-1f87-49dc-dc28-9d8027deaed2"
      },
      "outputs": [
        {
          "output_type": "stream",
          "name": "stdout",
          "text": [
            "3748608\n"
          ]
        }
      ],
      "source": [
        "print (df_w.size)"
      ]
    },
    {
      "cell_type": "markdown",
      "source": [
        "One Hot Encoding For Boroughs and Level of Offense"
      ],
      "metadata": {
        "id": "uP-M-NCTwgHt"
      }
    },
    {
      "cell_type": "code",
      "execution_count": null,
      "metadata": {
        "id": "9DyghFxYP279"
      },
      "outputs": [],
      "source": [
        "#Dummies for Boros\n",
        "one_hot=pd.get_dummies(df_w['BORO_NM'])\n",
        "df_w=df_w.drop('BORO_NM',axis=1)\n",
        "df_w=df_w.join(one_hot)"
      ]
    },
    {
      "cell_type": "code",
      "execution_count": null,
      "metadata": {
        "colab": {
          "base_uri": "https://localhost:8080/"
        },
        "id": "WKUlYN62zDlg",
        "outputId": "8fb15766-5fec-48eb-9e5f-63a354911ac4"
      },
      "outputs": [
        {
          "output_type": "stream",
          "name": "stdout",
          "text": [
            "<class 'pandas.core.frame.DataFrame'>\n",
            "Int64Index: 468576 entries, 101109527 to 588593124\n",
            "Data columns (total 12 columns):\n",
            " #   Column         Non-Null Count   Dtype         \n",
            "---  ------         --------------   -----         \n",
            " 0   CMPLNT_FR_DT   468576 non-null  datetime64[ns]\n",
            " 1   CMPLNT_FR_TM   468576 non-null  int64         \n",
            " 2   OFNS_DESC      467403 non-null  object        \n",
            " 3   LAW_CAT_CD     468576 non-null  object        \n",
            " 4   Latitude       468576 non-null  float64       \n",
            " 5   Longitude      468576 non-null  float64       \n",
            " 6   Seasons        468576 non-null  int64         \n",
            " 7   BRONX          468576 non-null  uint8         \n",
            " 8   BROOKLYN       468576 non-null  uint8         \n",
            " 9   MANHATTAN      468576 non-null  uint8         \n",
            " 10  QUEENS         468576 non-null  uint8         \n",
            " 11  STATEN ISLAND  468576 non-null  uint8         \n",
            "dtypes: datetime64[ns](1), float64(2), int64(2), object(2), uint8(5)\n",
            "memory usage: 47.0+ MB\n"
          ]
        }
      ],
      "source": [
        "df_w.info()"
      ]
    },
    {
      "cell_type": "code",
      "execution_count": null,
      "metadata": {
        "id": "wPIxtXRP6e3f"
      },
      "outputs": [],
      "source": [
        "# Dummies for Level of Offense Column\n",
        "one_hotL=pd.get_dummies(df_w['LAW_CAT_CD'])\n",
        "df_w=df_w.drop('LAW_CAT_CD',axis=1)\n",
        "df_w=df_w.join(one_hotL)"
      ]
    },
    {
      "cell_type": "code",
      "execution_count": null,
      "metadata": {
        "id": "01vcg_Ci3e54"
      },
      "outputs": [],
      "source": [
        "#Moved the complaint Time so all the number values would be at the end.\n",
        "column_to_move = df_w.pop(\"CMPLNT_FR_TM\")\n",
        "df_w.insert(5, \"CMPLNT_FR_TM\", column_to_move )"
      ]
    },
    {
      "cell_type": "code",
      "execution_count": null,
      "metadata": {
        "id": "Qe7efpiO5FVw"
      },
      "outputs": [],
      "source": [
        "#Rename Some Columns\n",
        "df_w.rename(columns={'CMPLNT_FR_DT': 'ComplaintDate', 'OFNS_DESC ': 'OffenseDesc','LAW_CAT_CD ': 'LevelOfOffense','CMPLNT_FR_TM': 'TimeOfComplaint', 'CRIMINAL MISCHIEF & RELATED OF':'CRIMINAL MISCHIEF',\n",
        "                          'ASSAULT 3 & RELATED OFFENSES':'ASSAULT 3','OFF. AGNST PUB ORD SENSBLTY &':'OFF. AGNST PUB ORD'}, inplace=True)"
      ]
    },
    {
      "cell_type": "code",
      "source": [
        "#Rename Some Columns\n",
        "df_d.rename(columns={'CMPLNT_FR_DT': 'ComplaintDate', 'OFNS_DESC ': 'OffenseDesc','LAW_CAT_CD ': 'LevelOfOffense','CMPLNT_FR_TM': 'TimeOfComplaint', 'CRIMINAL MISCHIEF & RELATED OF':'CRIMINAL MISCHIEF',\n",
        "                          'ASSAULT 3 & RELATED OFFENSES':'ASSAULT 3','OFF. AGNST PUB ORD SENSBLTY &':'OFF. AGNST PUB ORD'}, inplace=True)"
      ],
      "metadata": {
        "id": "PrS2eXU2Lv0n"
      },
      "execution_count": null,
      "outputs": []
    },
    {
      "cell_type": "markdown",
      "source": [
        "Outlier Check"
      ],
      "metadata": {
        "id": "hg9o74Mnk4PB"
      }
    },
    {
      "cell_type": "code",
      "execution_count": null,
      "metadata": {
        "colab": {
          "base_uri": "https://localhost:8080/",
          "height": 334
        },
        "id": "JXXn75z7WPGL",
        "outputId": "b4436c2b-0ea2-47df-f2dc-b79ddfb3c008"
      },
      "outputs": [
        {
          "output_type": "display_data",
          "data": {
            "text/plain": [
              "<Figure size 1152x360 with 2 Axes>"
            ],
            "image/png": "[encoded data removed]"
          },
          "metadata": {
            "needs_background": "light"
          }
        }
      ],
      "source": [
        "import warnings\n",
        "warnings.filterwarnings('ignore')\n",
        "plt.figure(figsize=(16,5))\n",
        "plt.subplot(1,2,1)\n",
        "sns.distplot(df_w['Latitude'])\n",
        "plt.subplot(1,2,2)\n",
        "sns.distplot(df_w['TimeOfComplaint'])\n",
        "plt.show()"
      ]
    },
    {
      "cell_type": "code",
      "execution_count": null,
      "metadata": {
        "id": "C0IyRi0V1-eL"
      },
      "outputs": [],
      "source": [
        "from numpy import mean\n",
        "from numpy import std\n",
        "data_mean, data_std = mean(df_w['TimeOfComplaint']), std(df_w['TimeOfComplaint'])"
      ]
    },
    {
      "cell_type": "code",
      "execution_count": null,
      "metadata": {
        "id": "AIdCgB9a2S1K"
      },
      "outputs": [],
      "source": [
        "cut_off = data_std * 3\n",
        "lower, upper = data_mean - cut_off, data_mean + cut_off"
      ]
    },
    {
      "cell_type": "code",
      "execution_count": null,
      "metadata": {
        "id": "_RDe3fs92ly1"
      },
      "outputs": [],
      "source": [
        "outliers = [ x for x in df_w['TimeOfComplaint'] if x < lower or x > upper]"
      ]
    },
    {
      "cell_type": "code",
      "execution_count": null,
      "metadata": {
        "colab": {
          "base_uri": "https://localhost:8080/"
        },
        "id": "2DUtQ7f62DqP",
        "outputId": "e92daf1d-54a1-44e8-a8f1-79a361e07345"
      },
      "outputs": [
        {
          "output_type": "stream",
          "name": "stdout",
          "text": [
            "Identified outliers: 0\n",
            "Non-outlier observations: 468576\n"
          ]
        }
      ],
      "source": [
        "print('Identified outliers: %d' % len(outliers))\n",
        "outliers_removed = [x for x in df_w['TimeOfComplaint'] if x >= lower and x <= upper]\n",
        "print('Non-outlier observations: %d' % len(outliers_removed))"
      ]
    },
    {
      "cell_type": "code",
      "execution_count": null,
      "metadata": {
        "colab": {
          "base_uri": "https://localhost:8080/",
          "height": 296
        },
        "id": "4Gwf0lKpXFuW",
        "outputId": "ddb03163-46a4-4c65-c9d7-24f6cce8d861"
      },
      "outputs": [
        {
          "output_type": "execute_result",
          "data": {
            "text/plain": [
              "<matplotlib.axes._subplots.AxesSubplot at 0x7fd3ae7d1850>"
            ]
          },
          "metadata": {},
          "execution_count": 72
        },
        {
          "output_type": "display_data",
          "data": {
            "text/plain": [
              "<Figure size 432x288 with 1 Axes>"
            ],
            "image/png": "[encoded data removed]"
          },
          "metadata": {
            "needs_background": "light"
          }
        }
      ],
      "source": [
        "sns.boxplot(df_w['TimeOfComplaint']) "
      ]
    },
    {
      "cell_type": "code",
      "execution_count": null,
      "metadata": {
        "colab": {
          "base_uri": "https://localhost:8080/",
          "height": 296
        },
        "id": "UrC4GHctoAFk",
        "outputId": "af7483b5-6fbe-4df2-fa2a-9c0ad7c72c77"
      },
      "outputs": [
        {
          "output_type": "execute_result",
          "data": {
            "text/plain": [
              "<matplotlib.axes._subplots.AxesSubplot at 0x7fd3b1a25c50>"
            ]
          },
          "metadata": {},
          "execution_count": 73
        },
        {
          "output_type": "display_data",
          "data": {
            "text/plain": [
              "<Figure size 432x288 with 1 Axes>"
            ],
            "image/png": "[encoded data removed]"
          },
          "metadata": {
            "needs_background": "light"
          }
        }
      ],
      "source": [
        "sns.boxplot(df_w['Latitude']) "
      ]
    },
    {
      "cell_type": "code",
      "execution_count": null,
      "metadata": {
        "id": "iIMmxJDV95Ti"
      },
      "outputs": [],
      "source": [
        "#Removing Columns that aren't necessary\n",
        "df_w=df_w.drop(['ComplaintDate','OFNS_DESC','VIOLATION','BRONX'],axis=1) #','STATEN ISLAND'"
      ]
    },
    {
      "cell_type": "markdown",
      "source": [
        "Sampling Data"
      ],
      "metadata": {
        "id": "QsW58F58k-AM"
      }
    },
    {
      "cell_type": "code",
      "source": [
        "#Sampling the dataset\n",
        "from random import sample\n",
        "sampdf=df_w.sample(20000)"
      ],
      "metadata": {
        "id": "WMj-JLWHhKOs"
      },
      "execution_count": null,
      "outputs": []
    },
    {
      "cell_type": "code",
      "execution_count": null,
      "metadata": {
        "colab": {
          "base_uri": "https://localhost:8080/"
        },
        "id": "NuYd3TKV3Bh4",
        "outputId": "5888e140-8de1-4f84-af5e-b6fea9786a36"
      },
      "outputs": [
        {
          "output_type": "stream",
          "name": "stdout",
          "text": [
            "<class 'pandas.core.frame.DataFrame'>\n",
            "Int64Index: 468576 entries, 101109527 to 588593124\n",
            "Data columns (total 10 columns):\n",
            " #   Column           Non-Null Count   Dtype  \n",
            "---  ------           --------------   -----  \n",
            " 0   Latitude         468576 non-null  float64\n",
            " 1   Longitude        468576 non-null  float64\n",
            " 2   Seasons          468576 non-null  int64  \n",
            " 3   TimeOfComplaint  468576 non-null  int64  \n",
            " 4   BROOKLYN         468576 non-null  uint8  \n",
            " 5   MANHATTAN        468576 non-null  uint8  \n",
            " 6   QUEENS           468576 non-null  uint8  \n",
            " 7   STATEN ISLAND    468576 non-null  uint8  \n",
            " 8   FELONY           468576 non-null  uint8  \n",
            " 9   MISDEMEANOR      468576 non-null  uint8  \n",
            "dtypes: float64(2), int64(2), uint8(6)\n",
            "memory usage: 36.7 MB\n"
          ]
        }
      ],
      "source": [
        "#All of The Columns are number values and can be used for the machine learning algos\n",
        "df_w.info()"
      ]
    },
    {
      "cell_type": "markdown",
      "metadata": {
        "id": "nphjnMyFvsW2"
      },
      "source": [
        "Splitting Data and Assigning Variable Values"
      ]
    },
    {
      "cell_type": "code",
      "execution_count": null,
      "metadata": {
        "id": "4kmpeYPy9iLZ"
      },
      "outputs": [],
      "source": [
        "X = sampdf.drop(['MISDEMEANOR'], axis=1)\n",
        "y = sampdf['MISDEMEANOR'] # The target variable - Only one column"
      ]
    },
    {
      "cell_type": "code",
      "execution_count": null,
      "metadata": {
        "id": "nXy-Dqa7p5n6"
      },
      "outputs": [],
      "source": [
        "from sklearn.model_selection import train_test_split\n",
        "X_train, X_test, y_train, y_test = train_test_split(X, y, test_size=0.2, random_state=1)"
      ]
    },
    {
      "cell_type": "code",
      "execution_count": null,
      "metadata": {
        "colab": {
          "base_uri": "https://localhost:8080/"
        },
        "id": "0FK-qEHv-xIY",
        "outputId": "0c48e8e5-1761-4e41-f0c5-8f0161a8ab44"
      },
      "outputs": [
        {
          "output_type": "execute_result",
          "data": {
            "text/plain": [
              "((16000, 9), (4000, 9))"
            ]
          },
          "metadata": {},
          "execution_count": 79
        }
      ],
      "source": [
        "X_train.shape, X_test.shape"
      ]
    },
    {
      "cell_type": "code",
      "execution_count": null,
      "metadata": {
        "id": "8kMeltl8-5fP"
      },
      "outputs": [],
      "source": [
        "cols = X_train.columns"
      ]
    },
    {
      "cell_type": "code",
      "execution_count": null,
      "metadata": {
        "id": "noC6xVBO-9RS"
      },
      "outputs": [],
      "source": [
        "#Standardizing Variables\n",
        "from sklearn.preprocessing import StandardScaler\n",
        "\n",
        "scaler = StandardScaler()\n",
        "\n",
        "X_train = scaler.fit_transform(X_train)\n",
        "\n",
        "X_test = scaler.transform(X_test)"
      ]
    },
    {
      "cell_type": "code",
      "execution_count": null,
      "metadata": {
        "id": "gkD9iu2Y_CK2"
      },
      "outputs": [],
      "source": [
        "X_train = pd.DataFrame(X_train, columns=[cols])"
      ]
    },
    {
      "cell_type": "code",
      "execution_count": null,
      "metadata": {
        "id": "ipbu_4k__GNx"
      },
      "outputs": [],
      "source": [
        "X_test = pd.DataFrame(X_test, columns=[cols])\n"
      ]
    },
    {
      "cell_type": "code",
      "execution_count": null,
      "metadata": {
        "colab": {
          "base_uri": "https://localhost:8080/",
          "height": 300
        },
        "id": "qycUand0_Hmm",
        "outputId": "1dd9aeb2-5121-4a84-e5a6-044882f23010"
      },
      "outputs": [
        {
          "output_type": "execute_result",
          "data": {
            "text/plain": [
              "           Latitude     Longitude       Seasons TimeOfComplaint      BROOKLYN  \\\n",
              "count  1.600000e+04  1.600000e+04  1.600000e+04    1.600000e+04  1.600000e+04   \n",
              "mean   1.937765e-14  6.135866e-14 -1.473821e-16    1.455780e-16  8.507361e-16   \n",
              "std    1.000031e+00  1.000031e+00  1.000031e+00    1.000031e+00  1.000031e+00   \n",
              "min   -2.813985e+00 -4.228370e+00 -1.447624e+00   -1.978028e+00 -6.575776e-01   \n",
              "25%   -7.525909e-01 -5.888463e-01 -5.191019e-01   -6.293724e-01 -6.575776e-01   \n",
              "50%   -3.971887e-02 -1.861155e-02  4.094202e-01    1.198805e-01 -6.575776e-01   \n",
              "75%    9.239362e-01  5.285469e-01  4.094202e-01    8.691333e-01  1.520733e+00   \n",
              "max    2.149088e+00  2.901661e+00  1.337942e+00    1.468536e+00  1.520733e+00   \n",
              "\n",
              "          MANHATTAN        QUEENS STATEN ISLAND        FELONY  \n",
              "count  1.600000e+04  1.600000e+04  1.600000e+04  1.600000e+04  \n",
              "mean  -6.862844e-16  9.766632e-16  1.795994e-16 -6.354500e-16  \n",
              "std    1.000031e+00  1.000031e+00  1.000031e+00  1.000031e+00  \n",
              "min   -5.532833e-01 -4.954058e-01 -2.219215e-01 -6.735135e-01  \n",
              "25%   -5.532833e-01 -4.954058e-01 -2.219215e-01 -6.735135e-01  \n",
              "50%   -5.532833e-01 -4.954058e-01 -2.219215e-01 -6.735135e-01  \n",
              "75%   -5.532833e-01 -4.954058e-01 -2.219215e-01  1.484751e+00  \n",
              "max    1.807392e+00  2.018547e+00  4.506099e+00  1.484751e+00  "
            ],
            "text/html": [
              "\n",
              "  <div id=\"df-e787f116-cd84-4388-8e1f-5a0719f00497\">\n",
              "    <div class=\"colab-df-container\">\n",
              "      <div>\n",
              "<style scoped>\n",
              "    .dataframe tbody tr th:only-of-type {\n",
              "        vertical-align: middle;\n",
              "    }\n",
              "\n",
              "    .dataframe tbody tr th {\n",
              "        vertical-align: top;\n",
              "    }\n",
              "\n",
              "    .dataframe thead tr th {\n",
              "        text-align: left;\n",
              "    }\n",
              "</style>\n",
              "<table border=\"1\" class=\"dataframe\">\n",
              "  <thead>\n",
              "    <tr>\n",
              "      <th></th>\n",
              "      <th>Latitude</th>\n",
              "      <th>Longitude</th>\n",
              "      <th>Seasons</th>\n",
              "      <th>TimeOfComplaint</th>\n",
              "      <th>BROOKLYN</th>\n",
              "      <th>MANHATTAN</th>\n",
              "      <th>QUEENS</th>\n",
              "      <th>STATEN ISLAND</th>\n",
              "      <th>FELONY</th>\n",
              "    </tr>\n",
              "  </thead>\n",
              "  <tbody>\n",
              "    <tr>\n",
              "      <th>count</th>\n",
              "      <td>1.600000e+04</td>\n",
              "      <td>1.600000e+04</td>\n",
              "      <td>1.600000e+04</td>\n",
              "      <td>1.600000e+04</td>\n",
              "      <td>1.600000e+04</td>\n",
              "      <td>1.600000e+04</td>\n",
              "      <td>1.600000e+04</td>\n",
              "      <td>1.600000e+04</td>\n",
              "      <td>1.600000e+04</td>\n",
              "    </tr>\n",
              "    <tr>\n",
              "      <th>mean</th>\n",
              "      <td>1.937765e-14</td>\n",
              "      <td>6.135866e-14</td>\n",
              "      <td>-1.473821e-16</td>\n",
              "      <td>1.455780e-16</td>\n",
              "      <td>8.507361e-16</td>\n",
              "      <td>-6.862844e-16</td>\n",
              "      <td>9.766632e-16</td>\n",
              "      <td>1.795994e-16</td>\n",
              "      <td>-6.354500e-16</td>\n",
              "    </tr>\n",
              "    <tr>\n",
              "      <th>std</th>\n",
              "      <td>1.000031e+00</td>\n",
              "      <td>1.000031e+00</td>\n",
              "      <td>1.000031e+00</td>\n",
              "      <td>1.000031e+00</td>\n",
              "      <td>1.000031e+00</td>\n",
              "      <td>1.000031e+00</td>\n",
              "      <td>1.000031e+00</td>\n",
              "      <td>1.000031e+00</td>\n",
              "      <td>1.000031e+00</td>\n",
              "    </tr>\n",
              "    <tr>\n",
              "      <th>min</th>\n",
              "      <td>-2.813985e+00</td>\n",
              "      <td>-4.228370e+00</td>\n",
              "      <td>-1.447624e+00</td>\n",
              "      <td>-1.978028e+00</td>\n",
              "      <td>-6.575776e-01</td>\n",
              "      <td>-5.532833e-01</td>\n",
              "      <td>-4.954058e-01</td>\n",
              "      <td>-2.219215e-01</td>\n",
              "      <td>-6.735135e-01</td>\n",
              "    </tr>\n",
              "    <tr>\n",
              "      <th>25%</th>\n",
              "      <td>-7.525909e-01</td>\n",
              "      <td>-5.888463e-01</td>\n",
              "      <td>-5.191019e-01</td>\n",
              "      <td>-6.293724e-01</td>\n",
              "      <td>-6.575776e-01</td>\n",
              "      <td>-5.532833e-01</td>\n",
              "      <td>-4.954058e-01</td>\n",
              "      <td>-2.219215e-01</td>\n",
              "      <td>-6.735135e-01</td>\n",
              "    </tr>\n",
              "    <tr>\n",
              "      <th>50%</th>\n",
              "      <td>-3.971887e-02</td>\n",
              "      <td>-1.861155e-02</td>\n",
              "      <td>4.094202e-01</td>\n",
              "      <td>1.198805e-01</td>\n",
              "      <td>-6.575776e-01</td>\n",
              "      <td>-5.532833e-01</td>\n",
              "      <td>-4.954058e-01</td>\n",
              "      <td>-2.219215e-01</td>\n",
              "      <td>-6.735135e-01</td>\n",
              "    </tr>\n",
              "    <tr>\n",
              "      <th>75%</th>\n",
              "      <td>9.239362e-01</td>\n",
              "      <td>5.285469e-01</td>\n",
              "      <td>4.094202e-01</td>\n",
              "      <td>8.691333e-01</td>\n",
              "      <td>1.520733e+00</td>\n",
              "      <td>-5.532833e-01</td>\n",
              "      <td>-4.954058e-01</td>\n",
              "      <td>-2.219215e-01</td>\n",
              "      <td>1.484751e+00</td>\n",
              "    </tr>\n",
              "    <tr>\n",
              "      <th>max</th>\n",
              "      <td>2.149088e+00</td>\n",
              "      <td>2.901661e+00</td>\n",
              "      <td>1.337942e+00</td>\n",
              "      <td>1.468536e+00</td>\n",
              "      <td>1.520733e+00</td>\n",
              "      <td>1.807392e+00</td>\n",
              "      <td>2.018547e+00</td>\n",
              "      <td>4.506099e+00</td>\n",
              "      <td>1.484751e+00</td>\n",
              "    </tr>\n",
              "  </tbody>\n",
              "</table>\n",
              "</div>\n",
              "      <button class=\"colab-df-convert\" onclick=\"convertToInteractive('df-e787f116-cd84-4388-8e1f-5a0719f00497')\"\n",
              "              title=\"Convert this dataframe to an interactive table.\"\n",
              "              style=\"display:none;\">\n",
              "        \n",
              "  <svg xmlns=\"http://www.w3.org/2000/svg\" height=\"24px\"viewBox=\"0 0 24 24\"\n",
              "       width=\"24px\">\n",
              "    <path d=\"M0 0h24v24H0V0z\" fill=\"none\"/>\n",
              "    <path d=\"M18.56 5.44l.94 2.06.94-2.06 2.06-.94-2.06-.94-.94-2.06-.94 2.06-2.06.94zm-11 1L8.5 8.5l.94-2.06 2.06-.94-2.06-.94L8.5 2.5l-.94 2.06-2.06.94zm10 10l.94 2.06.94-2.06 2.06-.94-2.06-.94-.94-2.06-.94 2.06-2.06.94z\"/><path d=\"M17.41 7.96l-1.37-1.37c-.4-.4-.92-.59-1.43-.59-.52 0-1.04.2-1.43.59L10.3 9.45l-7.72 7.72c-.78.78-.78 2.05 0 2.83L4 21.41c.39.39.9.59 1.41.59.51 0 1.02-.2 1.41-.59l7.78-7.78 2.81-2.81c.8-.78.8-2.07 0-2.86zM5.41 20L4 18.59l7.72-7.72 1.47 1.35L5.41 20z\"/>\n",
              "  </svg>\n",
              "      </button>\n",
              "      \n",
              "  <style>\n",
              "    .colab-df-container {\n",
              "      display:flex;\n",
              "      flex-wrap:wrap;\n",
              "      gap: 12px;\n",
              "    }\n",
              "\n",
              "    .colab-df-convert {\n",
              "      background-color: #E8F0FE;\n",
              "      border: none;\n",
              "      border-radius: 50%;\n",
              "      cursor: pointer;\n",
              "      display: none;\n",
              "      fill: #1967D2;\n",
              "      height: 32px;\n",
              "      padding: 0 0 0 0;\n",
              "      width: 32px;\n",
              "    }\n",
              "\n",
              "    .colab-df-convert:hover {\n",
              "      background-color: #E2EBFA;\n",
              "      box-shadow: 0px 1px 2px rgba(60, 64, 67, 0.3), 0px 1px 3px 1px rgba(60, 64, 67, 0.15);\n",
              "      fill: #174EA6;\n",
              "    }\n",
              "\n",
              "    [theme=dark] .colab-df-convert {\n",
              "      background-color: #3B4455;\n",
              "      fill: #D2E3FC;\n",
              "    }\n",
              "\n",
              "    [theme=dark] .colab-df-convert:hover {\n",
              "      background-color: #434B5C;\n",
              "      box-shadow: 0px 1px 3px 1px rgba(0, 0, 0, 0.15);\n",
              "      filter: drop-shadow(0px 1px 2px rgba(0, 0, 0, 0.3));\n",
              "      fill: #FFFFFF;\n",
              "    }\n",
              "  </style>\n",
              "\n",
              "      <script>\n",
              "        const buttonEl =\n",
              "          document.querySelector('#df-e787f116-cd84-4388-8e1f-5a0719f00497 button.colab-df-convert');\n",
              "        buttonEl.style.display =\n",
              "          google.colab.kernel.accessAllowed ? 'block' : 'none';\n",
              "\n",
              "        async function convertToInteractive(key) {\n",
              "          const element = document.querySelector('#df-e787f116-cd84-4388-8e1f-5a0719f00497');\n",
              "          const dataTable =\n",
              "            await google.colab.kernel.invokeFunction('convertToInteractive',\n",
              "                                                     [key], {});\n",
              "          if (!dataTable) return;\n",
              "\n",
              "          const docLinkHtml = 'Like what you see? Visit the ' +\n",
              "            '<a target=\"_blank\" href=https://colab.research.google.com/notebooks/data_table.ipynb>data table notebook</a>'\n",
              "            + ' to learn more about interactive tables.';\n",
              "          element.innerHTML = '';\n",
              "          dataTable['output_type'] = 'display_data';\n",
              "          await google.colab.output.renderOutput(dataTable, element);\n",
              "          const docLink = document.createElement('div');\n",
              "          docLink.innerHTML = docLinkHtml;\n",
              "          element.appendChild(docLink);\n",
              "        }\n",
              "      </script>\n",
              "    </div>\n",
              "  </div>\n",
              "  "
            ]
          },
          "metadata": {},
          "execution_count": 90
        }
      ],
      "source": [
        "X_train.describe()"
      ]
    },
    {
      "cell_type": "code",
      "source": [
        "df_w.Seasons.value_counts()"
      ],
      "metadata": {
        "colab": {
          "base_uri": "https://localhost:8080/"
        },
        "id": "U7DnIabHWUw4",
        "outputId": "6567c24a-7a92-457e-98b0-e21d895ef1b2"
      },
      "execution_count": null,
      "outputs": [
        {
          "output_type": "execute_result",
          "data": {
            "text/plain": [
              "2    132545\n",
              "1    123484\n",
              "3    112780\n",
              "0     99767\n",
              "Name: Seasons, dtype: int64"
            ]
          },
          "metadata": {},
          "execution_count": 91
        }
      ]
    },
    {
      "cell_type": "code",
      "source": [
        "df_w.head()"
      ],
      "metadata": {
        "colab": {
          "base_uri": "https://localhost:8080/",
          "height": 237
        },
        "id": "cGH-VSjWWnaD",
        "outputId": "595b0214-2953-4047-8026-24f62eaa5563"
      },
      "execution_count": null,
      "outputs": [
        {
          "output_type": "execute_result",
          "data": {
            "text/plain": [
              "             Latitude  Longitude  Seasons  TimeOfComplaint  BROOKLYN  \\\n",
              "CMPLNT_NUM                                                             \n",
              "101109527   40.828848 -73.916661        0               23         0   \n",
              "153401121   40.697338 -73.784557        0               23         0   \n",
              "569369778   40.802607 -73.945052        0               23         0   \n",
              "968417082   40.654549 -73.726339        0               23         0   \n",
              "641637920   40.738002 -73.987891        0               23         0   \n",
              "\n",
              "            MANHATTAN  QUEENS  STATEN ISLAND  FELONY  MISDEMEANOR  \n",
              "CMPLNT_NUM                                                         \n",
              "101109527           0       0              0       1            0  \n",
              "153401121           0       1              0       1            0  \n",
              "569369778           1       0              0       1            0  \n",
              "968417082           0       1              0       0            1  \n",
              "641637920           1       0              0       0            1  "
            ],
            "text/html": [
              "\n",
              "  <div id=\"df-91d3b268-9465-4f8c-b66b-ad2b2b7fe9c3\">\n",
              "    <div class=\"colab-df-container\">\n",
              "      <div>\n",
              "<style scoped>\n",
              "    .dataframe tbody tr th:only-of-type {\n",
              "        vertical-align: middle;\n",
              "    }\n",
              "\n",
              "    .dataframe tbody tr th {\n",
              "        vertical-align: top;\n",
              "    }\n",
              "\n",
              "    .dataframe thead th {\n",
              "        text-align: right;\n",
              "    }\n",
              "</style>\n",
              "<table border=\"1\" class=\"dataframe\">\n",
              "  <thead>\n",
              "    <tr style=\"text-align: right;\">\n",
              "      <th></th>\n",
              "      <th>Latitude</th>\n",
              "      <th>Longitude</th>\n",
              "      <th>Seasons</th>\n",
              "      <th>TimeOfComplaint</th>\n",
              "      <th>BROOKLYN</th>\n",
              "      <th>MANHATTAN</th>\n",
              "      <th>QUEENS</th>\n",
              "      <th>STATEN ISLAND</th>\n",
              "      <th>FELONY</th>\n",
              "      <th>MISDEMEANOR</th>\n",
              "    </tr>\n",
              "    <tr>\n",
              "      <th>CMPLNT_NUM</th>\n",
              "      <th></th>\n",
              "      <th></th>\n",
              "      <th></th>\n",
              "      <th></th>\n",
              "      <th></th>\n",
              "      <th></th>\n",
              "      <th></th>\n",
              "      <th></th>\n",
              "      <th></th>\n",
              "      <th></th>\n",
              "    </tr>\n",
              "  </thead>\n",
              "  <tbody>\n",
              "    <tr>\n",
              "      <th>101109527</th>\n",
              "      <td>40.828848</td>\n",
              "      <td>-73.916661</td>\n",
              "      <td>0</td>\n",
              "      <td>23</td>\n",
              "      <td>0</td>\n",
              "      <td>0</td>\n",
              "      <td>0</td>\n",
              "      <td>0</td>\n",
              "      <td>1</td>\n",
              "      <td>0</td>\n",
              "    </tr>\n",
              "    <tr>\n",
              "      <th>153401121</th>\n",
              "      <td>40.697338</td>\n",
              "      <td>-73.784557</td>\n",
              "      <td>0</td>\n",
              "      <td>23</td>\n",
              "      <td>0</td>\n",
              "      <td>0</td>\n",
              "      <td>1</td>\n",
              "      <td>0</td>\n",
              "      <td>1</td>\n",
              "      <td>0</td>\n",
              "    </tr>\n",
              "    <tr>\n",
              "      <th>569369778</th>\n",
              "      <td>40.802607</td>\n",
              "      <td>-73.945052</td>\n",
              "      <td>0</td>\n",
              "      <td>23</td>\n",
              "      <td>0</td>\n",
              "      <td>1</td>\n",
              "      <td>0</td>\n",
              "      <td>0</td>\n",
              "      <td>1</td>\n",
              "      <td>0</td>\n",
              "    </tr>\n",
              "    <tr>\n",
              "      <th>968417082</th>\n",
              "      <td>40.654549</td>\n",
              "      <td>-73.726339</td>\n",
              "      <td>0</td>\n",
              "      <td>23</td>\n",
              "      <td>0</td>\n",
              "      <td>0</td>\n",
              "      <td>1</td>\n",
              "      <td>0</td>\n",
              "      <td>0</td>\n",
              "      <td>1</td>\n",
              "    </tr>\n",
              "    <tr>\n",
              "      <th>641637920</th>\n",
              "      <td>40.738002</td>\n",
              "      <td>-73.987891</td>\n",
              "      <td>0</td>\n",
              "      <td>23</td>\n",
              "      <td>0</td>\n",
              "      <td>1</td>\n",
              "      <td>0</td>\n",
              "      <td>0</td>\n",
              "      <td>0</td>\n",
              "      <td>1</td>\n",
              "    </tr>\n",
              "  </tbody>\n",
              "</table>\n",
              "</div>\n",
              "      <button class=\"colab-df-convert\" onclick=\"convertToInteractive('df-91d3b268-9465-4f8c-b66b-ad2b2b7fe9c3')\"\n",
              "              title=\"Convert this dataframe to an interactive table.\"\n",
              "              style=\"display:none;\">\n",
              "        \n",
              "  <svg xmlns=\"http://www.w3.org/2000/svg\" height=\"24px\"viewBox=\"0 0 24 24\"\n",
              "       width=\"24px\">\n",
              "    <path d=\"M0 0h24v24H0V0z\" fill=\"none\"/>\n",
              "    <path d=\"M18.56 5.44l.94 2.06.94-2.06 2.06-.94-2.06-.94-.94-2.06-.94 2.06-2.06.94zm-11 1L8.5 8.5l.94-2.06 2.06-.94-2.06-.94L8.5 2.5l-.94 2.06-2.06.94zm10 10l.94 2.06.94-2.06 2.06-.94-2.06-.94-.94-2.06-.94 2.06-2.06.94z\"/><path d=\"M17.41 7.96l-1.37-1.37c-.4-.4-.92-.59-1.43-.59-.52 0-1.04.2-1.43.59L10.3 9.45l-7.72 7.72c-.78.78-.78 2.05 0 2.83L4 21.41c.39.39.9.59 1.41.59.51 0 1.02-.2 1.41-.59l7.78-7.78 2.81-2.81c.8-.78.8-2.07 0-2.86zM5.41 20L4 18.59l7.72-7.72 1.47 1.35L5.41 20z\"/>\n",
              "  </svg>\n",
              "      </button>\n",
              "      \n",
              "  <style>\n",
              "    .colab-df-container {\n",
              "      display:flex;\n",
              "      flex-wrap:wrap;\n",
              "      gap: 12px;\n",
              "    }\n",
              "\n",
              "    .colab-df-convert {\n",
              "      background-color: #E8F0FE;\n",
              "      border: none;\n",
              "      border-radius: 50%;\n",
              "      cursor: pointer;\n",
              "      display: none;\n",
              "      fill: #1967D2;\n",
              "      height: 32px;\n",
              "      padding: 0 0 0 0;\n",
              "      width: 32px;\n",
              "    }\n",
              "\n",
              "    .colab-df-convert:hover {\n",
              "      background-color: #E2EBFA;\n",
              "      box-shadow: 0px 1px 2px rgba(60, 64, 67, 0.3), 0px 1px 3px 1px rgba(60, 64, 67, 0.15);\n",
              "      fill: #174EA6;\n",
              "    }\n",
              "\n",
              "    [theme=dark] .colab-df-convert {\n",
              "      background-color: #3B4455;\n",
              "      fill: #D2E3FC;\n",
              "    }\n",
              "\n",
              "    [theme=dark] .colab-df-convert:hover {\n",
              "      background-color: #434B5C;\n",
              "      box-shadow: 0px 1px 3px 1px rgba(0, 0, 0, 0.15);\n",
              "      filter: drop-shadow(0px 1px 2px rgba(0, 0, 0, 0.3));\n",
              "      fill: #FFFFFF;\n",
              "    }\n",
              "  </style>\n",
              "\n",
              "      <script>\n",
              "        const buttonEl =\n",
              "          document.querySelector('#df-91d3b268-9465-4f8c-b66b-ad2b2b7fe9c3 button.colab-df-convert');\n",
              "        buttonEl.style.display =\n",
              "          google.colab.kernel.accessAllowed ? 'block' : 'none';\n",
              "\n",
              "        async function convertToInteractive(key) {\n",
              "          const element = document.querySelector('#df-91d3b268-9465-4f8c-b66b-ad2b2b7fe9c3');\n",
              "          const dataTable =\n",
              "            await google.colab.kernel.invokeFunction('convertToInteractive',\n",
              "                                                     [key], {});\n",
              "          if (!dataTable) return;\n",
              "\n",
              "          const docLinkHtml = 'Like what you see? Visit the ' +\n",
              "            '<a target=\"_blank\" href=https://colab.research.google.com/notebooks/data_table.ipynb>data table notebook</a>'\n",
              "            + ' to learn more about interactive tables.';\n",
              "          element.innerHTML = '';\n",
              "          dataTable['output_type'] = 'display_data';\n",
              "          await google.colab.output.renderOutput(dataTable, element);\n",
              "          const docLink = document.createElement('div');\n",
              "          docLink.innerHTML = docLinkHtml;\n",
              "          element.appendChild(docLink);\n",
              "        }\n",
              "      </script>\n",
              "    </div>\n",
              "  </div>\n",
              "  "
            ]
          },
          "metadata": {},
          "execution_count": 92
        }
      ]
    },
    {
      "cell_type": "markdown",
      "source": [
        "A**LGORITHM IMPLEMENTATION STARTS: SVC, LOGISTIC REGRESSION, RANDOM TREE, DECISION TREE, KNN**"
      ],
      "metadata": {
        "id": "-GVMnsVdyMYX"
      }
    },
    {
      "cell_type": "markdown",
      "metadata": {
        "id": "GCxkkd2HvZTS"
      },
      "source": [
        "Default SVC"
      ]
    },
    {
      "cell_type": "code",
      "execution_count": null,
      "metadata": {
        "id": "zFT9sefR_K9l"
      },
      "outputs": [],
      "source": [
        "from sklearn.svm import SVC\n",
        "from sklearn.metrics import accuracy_score\n",
        "svc=SVC() "
      ]
    },
    {
      "cell_type": "code",
      "execution_count": null,
      "metadata": {
        "id": "Nys6p0zD_gfU",
        "colab": {
          "base_uri": "https://localhost:8080/"
        },
        "outputId": "fbd9b318-ddbf-4a00-e4ac-8d49767ae7d6"
      },
      "outputs": [
        {
          "output_type": "execute_result",
          "data": {
            "text/plain": [
              "SVC()"
            ]
          },
          "metadata": {},
          "execution_count": 94
        }
      ],
      "source": [
        "svc.fit(X_train,y_train)"
      ]
    },
    {
      "cell_type": "code",
      "execution_count": null,
      "metadata": {
        "id": "2xiSuLSI_eZ0"
      },
      "outputs": [],
      "source": [
        "y_pred=svc.predict(X_test)"
      ]
    },
    {
      "cell_type": "markdown",
      "source": [
        "Accuracy of Default SVC Model"
      ],
      "metadata": {
        "id": "liCu2Hxjioi5"
      }
    },
    {
      "cell_type": "code",
      "execution_count": null,
      "metadata": {
        "id": "T9qy-5ld_cdX",
        "colab": {
          "base_uri": "https://localhost:8080/"
        },
        "outputId": "6f6b9657-3bc9-4f4b-9ebe-4ab1ee57bfa5"
      },
      "outputs": [
        {
          "output_type": "stream",
          "name": "stdout",
          "text": [
            "Model accuracy score with default hyperparameters: 0.8670\n"
          ]
        }
      ],
      "source": [
        "print('Model accuracy score with default hyperparameters: {0:0.4f}'. format(accuracy_score(y_test, y_pred)))"
      ]
    },
    {
      "cell_type": "markdown",
      "metadata": {
        "id": "d_689q3YvUIV"
      },
      "source": [
        "SVC with Poly Kernel and C=10"
      ]
    },
    {
      "cell_type": "code",
      "execution_count": null,
      "metadata": {
        "id": "mmKC3Xfa_sR1"
      },
      "outputs": [],
      "source": [
        "poly_svc=SVC(kernel='poly', C=10.0) \n",
        "poly_svc.fit(X_train,y_train)\n",
        "y_pred=poly_svc.predict(X_test)"
      ]
    },
    {
      "cell_type": "markdown",
      "source": [
        "Testing Numerous Accuracy Test for Consistency"
      ],
      "metadata": {
        "id": "W6wOAFjHiZt9"
      }
    },
    {
      "cell_type": "code",
      "source": [
        "print('Accuracy Score with poly kernel and C=10.0 : {0:0.4f}'. format(accuracy_score(y_test, y_pred)))"
      ],
      "metadata": {
        "colab": {
          "base_uri": "https://localhost:8080/"
        },
        "id": "jfPv8AjiiYF4",
        "outputId": "262c6354-4a88-41cb-b550-0e85b263e5b3"
      },
      "execution_count": null,
      "outputs": [
        {
          "output_type": "stream",
          "name": "stdout",
          "text": [
            "Accuracy Score with poly kernel and C=10.0 : 0.8670\n"
          ]
        }
      ]
    },
    {
      "cell_type": "code",
      "execution_count": null,
      "metadata": {
        "id": "Mgu28QM9roKv",
        "colab": {
          "base_uri": "https://localhost:8080/"
        },
        "outputId": "5db4366c-72c3-4bda-bca0-bd0baf3da419"
      },
      "outputs": [
        {
          "output_type": "stream",
          "name": "stdout",
          "text": [
            "\\SVC Accuracy using Confusion Matrix :  0.867\n"
          ]
        }
      ],
      "source": [
        "from sklearn.metrics import confusion_matrix\n",
        "cm = confusion_matrix(y_test,y_pred)\n",
        "accuracy = float(cm.diagonal().sum())/len(y_test)\n",
        "print(\"\\SVC Accuracy using Confusion Matrix : \", accuracy)"
      ]
    },
    {
      "cell_type": "code",
      "source": [
        "cm"
      ],
      "metadata": {
        "colab": {
          "base_uri": "https://localhost:8080/"
        },
        "id": "BCJoEyEgdXhr",
        "outputId": "d14b1c37-978f-4dc6-9dce-1a8806da1268"
      },
      "execution_count": null,
      "outputs": [
        {
          "output_type": "execute_result",
          "data": {
            "text/plain": [
              "array([[1237,  532],\n",
              "       [   0, 2231]])"
            ]
          },
          "metadata": {},
          "execution_count": 100
        }
      ]
    },
    {
      "cell_type": "code",
      "execution_count": null,
      "metadata": {
        "id": "FBTcM0sO3moT",
        "colab": {
          "base_uri": "https://localhost:8080/"
        },
        "outputId": "db68169b-88f8-459b-e8c1-008661c9071c"
      },
      "outputs": [
        {
          "output_type": "stream",
          "name": "stdout",
          "text": [
            "\n",
            "SVC Accuracy using MAE :  0.133\n"
          ]
        }
      ],
      "source": [
        "#MAE\n",
        "from sklearn.metrics import mean_absolute_error\n",
        "mae = mean_absolute_error(y_test, y_pred)\n",
        "print(\"\\nSVC Accuracy using MAE : \", mae)"
      ]
    },
    {
      "cell_type": "code",
      "execution_count": null,
      "metadata": {
        "id": "45b3a21B4ESB",
        "colab": {
          "base_uri": "https://localhost:8080/"
        },
        "outputId": "dd905478-f332-4bdf-930d-e57ab4bacea1"
      },
      "outputs": [
        {
          "output_type": "stream",
          "name": "stdout",
          "text": [
            "\n",
            "SVC Accuracy using MAPE :  598978750440276.0\n"
          ]
        }
      ],
      "source": [
        "#MAPE\n",
        "from sklearn.metrics import mean_absolute_percentage_error\n",
        "mape = mean_absolute_percentage_error(y_test, y_pred)\n",
        "print(\"\\nSVC Accuracy using MAPE : \", mape)"
      ]
    },
    {
      "cell_type": "markdown",
      "metadata": {
        "id": "ty34CrbDvJf0"
      },
      "source": [
        "Gaussian SVM with rbf as Kernel"
      ]
    },
    {
      "cell_type": "code",
      "execution_count": null,
      "metadata": {
        "id": "hNSkKban8D1U"
      },
      "outputs": [],
      "source": [
        "svclassifier = SVC(kernel='rbf')\n",
        "svclassifier.fit(X_train, y_train)\n",
        "y_pred = svclassifier.predict(X_test)"
      ]
    },
    {
      "cell_type": "markdown",
      "source": [
        "Accuracy of rbf Kernel SVC"
      ],
      "metadata": {
        "id": "T5qhPVz8h8Dm"
      }
    },
    {
      "cell_type": "code",
      "execution_count": null,
      "metadata": {
        "id": "1Ay38jYv8Lju",
        "colab": {
          "base_uri": "https://localhost:8080/"
        },
        "outputId": "8936d03c-206f-4829-e739-30bfacc55c46"
      },
      "outputs": [
        {
          "output_type": "stream",
          "name": "stdout",
          "text": [
            "[[1242  527]\n",
            " [  40 2191]]\n",
            "              precision    recall  f1-score   support\n",
            "\n",
            "           0       0.97      0.70      0.81      1769\n",
            "           1       0.81      0.98      0.89      2231\n",
            "\n",
            "    accuracy                           0.86      4000\n",
            "   macro avg       0.89      0.84      0.85      4000\n",
            "weighted avg       0.88      0.86      0.85      4000\n",
            "\n"
          ]
        }
      ],
      "source": [
        "from sklearn.metrics import classification_report, confusion_matrix\n",
        "print(confusion_matrix(y_test, y_pred))\n",
        "print(classification_report(y_test, y_pred)) "
      ]
    },
    {
      "cell_type": "markdown",
      "metadata": {
        "id": "4Qu3FrGsu_pd"
      },
      "source": [
        "Logistic Regression"
      ]
    },
    {
      "cell_type": "code",
      "execution_count": null,
      "metadata": {
        "id": "yEnfIXnu-5Zh"
      },
      "outputs": [],
      "source": [
        "from sklearn.linear_model import LogisticRegression\n",
        "\n",
        "model = LogisticRegression(solver='liblinear', random_state=0)"
      ]
    },
    {
      "cell_type": "code",
      "execution_count": null,
      "metadata": {
        "id": "iykieJx7_NpE",
        "colab": {
          "base_uri": "https://localhost:8080/"
        },
        "outputId": "76a39fc3-18f6-496c-8572-f14a529597ff"
      },
      "outputs": [
        {
          "output_type": "execute_result",
          "data": {
            "text/plain": [
              "LogisticRegression(random_state=0, solver='liblinear')"
            ]
          },
          "metadata": {},
          "execution_count": 106
        }
      ],
      "source": [
        "model.fit(X, y)"
      ]
    },
    {
      "cell_type": "markdown",
      "source": [
        "Analyzing Features of Logistic Regression Model"
      ],
      "metadata": {
        "id": "BzepOTBAi8-o"
      }
    },
    {
      "cell_type": "code",
      "execution_count": null,
      "metadata": {
        "id": "iPUtF3IY_e5d",
        "colab": {
          "base_uri": "https://localhost:8080/"
        },
        "outputId": "84e560dc-7f73-42a2-fba1-39e59f3f1c53"
      },
      "outputs": [
        {
          "output_type": "execute_result",
          "data": {
            "text/plain": [
              "array([0, 1], dtype=uint8)"
            ]
          },
          "metadata": {},
          "execution_count": 107
        }
      ],
      "source": [
        "model.classes_"
      ]
    },
    {
      "cell_type": "code",
      "execution_count": null,
      "metadata": {
        "id": "HE-FWFia_mJb",
        "colab": {
          "base_uri": "https://localhost:8080/"
        },
        "outputId": "82e24c7f-cfa6-4801-fe59-4e05f90d1e66"
      },
      "outputs": [
        {
          "output_type": "execute_result",
          "data": {
            "text/plain": [
              "array([-0.00706983])"
            ]
          },
          "metadata": {},
          "execution_count": 108
        }
      ],
      "source": [
        "model.intercept_"
      ]
    },
    {
      "cell_type": "code",
      "execution_count": null,
      "metadata": {
        "id": "1AC3LTZ-_n7W",
        "colab": {
          "base_uri": "https://localhost:8080/"
        },
        "outputId": "75e3e2c4-94fa-4439-c182-e7df155bb0e8"
      },
      "outputs": [
        {
          "output_type": "execute_result",
          "data": {
            "text/plain": [
              "array([[ 0.08651801,  0.02415356, -0.04753057, -0.00785123, -0.22763185,\n",
              "         0.02090421, -0.1618732 , -0.50662532, -7.8395975 ]])"
            ]
          },
          "metadata": {},
          "execution_count": 109
        }
      ],
      "source": [
        "model.coef_"
      ]
    },
    {
      "cell_type": "markdown",
      "source": [
        "Testing Mutliple Accuracy Models for Consistency"
      ],
      "metadata": {
        "id": "jGTQlzlsjGGq"
      }
    },
    {
      "cell_type": "code",
      "execution_count": null,
      "metadata": {
        "id": "GGz4uymL_0N7",
        "colab": {
          "base_uri": "https://localhost:8080/"
        },
        "outputId": "362f1971-d827-4aad-8b88-645a2e54c6e9"
      },
      "outputs": [
        {
          "output_type": "execute_result",
          "data": {
            "text/plain": [
              "array([[0.19674333, 0.80325667],\n",
              "       [0.16504347, 0.83495653],\n",
              "       [0.21011123, 0.78988877],\n",
              "       ...,\n",
              "       [0.16906871, 0.83093129],\n",
              "       [0.15605866, 0.84394134],\n",
              "       [0.99844969, 0.00155031]])"
            ]
          },
          "metadata": {},
          "execution_count": 110
        }
      ],
      "source": [
        "model.predict_proba(X)"
      ]
    },
    {
      "cell_type": "code",
      "execution_count": null,
      "metadata": {
        "id": "ZQComhK9_8O2",
        "colab": {
          "base_uri": "https://localhost:8080/"
        },
        "outputId": "daa4df98-5bc5-4824-891d-b12177ac9999"
      },
      "outputs": [
        {
          "output_type": "execute_result",
          "data": {
            "text/plain": [
              "array([1, 1, 1, ..., 1, 1, 0], dtype=uint8)"
            ]
          },
          "metadata": {},
          "execution_count": 168
        }
      ],
      "source": [
        "predLog=model.predict(X)\n",
        "predLog"
      ]
    },
    {
      "cell_type": "code",
      "execution_count": null,
      "metadata": {
        "id": "ygTdPO2GAINH",
        "colab": {
          "base_uri": "https://localhost:8080/"
        },
        "outputId": "495f92bf-b227-4a04-b95b-04436c98a9a7"
      },
      "outputs": [
        {
          "output_type": "execute_result",
          "data": {
            "text/plain": [
              "array([[ 6230,  2658],\n",
              "       [    0, 11112]])"
            ]
          },
          "metadata": {},
          "execution_count": 112
        }
      ],
      "source": [
        "confusion_matrix(y, model.predict(X))"
      ]
    },
    {
      "cell_type": "code",
      "execution_count": null,
      "metadata": {
        "id": "cSVXG9qKAQq0",
        "colab": {
          "base_uri": "https://localhost:8080/"
        },
        "outputId": "60ecfab9-161e-4920-be09-480e6aaa7a1e"
      },
      "outputs": [
        {
          "output_type": "stream",
          "name": "stdout",
          "text": [
            "              precision    recall  f1-score   support\n",
            "\n",
            "           0       1.00      0.70      0.82      8888\n",
            "           1       0.81      1.00      0.89     11112\n",
            "\n",
            "    accuracy                           0.87     20000\n",
            "   macro avg       0.90      0.85      0.86     20000\n",
            "weighted avg       0.89      0.87      0.86     20000\n",
            "\n"
          ]
        }
      ],
      "source": [
        "print(classification_report(y, predLog))"
      ]
    },
    {
      "cell_type": "code",
      "execution_count": null,
      "metadata": {
        "id": "lP0eLEvoXPmm",
        "colab": {
          "base_uri": "https://localhost:8080/",
          "height": 332
        },
        "outputId": "b21c1ade-01fb-4f87-c161-331602c198f2"
      },
      "outputs": [
        {
          "output_type": "execute_result",
          "data": {
            "text/plain": [
              "           feature  feature_importance\n",
              "8           FELONY            8.083533\n",
              "7    STATEN ISLAND            0.473729\n",
              "4         BROOKLYN            0.208821\n",
              "0         Latitude            0.169811\n",
              "6           QUEENS            0.152771\n",
              "1        Longitude            0.070280\n",
              "2          Seasons            0.047212\n",
              "5        MANHATTAN            0.031334\n",
              "3  TimeOfComplaint            0.007827"
            ],
            "text/html": [
              "\n",
              "  <div id=\"df-464b7bb3-23f3-452b-b1f4-42433d6546ce\">\n",
              "    <div class=\"colab-df-container\">\n",
              "      <div>\n",
              "<style scoped>\n",
              "    .dataframe tbody tr th:only-of-type {\n",
              "        vertical-align: middle;\n",
              "    }\n",
              "\n",
              "    .dataframe tbody tr th {\n",
              "        vertical-align: top;\n",
              "    }\n",
              "\n",
              "    .dataframe thead th {\n",
              "        text-align: right;\n",
              "    }\n",
              "</style>\n",
              "<table border=\"1\" class=\"dataframe\">\n",
              "  <thead>\n",
              "    <tr style=\"text-align: right;\">\n",
              "      <th></th>\n",
              "      <th>feature</th>\n",
              "      <th>feature_importance</th>\n",
              "    </tr>\n",
              "  </thead>\n",
              "  <tbody>\n",
              "    <tr>\n",
              "      <th>8</th>\n",
              "      <td>FELONY</td>\n",
              "      <td>8.083533</td>\n",
              "    </tr>\n",
              "    <tr>\n",
              "      <th>7</th>\n",
              "      <td>STATEN ISLAND</td>\n",
              "      <td>0.473729</td>\n",
              "    </tr>\n",
              "    <tr>\n",
              "      <th>4</th>\n",
              "      <td>BROOKLYN</td>\n",
              "      <td>0.208821</td>\n",
              "    </tr>\n",
              "    <tr>\n",
              "      <th>0</th>\n",
              "      <td>Latitude</td>\n",
              "      <td>0.169811</td>\n",
              "    </tr>\n",
              "    <tr>\n",
              "      <th>6</th>\n",
              "      <td>QUEENS</td>\n",
              "      <td>0.152771</td>\n",
              "    </tr>\n",
              "    <tr>\n",
              "      <th>1</th>\n",
              "      <td>Longitude</td>\n",
              "      <td>0.070280</td>\n",
              "    </tr>\n",
              "    <tr>\n",
              "      <th>2</th>\n",
              "      <td>Seasons</td>\n",
              "      <td>0.047212</td>\n",
              "    </tr>\n",
              "    <tr>\n",
              "      <th>5</th>\n",
              "      <td>MANHATTAN</td>\n",
              "      <td>0.031334</td>\n",
              "    </tr>\n",
              "    <tr>\n",
              "      <th>3</th>\n",
              "      <td>TimeOfComplaint</td>\n",
              "      <td>0.007827</td>\n",
              "    </tr>\n",
              "  </tbody>\n",
              "</table>\n",
              "</div>\n",
              "      <button class=\"colab-df-convert\" onclick=\"convertToInteractive('df-464b7bb3-23f3-452b-b1f4-42433d6546ce')\"\n",
              "              title=\"Convert this dataframe to an interactive table.\"\n",
              "              style=\"display:none;\">\n",
              "        \n",
              "  <svg xmlns=\"http://www.w3.org/2000/svg\" height=\"24px\"viewBox=\"0 0 24 24\"\n",
              "       width=\"24px\">\n",
              "    <path d=\"M0 0h24v24H0V0z\" fill=\"none\"/>\n",
              "    <path d=\"M18.56 5.44l.94 2.06.94-2.06 2.06-.94-2.06-.94-.94-2.06-.94 2.06-2.06.94zm-11 1L8.5 8.5l.94-2.06 2.06-.94-2.06-.94L8.5 2.5l-.94 2.06-2.06.94zm10 10l.94 2.06.94-2.06 2.06-.94-2.06-.94-.94-2.06-.94 2.06-2.06.94z\"/><path d=\"M17.41 7.96l-1.37-1.37c-.4-.4-.92-.59-1.43-.59-.52 0-1.04.2-1.43.59L10.3 9.45l-7.72 7.72c-.78.78-.78 2.05 0 2.83L4 21.41c.39.39.9.59 1.41.59.51 0 1.02-.2 1.41-.59l7.78-7.78 2.81-2.81c.8-.78.8-2.07 0-2.86zM5.41 20L4 18.59l7.72-7.72 1.47 1.35L5.41 20z\"/>\n",
              "  </svg>\n",
              "      </button>\n",
              "      \n",
              "  <style>\n",
              "    .colab-df-container {\n",
              "      display:flex;\n",
              "      flex-wrap:wrap;\n",
              "      gap: 12px;\n",
              "    }\n",
              "\n",
              "    .colab-df-convert {\n",
              "      background-color: #E8F0FE;\n",
              "      border: none;\n",
              "      border-radius: 50%;\n",
              "      cursor: pointer;\n",
              "      display: none;\n",
              "      fill: #1967D2;\n",
              "      height: 32px;\n",
              "      padding: 0 0 0 0;\n",
              "      width: 32px;\n",
              "    }\n",
              "\n",
              "    .colab-df-convert:hover {\n",
              "      background-color: #E2EBFA;\n",
              "      box-shadow: 0px 1px 2px rgba(60, 64, 67, 0.3), 0px 1px 3px 1px rgba(60, 64, 67, 0.15);\n",
              "      fill: #174EA6;\n",
              "    }\n",
              "\n",
              "    [theme=dark] .colab-df-convert {\n",
              "      background-color: #3B4455;\n",
              "      fill: #D2E3FC;\n",
              "    }\n",
              "\n",
              "    [theme=dark] .colab-df-convert:hover {\n",
              "      background-color: #434B5C;\n",
              "      box-shadow: 0px 1px 3px 1px rgba(0, 0, 0, 0.15);\n",
              "      filter: drop-shadow(0px 1px 2px rgba(0, 0, 0, 0.3));\n",
              "      fill: #FFFFFF;\n",
              "    }\n",
              "  </style>\n",
              "\n",
              "      <script>\n",
              "        const buttonEl =\n",
              "          document.querySelector('#df-464b7bb3-23f3-452b-b1f4-42433d6546ce button.colab-df-convert');\n",
              "        buttonEl.style.display =\n",
              "          google.colab.kernel.accessAllowed ? 'block' : 'none';\n",
              "\n",
              "        async function convertToInteractive(key) {\n",
              "          const element = document.querySelector('#df-464b7bb3-23f3-452b-b1f4-42433d6546ce');\n",
              "          const dataTable =\n",
              "            await google.colab.kernel.invokeFunction('convertToInteractive',\n",
              "                                                     [key], {});\n",
              "          if (!dataTable) return;\n",
              "\n",
              "          const docLinkHtml = 'Like what you see? Visit the ' +\n",
              "            '<a target=\"_blank\" href=https://colab.research.google.com/notebooks/data_table.ipynb>data table notebook</a>'\n",
              "            + ' to learn more about interactive tables.';\n",
              "          element.innerHTML = '';\n",
              "          dataTable['output_type'] = 'display_data';\n",
              "          await google.colab.output.renderOutput(dataTable, element);\n",
              "          const docLink = document.createElement('div');\n",
              "          docLink.innerHTML = docLinkHtml;\n",
              "          element.appendChild(docLink);\n",
              "        }\n",
              "      </script>\n",
              "    </div>\n",
              "  </div>\n",
              "  "
            ]
          },
          "metadata": {},
          "execution_count": 116
        }
      ],
      "source": [
        "# Analyzing Feature Importance of Logistic Regression Model\n",
        "model=LogisticRegression(random_state=1)\n",
        "model.fit(X,y)\n",
        "feature_importance=pd.DataFrame({'feature':list(X.columns),'feature_importance':[abs(i) for i in model.coef_[0]]})\n",
        "feature_importance.sort_values('feature_importance',ascending=False)"
      ]
    },
    {
      "cell_type": "markdown",
      "source": [
        "Decision Tree Analysis "
      ],
      "metadata": {
        "id": "u4PFNusioA3U"
      }
    },
    {
      "cell_type": "code",
      "source": [
        "from sklearn import metrics\n",
        "from sklearn import tree"
      ],
      "metadata": {
        "id": "laE1e2-cTa1E"
      },
      "execution_count": null,
      "outputs": []
    },
    {
      "cell_type": "code",
      "source": [
        "#Creating the variable for Decision Tree Classifier object\n",
        "classifier = tree.DecisionTreeClassifier(max_depth = 10,criterion='entropy')  #This parameter allows us to use the different-different attribute selection measure. Supported criteria are “gini” for the Gini index and “entropy” for the information gain.\n",
        "#Fit X_train and Y_train to the classifier\n",
        "classifier.fit(X_train, y_train)\n",
        "#Making the prediction on X_test\n",
        "y_pred = classifier.predict(X_test)\n",
        "#Making the prediction on X_train\n",
        "y_pred1 = classifier.predict(X_train)\n",
        "#comparing actual response values (y_train with predicted response values (y_pred1)\n",
        "DF_Train =  metrics.accuracy_score(y_train, y_pred1)*100\n",
        "print(\"Decision Tree model accuracy(in %) for Training:\",DF_Train)\n",
        "#comparing actual response values (y_test) with predicted response values (y_pred)\n",
        "DF_Test = metrics.accuracy_score(y_test, y_pred)*100\n",
        "print(\"Descision Tree  model accuracy(in %) for Testing:\", DF_Test)"
      ],
      "metadata": {
        "colab": {
          "base_uri": "https://localhost:8080/"
        },
        "id": "b-ElxXpPTYy6",
        "outputId": "5f1dda67-34ba-44e6-850c-1fe2d319f00c"
      },
      "execution_count": null,
      "outputs": [
        {
          "output_type": "stream",
          "name": "stdout",
          "text": [
            "Decision Tree model accuracy(in %) for Training: 87.48125\n",
            "Descision Tree  model accuracy(in %) for Testing: 85.82499999999999\n"
          ]
        }
      ]
    },
    {
      "cell_type": "code",
      "source": [
        "##Confusion Matrix is the number of correct and incorrect predictions made by a classifier\n",
        "result = confusion_matrix(y_test, y_pred)\n",
        "print(\"Confusion Matrix for Decision Tree:\")\n",
        "print(result)\n",
        "#Getting the classification report\n",
        "result1 = classification_report(y_test, y_pred)\n",
        "print(\"Classification Report for Decision Tree:\",)\n",
        "print (result1)\n",
        "#Overall accuracy\n",
        "result2 = accuracy_score(y_test,y_pred)\n",
        "print(\"Overall Accuracy For Decision Tree:\",result2)"
      ],
      "metadata": {
        "colab": {
          "base_uri": "https://localhost:8080/"
        },
        "id": "F3oLdLq7TsfE",
        "outputId": "c211e788-60e9-4416-e821-080124a6ebab"
      },
      "execution_count": null,
      "outputs": [
        {
          "output_type": "stream",
          "name": "stdout",
          "text": [
            "Confusion Matrix for Decision Tree:\n",
            "[[1242  527]\n",
            " [  40 2191]]\n",
            "Classification Report for Decision Tree:\n",
            "              precision    recall  f1-score   support\n",
            "\n",
            "           0       0.97      0.70      0.81      1769\n",
            "           1       0.81      0.98      0.89      2231\n",
            "\n",
            "    accuracy                           0.86      4000\n",
            "   macro avg       0.89      0.84      0.85      4000\n",
            "weighted avg       0.88      0.86      0.85      4000\n",
            "\n",
            "Overall Accuracy For Decision Tree: 0.85825\n"
          ]
        }
      ]
    },
    {
      "cell_type": "code",
      "source": [
        "FP = result.sum(axis=0) - np.diag(result) \n",
        "FN = result.sum(axis=1) - np.diag(result)\n",
        "TP = np.diag(result)\n",
        "TN = result.sum() - (FP + FN + TP)\n",
        "FP = FP.astype(float)\n",
        "FN = FN.astype(float)\n",
        "TP = TP.astype(float)\n",
        "TN = TN.astype(float)\n",
        "total=sum(sum(result))\n",
        "# Sensitivity, hit rate, recall, or true positive rate\n",
        "TPR = ((TP/(TP+FN))).mean()*100\n",
        "# Specificity or true negative rate\n",
        "TNR = ((TN/(TN+FP))).mean()*100 \n",
        "\n",
        "print('Sensitivity:' ,TPR)\n",
        "print('Specificity: ' ,TNR)\n"
      ],
      "metadata": {
        "colab": {
          "base_uri": "https://localhost:8080/"
        },
        "id": "u1_TwON4T04E",
        "outputId": "646c064c-bed8-47de-ca74-6b474d67576f"
      },
      "execution_count": null,
      "outputs": [
        {
          "output_type": "stream",
          "name": "stdout",
          "text": [
            "Sensitivity: 84.20811987111058\n",
            "Specificity:  84.20811987111058\n"
          ]
        }
      ]
    },
    {
      "cell_type": "code",
      "source": [
        "from statsmodels.stats.outliers_influence import variance_inflation_factor\n",
        "vif_data = [variance_inflation_factor(df_w.values, i)\n",
        "                          for i in range(len(df_w.columns))]"
      ],
      "metadata": {
        "id": "xyh-0XVD_4Vq"
      },
      "execution_count": null,
      "outputs": []
    },
    {
      "cell_type": "code",
      "source": [
        "vif_data"
      ],
      "metadata": {
        "colab": {
          "base_uri": "https://localhost:8080/"
        },
        "id": "_ctoRI28_-cF",
        "outputId": "b22ff734-51b0-4346-af38-18b161cecede"
      },
      "execution_count": null,
      "outputs": [
        {
          "output_type": "execute_result",
          "data": {
            "text/plain": [
              "[782478.4429306891,\n",
              " 787468.0608466994,\n",
              " 3.085171341096872,\n",
              " 4.954721165148749,\n",
              " 8.87649477200875,\n",
              " 3.523477942113176,\n",
              " 2.818891550057594,\n",
              " 4.205186298139929,\n",
              " 3.3612316987800264,\n",
              " 5.191187314711044]"
            ]
          },
          "metadata": {},
          "execution_count": 124
        }
      ]
    },
    {
      "cell_type": "code",
      "source": [
        "df_w.columns"
      ],
      "metadata": {
        "colab": {
          "base_uri": "https://localhost:8080/"
        },
        "id": "qCU-WqkaAKUa",
        "outputId": "4fa21326-d3c7-47d3-8c5d-6387f5690a44"
      },
      "execution_count": null,
      "outputs": [
        {
          "output_type": "execute_result",
          "data": {
            "text/plain": [
              "Index(['Latitude', 'Longitude', 'Seasons', 'TimeOfComplaint', 'BROOKLYN',\n",
              "       'MANHATTAN', 'QUEENS', 'STATEN ISLAND', 'FELONY', 'MISDEMEANOR'],\n",
              "      dtype='object')"
            ]
          },
          "metadata": {},
          "execution_count": 125
        }
      ]
    },
    {
      "cell_type": "markdown",
      "source": [
        "Random Forest Classifier "
      ],
      "metadata": {
        "id": "Pw9z0TrSL6D_"
      }
    },
    {
      "cell_type": "code",
      "source": [
        "from sklearn.ensemble import RandomForestClassifier\n",
        "rf_clf = RandomForestClassifier(criterion='entropy')   \n",
        "rf_clf.fit(X_train,y_train)"
      ],
      "metadata": {
        "colab": {
          "base_uri": "https://localhost:8080/"
        },
        "id": "wtU1INpgLFwU",
        "outputId": "8c84e5f1-65fa-4028-f4ed-60a2f374d02b"
      },
      "execution_count": null,
      "outputs": [
        {
          "output_type": "execute_result",
          "data": {
            "text/plain": [
              "RandomForestClassifier(criterion='entropy')"
            ]
          },
          "metadata": {},
          "execution_count": 126
        }
      ]
    },
    {
      "cell_type": "code",
      "source": [
        "y_predict = rf_clf.predict(X_test)"
      ],
      "metadata": {
        "id": "j4QJXIaOLJTO"
      },
      "execution_count": null,
      "outputs": []
    },
    {
      "cell_type": "code",
      "source": [
        "from sklearn.metrics import accuracy_score,classification_report,confusion_matrix\n",
        "accuracy_score(y_test,y_predict)"
      ],
      "metadata": {
        "colab": {
          "base_uri": "https://localhost:8080/"
        },
        "id": "lkU0u0eILnBh",
        "outputId": "18af17b1-5e17-4748-f523-5a924a20d3a3"
      },
      "execution_count": null,
      "outputs": [
        {
          "output_type": "execute_result",
          "data": {
            "text/plain": [
              "0.84875"
            ]
          },
          "metadata": {},
          "execution_count": 128
        }
      ]
    },
    {
      "cell_type": "markdown",
      "source": [
        "K Nearest Neighbour"
      ],
      "metadata": {
        "id": "i1OpqEcpVGAB"
      }
    },
    {
      "cell_type": "code",
      "source": [
        "from sklearn.neighbors import KNeighborsClassifier\n",
        "\n",
        "knnClass = KNeighborsClassifier(p=1,n_neighbors=15)\n",
        " \n",
        "knnClass.fit(X_train, y_train)\n",
        " \n",
        "predictKNN =knnClass.predict(X_test)"
      ],
      "metadata": {
        "id": "2QlzBp4FUohC"
      },
      "execution_count": null,
      "outputs": []
    },
    {
      "cell_type": "code",
      "source": [
        "predictKNN"
      ],
      "metadata": {
        "colab": {
          "base_uri": "https://localhost:8080/"
        },
        "id": "u19sVBldWDeO",
        "outputId": "4d91c313-5f18-4d6e-cf60-95ff64f969c4"
      },
      "execution_count": null,
      "outputs": [
        {
          "output_type": "execute_result",
          "data": {
            "text/plain": [
              "array([0, 1, 0, ..., 0, 0, 1], dtype=uint8)"
            ]
          },
          "metadata": {},
          "execution_count": 147
        }
      ]
    },
    {
      "cell_type": "code",
      "source": [
        "accuracy_score(y_test,predictKNN)"
      ],
      "metadata": {
        "colab": {
          "base_uri": "https://localhost:8080/"
        },
        "id": "FT9Iw3OvrS5L",
        "outputId": "f15c33b2-bc9a-4122-87c6-7bf16c93d030"
      },
      "execution_count": null,
      "outputs": [
        {
          "output_type": "execute_result",
          "data": {
            "text/plain": [
              "0.86275"
            ]
          },
          "metadata": {},
          "execution_count": 165
        }
      ]
    },
    {
      "cell_type": "code",
      "source": [
        "fpr, tpr, thresholds = roc_curve(y_test, predictKNN)\n",
        "fig, ax = plt.subplots()\n",
        "ax.plot(fpr, tpr)\n",
        "ax.plot([0, 1], [0, 1], transform=ax.transAxes, ls=\"--\", c=\".3\")\n",
        "plt.xlim([0.0, 1.0])\n",
        "plt.ylim([0.0, 1.0])\n",
        "plt.rcParams['font.size'] = 12\n",
        "plt.title('ROC curve for Crime classifier')\n",
        "plt.xlabel('False Positives')\n",
        "plt.ylabel('True Positives')\n",
        "plt.grid(True)"
      ],
      "metadata": {
        "colab": {
          "base_uri": "https://localhost:8080/",
          "height": 302
        },
        "id": "n1UFlOXsU7c9",
        "outputId": "7a12bdc3-8588-4571-d342-09113ef378e7"
      },
      "execution_count": null,
      "outputs": [
        {
          "output_type": "display_data",
          "data": {
            "text/plain": [
              "<Figure size 432x288 with 1 Axes>"
            ],
            "image/png": "[encoded data removed]"
          },
          "metadata": {
            "needs_background": "light"
          }
        }
      ]
    },
    {
      "cell_type": "code",
      "source": [
        "auc(fpr, tpr)"
      ],
      "metadata": {
        "colab": {
          "base_uri": "https://localhost:8080/"
        },
        "id": "DWKV4SMgY7m9",
        "outputId": "87b1a67e-9310-40f0-9201-762aaf98e46f"
      },
      "execution_count": null,
      "outputs": [
        {
          "output_type": "execute_result",
          "data": {
            "text/plain": [
              "0.8462323257840405"
            ]
          },
          "metadata": {},
          "execution_count": 175
        }
      ]
    },
    {
      "cell_type": "code",
      "source": [
        "sns.scatterplot(data=df_d, x='BORO_NM',y='Seasons', hue='LAW_CAT_CD')"
      ],
      "metadata": {
        "colab": {
          "base_uri": "https://localhost:8080/",
          "height": 72
        },
        "id": "oL1dPXQ5LBtB",
        "outputId": "ef3fb85a-0c09-4f74-e057-337588520464"
      },
      "execution_count": null,
      "outputs": [
        {
          "output_type": "execute_result",
          "data": {
            "text/plain": [
              "<matplotlib.axes._subplots.AxesSubplot at 0x7fd3ae6d4410>"
            ]
          },
          "metadata": {},
          "execution_count": 195
        },
        {
          "output_type": "display_data",
          "data": {
            "text/plain": [
              "<Figure size 432x288 with 1 Axes>"
            ],
            "image/png": "[encoded data removed]"
          },
          "metadata": {
            "needs_background": "light"
          }
        }
      ]
    }
  ],
  "metadata": {
    "colab": {
      "provenance": []
    },
    "kernelspec": {
      "display_name": "Python 3",
      "name": "python3"
    },
    "language_info": {
      "name": "python"
    }
  },
  "nbformat": 4,
  "nbformat_minor": 0
}